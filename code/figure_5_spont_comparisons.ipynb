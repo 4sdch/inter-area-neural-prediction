{
 "cells": [
  {
   "cell_type": "code",
   "execution_count": 1,
   "id": "2ebad866",
   "metadata": {},
   "outputs": [],
   "source": [
    "main_dir = 'project_folder/'\n",
    "func_dir = main_dir + 'utils/'\n",
    "\n",
    "import sys\n",
    "sys.path.insert(0,func_dir)\n"
   ]
  },
  {
   "cell_type": "markdown",
   "id": "be6fbd3b",
   "metadata": {},
   "source": [
    "## Functions"
   ]
  },
  {
   "cell_type": "markdown",
   "id": "19bc5016",
   "metadata": {},
   "source": [
    "### analysis functions"
   ]
  },
  {
   "cell_type": "code",
   "execution_count": 12,
   "id": "9d80bbf7",
   "metadata": {},
   "outputs": [],
   "source": [
    "all_frames_reduced = {'SNR': 5, 'SNR_spont': 5, 'RS': 20, \n",
    "                      'RS_open':20, 'RS_closed': 20, \n",
    "                      'RF_thin':25, 'RF_large':25}\n",
    "all_ini_stim_offs = {'SNR': 400, 'SNR_spont': 200, 'RS': None,\n",
    "                      'RS_open':None, 'RS_closed': None, \n",
    "                      'RF_thin':1000, 'RF_large':1000, 'RF_thin_spont':200,'RF_large_spont':200}\n",
    "\n",
    "condition_types =['SNR', 'SNR_spont', 'RS', 'RS_open', 'RS_closed', 'RF_thin', 'RF_large','RF_thin_spont','RF_large_spont']\n"
   ]
  },
  {
   "cell_type": "code",
   "execution_count": 16,
   "id": "59bfc24e",
   "metadata": {},
   "outputs": [],
   "source": [
    "import numpy as np\n",
    "def get_subsamples(resp_array1, resp_array2, date, frame_lengths, seed=None):\n",
    "    \"\"\"gets frames subsamples from the different stimulus type recordings\n",
    "\n",
    "    Args:\n",
    "        resp_array1 (_type_): recording from area 1\n",
    "        resp_array2 (_type_): recording from area 2\n",
    "        date (_type_): date belonging to recording activity\n",
    "        frame_lengths (_type_): dictionary containing the number of frames to subsample\n",
    "        seed (_type_, optional): Defaults to None.\n",
    "\n",
    "    Returns:\n",
    "        resp_array1_subsampled, resp_array2_subsamped\n",
    "    \"\"\"\n",
    "    if seed is not None:\n",
    "        np.random.seed(seed)\n",
    "    start_idx = np.random.randint(0,len(resp_array1)-frame_lengths[date])\n",
    "    stop_idx = start_idx + frame_lengths[date]\n",
    "    return resp_array1[start_idx:stop_idx], resp_array2[start_idx:stop_idx]\n",
    "    "
   ]
  },
  {
   "cell_type": "code",
   "execution_count": 14,
   "id": "81d61b4f",
   "metadata": {},
   "outputs": [],
   "source": [
    "from ridge_regression_functions import get_best_alpha_evars\n",
    "def process_evar_subsample_seeds(input_resp, pred_resp, date, min_lengths, seed, alphas, condition_type, n_splits=10, control_shuffle=False):\n",
    "    \"\"\"gets the inter-area prediction by subsampling frame size to make sure all stimulus types have a controlled training size\n",
    "\n",
    "    Args:\n",
    "        input_resp (_type_): area1 activity shaped (n_frames, n_neurons_or_sites)\n",
    "        pred_resp (_type_): area2 activity shaped (n_frames, n_neurons_or_sites)\n",
    "        date (_type_): date of recording\n",
    "        min_lengths (_type_): _description_\n",
    "        seed (_type_): _description_\n",
    "        alphas (_type_): _description_\n",
    "        condition_type (_type_): _description_\n",
    "        n_splits (int, optional): _description_. Defaults to 10.\n",
    "        control_shuffle (bool, optional): _description_. Defaults to False.\n",
    "\n",
    "    Returns:\n",
    "        _type_: the prediction performances from both area1 and area2\n",
    "    \"\"\"\n",
    "    pred_resp_sub, input_resp_sub= get_subsamples(pred_resp, input_resp, date, min_lengths, seed=seed)\n",
    "        \n",
    "    _, pred_evars = get_best_alpha_evars(input_resp_sub, pred_resp_sub, n_splits=n_splits, \n",
    "                                                    frames_reduced = all_frames_reduced[condition_type],\n",
    "                                                    alphas=alphas, control_shuffle=control_shuffle)\n",
    "    _, input_evars = get_best_alpha_evars(pred_resp_sub, input_resp_sub, n_splits=n_splits, \n",
    "                                                    frames_reduced = all_frames_reduced[condition_type],\n",
    "                                                    alphas=alphas, control_shuffle=control_shuffle)\n",
    "    return pred_evars, input_evars"
   ]
  },
  {
   "cell_type": "markdown",
   "id": "72f576fe",
   "metadata": {},
   "source": [
    "### plotting functions"
   ]
  },
  {
   "cell_type": "code",
   "execution_count": 135,
   "id": "cbfffe09",
   "metadata": {},
   "outputs": [],
   "source": [
    "import pandas as pd\n",
    "def extract_mouse_name(input_string):\n",
    "    index_of_MP = input_string.find('MP')\n",
    "    return input_string[index_of_MP:index_of_MP + 5] if index_of_MP != -1 and index_of_MP + 5 <= len(input_string) else None\n",
    "def get_property_dataset_type(input_string):\n",
    "    if 'spont' in input_string:\n",
    "        return input_string.replace('_spont','')\n",
    "    else:\n",
    "        return input_string \n",
    "def make_mouse_df(mouse_stats_, dataset_types=['ori32','natimg32']):\n",
    "    data = []\n",
    "    for dataset_type in dataset_types:\n",
    "        if 'spont' in dataset_type:\n",
    "            act_type = 'gray screen'\n",
    "        else:\n",
    "            act_type = 'stimulus'\n",
    "        for mouse, areas_data in mouse_stats_[dataset_type].items():\n",
    "            mouse_name = extract_mouse_name(mouse)\n",
    "            for area, values in areas_data.items():\n",
    "                if area=='L23':\n",
    "                    direction = 'L4→L2/3'\n",
    "                    area_ = 'L2/3'\n",
    "                else:\n",
    "                    direction = 'L2/3→L4'\n",
    "                    area_=area\n",
    "                split_half_rs = mouse_stats[get_property_dataset_type(dataset_type)][mouse][area]['split_half_r']\n",
    "                SNRs = mouse_stats[get_property_dataset_type(dataset_type)][mouse][area]['SNR_meanspont']\n",
    "                for split_half_r, snr,max_corr_val, evar, null_evar in zip(split_half_rs, SNRs,values['max_corr_val'],values['evars'],values['evars_null']):\n",
    "                    data.append({\n",
    "                        'Dataset Type': dataset_type,\n",
    "                        'Activity Type': act_type,\n",
    "                        'Mouse': mouse,\n",
    "                        'Mouse Name':mouse_name,\n",
    "                        'Area': area_,\n",
    "                        'Direction':direction,\n",
    "                        'EV': evar,\n",
    "                        'SNR': snr,\n",
    "                        'Split-half r': split_half_r,\n",
    "                        'max corr. val':max_corr_val,\n",
    "                        'control_shuffle':False, \n",
    "                    })\n",
    "                    data.append({\n",
    "                        'Dataset Type': dataset_type,\n",
    "                        'Activity Type': act_type,\n",
    "                        'Mouse': mouse,\n",
    "                        'Mouse Name':mouse_name,\n",
    "                        'Area': area_,\n",
    "                        'Direction':direction,\n",
    "                        'EV': null_evar,\n",
    "                        'SNR': snr,\n",
    "                        'Split-half r': split_half_r,\n",
    "                        'max corr. val':max_corr_val,\n",
    "                        'control_shuffle':True, \n",
    "                    })\n",
    "    # Create a DataFrame from the flattened data\n",
    "    df_mouse_all = pd.DataFrame(data)\n",
    "    return df_mouse_all\n",
    "\n",
    "def get_property_dataset_type_monkey(input_string):\n",
    "    if 'spont' in input_string:\n",
    "        return input_string.replace('_spont','')\n",
    "    elif 'RS' in input_string:\n",
    "        return 'SNR'\n",
    "    else:\n",
    "        return input_string \n",
    "\n",
    "def make_monkey_df(monkey_stats_, dataset_types=['SNR', 'RF_thin', 'RF_large'], spont_comparisons=False):\n",
    "    data = []\n",
    "    for dataset_type in dataset_types:\n",
    "        if 'spont' in dataset_type:\n",
    "            act_type = 'gray screen'\n",
    "        elif dataset_type=='RS':\n",
    "            act_type = 'lights off'\n",
    "        elif dataset_type =='RS_open':\n",
    "            act_type = 'lights off\\neyes open'\n",
    "        elif dataset_type =='RS_closed':\n",
    "            act_type = 'lights off\\neyes closed'\n",
    "        else:\n",
    "            act_type = 'stimulus'\n",
    "        for date, areas_data in monkey_stats_[dataset_type].items():\n",
    "            for area, values in areas_data.items():\n",
    "                if area=='V4':\n",
    "                    direction = 'V1→V4'\n",
    "                else:\n",
    "                    direction = 'V4→V1'\n",
    "                split_half_rs = monkey_stats_[get_property_dataset_type_monkey(dataset_type)][date][area]['split_half_r']\n",
    "                SNRs = monkey_stats_[get_property_dataset_type_monkey(dataset_type)][date][area]['SNR_meanspont']\n",
    "                if spont_comparisons is True:\n",
    "                    if 'spont' not in dataset_type or 'RS' in dataset_type:\n",
    "                        evars = values['spont_comparison_evars']\n",
    "                        evars_null = values['spont_comparison_evars_null']\n",
    "                        if len(evars.shape)>1:\n",
    "                            evars = np.mean(evars, axis=0)\n",
    "                            evars_null = np.mean(evars_null, axis=0)\n",
    "                    else:\n",
    "                        evars = values['evars']\n",
    "                        evars_null = values['evars_null']\n",
    "                else:\n",
    "                    evars = values['evars']\n",
    "                    evars_null = values['evars_null']\n",
    "                \n",
    "                for split_half_r, snr,max_corr_val, evar, null_evar in zip(split_half_rs, SNRs,values['max_corr_val'],evars,evars_null):\n",
    "                    data.append({\n",
    "                        'Dataset Type': dataset_type,\n",
    "                        'Activity Type': act_type,\n",
    "                        'Date':date,\n",
    "                        'Area': area,\n",
    "                        'Direction':direction,\n",
    "                        'EV': evar,\n",
    "                        'SNR': snr,\n",
    "                        'max corr. val':max_corr_val,\n",
    "                        'Split-half r': split_half_r,\n",
    "                        'control_shuffle':False, \n",
    "                    })\n",
    "                    data.append({\n",
    "                        'Dataset Type': dataset_type,\n",
    "                        'Activity Type': act_type,\n",
    "                        'Date': date,\n",
    "                        'Area': area,\n",
    "                        'Direction':direction,\n",
    "                        'EV': null_evar,\n",
    "                        'SNR': snr,\n",
    "                        'max corr. val':max_corr_val,\n",
    "                        'Split-half r': split_half_r,\n",
    "                        'control_shuffle':True, \n",
    "                    })\n",
    "    # Create a DataFrame from the flattened data\n",
    "    df_monkey_all = pd.DataFrame(data)\n",
    "    return df_monkey_all"
   ]
  },
  {
   "cell_type": "code",
   "execution_count": 48,
   "id": "b0fe38a7",
   "metadata": {},
   "outputs": [],
   "source": [
    "def perm_test(group1, group2):\n",
    "    # Observed test statistic (e.g., difference in means)\n",
    "    observed_statistic = np.nanmean(group1) - np.nanmean(group2)\n",
    "    # Number of permutations to perform\n",
    "    num_permutations = 10000\n",
    "    # Create an array to store the permuted test statistics\n",
    "    permuted_statistics = np.zeros(num_permutations)\n",
    "    # Combine the data from both groups\n",
    "    combined_data = np.concatenate((group1, group2))\n",
    "    # Perform the permutation test\n",
    "    for i in range(num_permutations):\n",
    "        # Randomly shuffle the combined data\n",
    "        np.random.shuffle(combined_data)\n",
    "    \n",
    "        # Split the shuffled data back into two groups\n",
    "        permuted_group1 = combined_data[:len(group1)]\n",
    "        permuted_group2 = combined_data[len(group1):]\n",
    "        \n",
    "        # Calculate the test statistic for this permutation\n",
    "        permuted_statistic = np.nanmean(permuted_group1) - np.nanmean(permuted_group2)\n",
    "        \n",
    "        # Store the permuted test statistic\n",
    "        permuted_statistics[i] = permuted_statistic\n",
    "\n",
    "    # Calculate the p-value by comparing the observed statistic to the permuted distribution\n",
    "    p_value = (np.abs(permuted_statistics) >= np.abs(observed_statistic)).mean()\n",
    "\n",
    "    return p_value\n",
    "\n",
    "def perm_test_paired(group1, group2):\n",
    "    # Observed test statistic (e.g., difference in means)\n",
    "    observed_statistic = np.nanmean(group2-group1)\n",
    "\n",
    "    # Number of permutations to perform\n",
    "    num_permutations = 10000\n",
    "\n",
    "    # Create an array to store the permuted test statistics\n",
    "    permuted_statistics = np.zeros(num_permutations)\n",
    "\n",
    "    # Combine the differences\n",
    "    pooled_differences = group2-group1\n",
    "    \n",
    "    # Perform the permutation test\n",
    "    for i in range(num_permutations):\n",
    "        # shuffle differences\n",
    "        permuted_differences = pooled_differences * np.random.choice([-1, 1], size=len(pooled_differences))\n",
    "        \n",
    "        # Recalculate mean difference for the permuted dataset\n",
    "        permuted_mean_difference = np.nanmean(permuted_differences)\n",
    "    \n",
    "        # Store the permuted mean difference\n",
    "        permuted_statistics[i] = permuted_mean_difference\n",
    "\n",
    "    # Calculate the p-value by comparing the observed statistic to the permuted distribution\n",
    "    p_value = (np.abs(permuted_statistics) >= np.abs(observed_statistic)).mean()\n",
    "\n",
    "    return p_value\n",
    "\n",
    "# Function to perform hierarchical permutation test with animal bootstrapping\n",
    "def hierarchical_permutation_test(data, mouse_or_date, dependent_variable, neuron_property,perm_type='ind', num_permutations=1000):\n",
    "    observed_statistic = calculate_statistic(data, dependent_variable, neuron_property, perm_type)  # Replace with your actual calculation\n",
    "\n",
    "    # Create an empty array to store permuted statistics\n",
    "    permuted_statistics = np.zeros(num_permutations)\n",
    "\n",
    "    # Iterate through each permutation\n",
    "    for i in range(num_permutations):\n",
    "        # Bootstrap animals (resample entire animals with replacement)\n",
    "        bootstrap_animals_or_dates = np.random.choice(data[mouse_or_date].unique(), size=len(data[mouse_or_date].unique()), replace=True)\n",
    "        data2 = data[data[mouse_or_date].isin(bootstrap_animals_or_dates)]\n",
    "        if 'Mouse' in mouse_or_date:\n",
    "        # bootstrapped_data = data[data[mouse_or_date].isin(bootstrap_animals_or_dates)]\n",
    "            min_cells_per_mouse = min(data[data[mouse_or_date].isin(bootstrap_animals_or_dates)].groupby(['Mouse',dependent_variable])[neuron_property].count())\n",
    "            bootstrapped_data = pd.concat([group_.sample(min_cells_per_mouse, replace=False) for _, group_ in data2.groupby(['Mouse',dependent_variable])])\n",
    "        else:\n",
    "            min_cells_per_date = min(data[data[mouse_or_date].isin(bootstrap_animals_or_dates)].groupby([mouse_or_date,dependent_variable])[neuron_property].count())\n",
    "            bootstrapped_data = pd.concat([group_.sample(min_cells_per_date, replace=False) for _, group_ in data2.groupby([mouse_or_date,dependent_variable])])\n",
    "\n",
    "        if perm_type =='ind':\n",
    "            # Permute values within each bootstrapped animal\n",
    "            for animal in bootstrapped_data[mouse_or_date].unique():\n",
    "                animal_values = bootstrapped_data.loc[bootstrapped_data[mouse_or_date] == animal, neuron_property].values\n",
    "                np.random.shuffle(animal_values)\n",
    "                bootstrapped_data.loc[bootstrapped_data[mouse_or_date] == animal, neuron_property] = animal_values\n",
    "            # Calculate the permuted statistic\n",
    "            permuted_statistic = calculate_statistic(bootstrapped_data, dependent_variable, neuron_property, perm_type=perm_type)\n",
    "        elif perm_type =='paired':\n",
    "            permuted_statistic = calculate_statistic(bootstrapped_data, dependent_variable, neuron_property, perm_type=perm_type, paired_shuffle=True)\n",
    "        # Store the permuted statistic\n",
    "        permuted_statistics[i] = permuted_statistic\n",
    "    # Calculate the p-value\n",
    "    p_value = np.mean(np.abs(permuted_statistics) >= np.abs(observed_statistic))\n",
    "    return p_value\n",
    "\n",
    "# Example function for the statistic of interest\n",
    "def calculate_statistic(data, group, neuron_property, perm_type='ind', paired_shuffle=False):\n",
    "    groups = data[group].unique()\n",
    "    if perm_type =='ind':\n",
    "        mean_group_a = data[data[group] == groups[0]][neuron_property].mean()\n",
    "        mean_group_b = data[data[group] == groups[1]][neuron_property].mean()\n",
    "        return mean_group_a - mean_group_b\n",
    "    elif perm_type =='paired':\n",
    "        if data[data[group] == groups[0]][neuron_property].size != data[data[group] == groups[1]][neuron_property].size:\n",
    "            print('sizes are not the same, you should not used a paired permutation test here')\n",
    "            print(data[data[group] == groups[0]][neuron_property].size,data[data[group] == groups[1]][neuron_property].size)\n",
    "        pooled_differences = data[data[group] == groups[0]][neuron_property].values-data[data[group] == groups[1]][neuron_property].values\n",
    "        if paired_shuffle is True:\n",
    "            permuted_differences = pooled_differences * np.random.choice([-1, 1], size=len(pooled_differences))\n",
    "            # Recalculate mean difference for the permuted dataset\n",
    "            return np.nanmean(permuted_differences)\n",
    "        else:\n",
    "            return np.nanmean(pooled_differences)\n",
    "\n",
    "\n",
    "from scipy import stats\n",
    "def get_t_test_stars(df_, dependent_variable, neuron_property, print_pval=False, \n",
    "                    perm_t=True, perm_type='ind', hierarchical=False, num_permutations=1000,mouse_or_date='Mouse Name'):\n",
    "    \n",
    "    variables = df_[dependent_variable].unique()\n",
    "    group_1 =df_[df_[dependent_variable]==variables[0]][neuron_property].dropna().values\n",
    "    group_2 =df_[df_[dependent_variable]==variables[1]][neuron_property].dropna().values\n",
    "    \n",
    "    if hierarchical is True:\n",
    "        p_value = hierarchical_permutation_test(df_,mouse_or_date=mouse_or_date, \n",
    "                                        dependent_variable=dependent_variable, \n",
    "                                        neuron_property=neuron_property,\n",
    "                                        perm_type=perm_type,num_permutations=num_permutations)\n",
    "    \n",
    "    elif perm_type=='paired':\n",
    "        p_value = perm_test_paired(group_1, group_2)\n",
    "    elif perm_t is True:\n",
    "        p_value = perm_test(group_1, group_2)\n",
    "    elif perm_type=='ind':\n",
    "        _, p_value = stats.ttest_ind(group_1, group_2, equal_var=False)\n",
    "    else:\n",
    "        print('perm_type must be either ind or paired')\n",
    "        return np.nan\n",
    "    if p_value <1e-3:\n",
    "        stars = '***'\n",
    "    elif p_value <1e-2:\n",
    "        stars = '**'\n",
    "    elif p_value <0.05:\n",
    "        stars='*'\n",
    "    else:\n",
    "        stars='n.s.'\n",
    "    if print_pval is True:\n",
    "        print(p_value)\n",
    "    return stars\n",
    "\n",
    "def add_stars_2_sets(df_, neuron_property, x, x_order, hue, ax, fontsize=7, height1=0.97, height2=0.97, perm_t=True, perm_type='ind', hierarchical=False, mouse_or_date='Mouse Name'):\n",
    "    stars1 = get_t_test_stars(df_[df_[x]==x_order[0]], hue, neuron_property, perm_t=perm_t, perm_type=perm_type, hierarchical=hierarchical, mouse_or_date=mouse_or_date)\n",
    "    stars2 = get_t_test_stars(df_[df_[x]==x_order[1]], hue, neuron_property, perm_t=perm_t, perm_type=perm_type,hierarchical=hierarchical, mouse_or_date=mouse_or_date)\n",
    "    if stars1 == 'n.s.':\n",
    "        height1 = height1 + 0.02\n",
    "        fontsize1 = fontsize*0.9\n",
    "        color1='#C0C0C0'\n",
    "    else:\n",
    "        fontsize1 = fontsize\n",
    "        color1='black'\n",
    "        \n",
    "    if stars2 == 'n.s.':\n",
    "        height2 = height2 + 0.02\n",
    "        fontsize2 = fontsize*0.9\n",
    "        color2='#C0C0C0'\n",
    "    else:\n",
    "        fontsize2 = fontsize\n",
    "        color2='black'\n",
    "    \n",
    "    ax.text(0.25, height1, stars1, ha='center', va='center', fontsize=fontsize1, transform=ax.transAxes, color=color1)\n",
    "    ax.text(0.75, height2, stars2, ha='center', va='center', fontsize=fontsize2, transform=ax.transAxes, color=color2)"
   ]
  },
  {
   "cell_type": "code",
   "execution_count": 193,
   "id": "cf67133d",
   "metadata": {},
   "outputs": [],
   "source": [
    "import seaborn as sns\n",
    "def fig5_violinplot(df, x, y, hue, ax, y_label, linewidth=0.9,\n",
    "                    palette=['gray','lightgray'], fontsize=7,plot_control_ev=True, \n",
    "                    animal='mouse',show_legend=False,leg_loc=(1,0.3),**args):\n",
    "    if animal == 'mouse':\n",
    "        label_order=['L4→L2/3', 'L2/3→L4']\n",
    "        hue_order=['stimulus', 'gray screen']\n",
    "    elif animal =='monkey':\n",
    "        label_order=['V1→V4', 'V4→V1']\n",
    "        hue_order=['stimulus', 'gray screen','lights off',\n",
    "                'lights off\\neyes open','lights off\\neyes closed']\n",
    "        \n",
    "    sns.violinplot(x=x, y=y, hue=hue, \n",
    "                data=df[df['control_shuffle']==False],ax=ax,order=label_order, hue_order=hue_order,\n",
    "                inner='box',linewidth=linewidth,saturation=1,\n",
    "                inner_kws={'box_width':2, 'whis_width':0.5,\n",
    "                            'marker':'_', 'markersize':3,\n",
    "                            'markeredgewidth':0.8,\n",
    "                            },palette=palette,\n",
    "                            **args\n",
    "                            )\n",
    "    sns.despine()\n",
    "    ax.set_ylabel(y_label, fontsize=fontsize, labelpad=1)\n",
    "    ax.set_xlabel(None)\n",
    "    ax.legend_.remove()\n",
    "    ax.spines[:].set_linewidth(0.3)\n",
    "    if plot_control_ev is True:\n",
    "        data = df[df['control_shuffle']==True][y]\n",
    "        per_25 = np.percentile(data.dropna().values, 25)\n",
    "        per_75 = np.percentile(data.dropna().values, 75)\n",
    "        ax.axhspan(per_25, per_75, alpha=0.1, color='blue', label='shuffle\\ncontrol IQR',\n",
    "                linewidth=0,\n",
    "                )\n",
    "    if animal =='mouse':\n",
    "        add_stars_2_sets(df[df['control_shuffle']==False], y, x, label_order, hue, ax, \n",
    "                    hierarchical=True, height1=0.7,height2=0.7, perm_type='paired')\n",
    "    else:\n",
    "        add_anova_stars_2_sets_5_conditions(df[df['control_shuffle']==False], y, x, label_order, hue, hue_order, ax, fontsize=5)\n",
    "        if show_legend is True:\n",
    "            hatch_size=3\n",
    "            hatches = [None,None,None,'/','.',None]\n",
    "            new_handles = []\n",
    "            for handle, hatch in zip(ax.get_legend_handles_labels()[0], hatches):\n",
    "                if hatch is not None:\n",
    "                    handle.set_hatch(hatch*hatch_size)\n",
    "                new_handles.append(handle)\n",
    "            ax.legend(loc=leg_loc, handles = new_handles, fontsize=6)\n",
    "    \n",
    "    ax.tick_params(axis='both', labelsize=fontsize, width=0.5, length=3, pad=2)\n",
    "    add_custom_colors(ax, animal=animal)\n",
    "    \n",
    "from matplotlib import collections\n",
    "def add_custom_colors(ax, animal='mouse'):\n",
    "    if animal=='mouse':\n",
    "        custom_colors = ['#72BEB7','#B6E3DF','#EDAEAE', '#f6d6d6']\n",
    "        violins  = [s for s in ax.get_children() if isinstance(s, collections.PolyCollection)]\n",
    "        for violin, color in zip(violins, custom_colors):\n",
    "            violin.set_facecolor(color)\n",
    "    else:\n",
    "        custom_colors = ['#72BEB7','#B6E3DF','#136a66','#136a66','#136a66',\n",
    "                '#EDAEAE', '#f6d6d6','#a85959','#a85959','#a85959',]\n",
    "        violins  = [s for s in ax.get_children() if isinstance(s, collections.PolyCollection)]\n",
    "        for violin, color in zip(violins, custom_colors):\n",
    "            violin.set_facecolor(color)\n",
    "        inners = ax.get_lines()\n",
    "        violin_indices= [2,3,4,7,8,9]\n",
    "        inner_first_indices = [6,9,12,21,24,27]\n",
    "        ofsett_val=0.06\n",
    "        hatch_size=3\n",
    "        for v,i in zip(violin_indices, inner_first_indices):\n",
    "            violins[v].get_paths()[0].vertices[:,0] += ofsett_val\n",
    "            inners[i].get_path().vertices[:,0]+= ofsett_val \n",
    "            inners[i+1].get_path().vertices[:,0]+= ofsett_val\n",
    "            inners[i+2].get_path().vertices[:,0]+= ofsett_val\n",
    "            if v==3 or v==8:\n",
    "                violins[v].set_hatch('/'*hatch_size)\n",
    "            if v==4 or v==9:\n",
    "                violins[v].set_hatch('.'*hatch_size)\n",
    "        \n",
    "    "
   ]
  },
  {
   "cell_type": "code",
   "execution_count": 208,
   "id": "0c570261",
   "metadata": {},
   "outputs": [],
   "source": [
    "def plot_corrs_sns(corr_df, x, y, ax, xy=(0.05, 0.5), area='L2/3', color='black', \n",
    "                rcolor='black', alpha=0.5, s=8,fontsize=7, xlim=(-0.03,0.9), ylim=(-0.03,0.9), \n",
    "                tick_values = [0, 0.4, 0.8, ],**kwargs):\n",
    "    df_area= corr_df[corr_df['Area']==area]\n",
    "    if area =='L2/3' or area=='V4':\n",
    "        color='lightseagreen'\n",
    "        line_color='darkcyan'\n",
    "    elif area=='L4' or area=='V1':\n",
    "        color='lightcoral'\n",
    "        line_color='#a85959'\n",
    "    h = sns.scatterplot(x=x, y=y, color= color, \n",
    "                    data=df_area, alpha=alpha,s=s,ax=ax\n",
    "            )\n",
    "    sns.despine()\n",
    "    \n",
    "    h.tick_params(labelsize=16)\n",
    "    pearson_corr = df_area[x].corr(df_area[y], method='pearson')\n",
    "    h.annotate(f'r={pearson_corr:.2f}', xy=xy, fontsize=fontsize, color=rcolor)\n",
    "    ax.set(xlim=xlim,\n",
    "        ylim=ylim)\n",
    "    tick_values = tick_values  # Define the tick values\n",
    "    ax.set_xticks(tick_values)\n",
    "    ax.set_yticks(tick_values)\n",
    "    ax.tick_params(axis='both', labelsize=fontsize, width=0.5, length=2, pad=2)\n",
    "    ax.set_xlabel('EV fraction\\nstimulus',fontsize=fontsize, labelpad=1)\n",
    "    ax.set_ylabel('EV fraction\\ngray screen', fontsize=fontsize, labelpad=1)\n",
    "    ax.spines[:].set_linewidth(0.3)\n",
    "    max_val = df_area['EV'].max()\n",
    "    ax.plot([0,max_val+0.05],[0,max_val + 0.05], color=line_color, linestyle='--', linewidth=1,)"
   ]
  },
  {
   "cell_type": "code",
   "execution_count": 118,
   "id": "5cb4d0c8",
   "metadata": {},
   "outputs": [],
   "source": [
    "import pandas as pd\n",
    "from scipy import stats\n",
    "from statsmodels.stats.multitest import multipletests\n",
    "from itertools import combinations  # Import combinations from itertools with a different name\n",
    "\n",
    "def get_one_way_anova_pstats(df,variable1,variable1_order, neuron_property,perm_t=False, perm_type='ind'):\n",
    "    df_posthoc = df.dropna().copy()\n",
    "    # Perform pairwise t-tests with Benjamini-Hochberg correction\n",
    "    groups = variable1_order\n",
    "    p_values = []\n",
    "    p_val_names = []\n",
    "\n",
    "    for group1, group2 in combinations(groups, 2):\n",
    "        group1_data = df_posthoc[df_posthoc[f'{variable1}'] == group1][neuron_property]\n",
    "        group2_data = df_posthoc[df_posthoc[f'{variable1}'] == group2][neuron_property]\n",
    "        \n",
    "        if perm_type == 'paired':\n",
    "            p_value = perm_test_paired(group1_data, group2_data)\n",
    "        elif perm_t is True:\n",
    "            p_value = perm_test(group1_data, group2_data)\n",
    "        else:\n",
    "            _, p_value = stats.ttest_ind(group1_data, group2_data)\n",
    "        p_values.append(p_value)\n",
    "        p_val_names.append(group1 + '_' + group2)\n",
    "\n",
    "    # Apply Benjamini-Hochberg correction\n",
    "    adjusted_p_values = multipletests(p_values, method='fdr_bh')[1]\n",
    "\n",
    "    return p_val_names, adjusted_p_values\n",
    "\n",
    "def get_oneway_anova_stars(df_, dependent_variable,dependent_variable_order, neuron_property, perm_t=True, perm_type='ind'):\n",
    "    all_stars = []\n",
    "    p_val_names, adjusted_p_values= get_one_way_anova_pstats(df_,dependent_variable,dependent_variable_order, \n",
    "                                                             neuron_property,perm_t=perm_t, perm_type=perm_type)\n",
    "    for name, p_value in zip(p_val_names, adjusted_p_values):\n",
    "        if p_value <1e-3:\n",
    "            stars = '***'\n",
    "        elif p_value <1e-2:\n",
    "            stars = '**'\n",
    "        elif p_value <0.05:\n",
    "            stars='*'\n",
    "        else:\n",
    "            stars='n.s.'\n",
    "        all_stars.append(stars)\n",
    "    return p_val_names, all_stars\n",
    "def add_anova_stars_2_sets_5_conditions(df_, neuron_property, x, x_order, hue, hue_order, ax, fontsize=5, height1=0.73, \n",
    "                           height2=0.82,height3=0.91, height4=1, stars1_positions=None, stars2_positions=None):\n",
    "    labels1,all_stars1 = get_oneway_anova_stars(df_[df_[x]==x_order[0]], hue, hue_order, neuron_property)\n",
    "    _, all_stars2 = get_oneway_anova_stars(df_[df_[x]==x_order[1]], hue, hue_order, neuron_property)\n",
    "    height_positions1 = [height1,height2,height3,height4]\n",
    "    height_positions2 = [height1,height2,height3,height4]\n",
    "    if stars1_positions is None:\n",
    "        stars1_positions= [0.14,0.19,0.23,0.27]\n",
    "    if stars2_positions is None:\n",
    "        stars2_positions= [0.65, 0.7,0.74,0.78]\n",
    "    bar_halflength = 0.06\n",
    "    offset_=0\n",
    "    for s, (star1, star2) in enumerate(zip(all_stars1[:4], all_stars2[:4])):\n",
    "        if s>0:\n",
    "            ax.hlines(height_positions1[s]- 0.01, stars1_positions[s] - bar_halflength-offset_, stars1_positions[s] + bar_halflength+offset_, \n",
    "                          color='black',transform=ax.transAxes, linewidth=0.5)\n",
    "            ax.hlines(height_positions2[s]- 0.01, stars2_positions[s] - bar_halflength-offset_, stars2_positions[s] + bar_halflength+offset_, \n",
    "                          color='black',transform=ax.transAxes, linewidth=0.5)\n",
    "        if star1 =='n.s.':\n",
    "            height_positions1[s]=height_positions1[s]+0.02\n",
    "            color1='#C0C0C0'\n",
    "        else:\n",
    "            color1='black'\n",
    "        if star2 =='n.s.':\n",
    "            height_positions2[s]=height_positions2[s]+0.02\n",
    "            color2='#C0C0C0'\n",
    "        else:\n",
    "            color2='black'\n",
    "        ax.text(stars1_positions[s], height_positions1[s], star1, ha='center', va='center', fontsize=fontsize, transform=ax.transAxes,color=color1)\n",
    "        ax.text(stars2_positions[s], height_positions2[s], star2, ha='center', va='center', fontsize=fontsize, transform=ax.transAxes, color=color2)\n",
    "        \n",
    "        offset_+=0.04\n",
    "\n",
    "        "
   ]
  },
  {
   "cell_type": "markdown",
   "id": "f7a8f324",
   "metadata": {},
   "source": [
    "### supplemental"
   ]
  },
  {
   "cell_type": "code",
   "execution_count": 244,
   "id": "db416b7d",
   "metadata": {},
   "outputs": [],
   "source": [
    "import seaborn as sns\n",
    "def fig5_supp_violinplot(df,area, x, y, hue, ax, y_label, linewidth=0.9,\n",
    "                    palette=['gray','lightgray'], fontsize=7,plot_control_ev=True, \n",
    "                    show_legend=False,leg_loc=(1,0.3),stars_height=0.7,**args):\n",
    "    if area=='L2/3':\n",
    "        palette=['#72BEB7','#B6E3DF']\n",
    "    elif area=='L4':\n",
    "        palette=['#EDAEAE', '#f6d6d6']\n",
    "    label_order=['MP031', 'MP032','MP033']\n",
    "    hue_order=['stimulus', 'gray screen']\n",
    "        \n",
    "    sns.violinplot(x=x, y=y, hue=hue, \n",
    "                data=df[(df['control_shuffle']==False)&(df.Area==area)],ax=ax,order=label_order, hue_order=hue_order,\n",
    "                inner='box',linewidth=linewidth,saturation=1,\n",
    "                inner_kws={'box_width':2, 'whis_width':0.5,\n",
    "                            'marker':'_', 'markersize':3,\n",
    "                            'markeredgewidth':0.8,\n",
    "                            },palette=palette,\n",
    "                            **args\n",
    "                            )\n",
    "    sns.despine()\n",
    "    ax.set_ylabel(y_label, fontsize=fontsize, labelpad=1)\n",
    "    ax.set_xlabel(None)\n",
    "    \n",
    "    ax.spines[:].set_linewidth(0.3)\n",
    "    if plot_control_ev is True:\n",
    "        data = df[df['control_shuffle']==True][y]\n",
    "        per_25 = np.percentile(data.dropna().values, 25)\n",
    "        per_75 = np.percentile(data.dropna().values, 75)\n",
    "        ax.axhspan(per_25, per_75, alpha=0.1, color='blue', label='shuffle\\ncontrol IQR',\n",
    "                linewidth=0,\n",
    "                )\n",
    "    x_positions = [0.18,0.5,0.85]\n",
    "    for m, mouse in enumerate(label_order):\n",
    "        star_fontsize=fontsize*.9\n",
    "        star = get_t_test_stars(df[(df['control_shuffle']==False)&(df.Area==area)&(df[x]==mouse)], hue, y, perm_t=True, perm_type='paired', hierarchical=False)\n",
    "        if star == 'n.s.':\n",
    "            stars_height = stars_height + 0.015\n",
    "            star_fontsize = star_fontsize*0.9\n",
    "        ax.text(x_positions[m], stars_height, star, ha='center', va='center', fontsize=star_fontsize, transform=ax.transAxes)    \n",
    "        ax.tick_params(axis='both', labelsize=fontsize, width=0.5, length=3, pad=2)\n",
    "        \n",
    "    if show_legend is False:\n",
    "        ax.legend_.remove()\n",
    "    else:\n",
    "        ax.legend(loc=leg_loc)"
   ]
  },
  {
   "cell_type": "markdown",
   "id": "c58e90d6",
   "metadata": {},
   "source": [
    "## Mouse stimulus vs. gray screen comparisons \n",
    "\n",
    "no need to control for frame size as the frames are similar in size"
   ]
  },
  {
   "cell_type": "code",
   "execution_count": 4,
   "id": "de5b71cf",
   "metadata": {},
   "outputs": [
    {
     "name": "stdout",
     "output_type": "stream",
     "text": [
      "3200 3700\n",
      "1920 2220\n",
      "3200 3700\n",
      "3200 3700\n",
      "3648 4218\n",
      "3072 3552\n"
     ]
    }
   ],
   "source": [
    "from neuron_properties_functions import create_empty_mouse_stats_dict, get_split_half_r_all_mice, get_SNR_all_mice, get_max_corr_vals_all_mice\n",
    "\n",
    "mouse_stats= create_empty_mouse_stats_dict(main_dir)\n",
    "get_SNR_all_mice(main_dir, mouse_stats)\n",
    "get_split_half_r_all_mice(main_dir, mouse_stats)\n",
    "get_max_corr_vals_all_mice(main_dir, mouse_stats)\n",
    "\n",
    "import mouse_data_functions as cs\n",
    "dataset_types = ['ori32', 'natimg32']\n",
    "min_stimulus_frame_lengths = []\n",
    "for dataset_type in dataset_types:\n",
    "    mt = cs.mt_retriever(main_dir, dataset_type=dataset_type)\n",
    "    mousenames= sorted(mt.filenames)\n",
    "    for mouse in mousenames:\n",
    "        _, resp_L23,_,  _, resp_L4 = mt.retrieve_layer_activity('resp', mouse)\n",
    "        min_stimulus_frame_lengths.append(resp_L23.shape[0])\n",
    "        _, resp_L23_spont, _, _, resp_L4_spont = mt.retrieve_layer_activity('spont', mouse)\n",
    "        if len(resp_L23_spont)<1000:\n",
    "            continue\n",
    "        print(resp_L23.shape[0], resp_L23_spont.shape[0])\n"
   ]
  },
  {
   "cell_type": "markdown",
   "id": "d27d7b36",
   "metadata": {},
   "source": [
    "### plotting"
   ]
  },
  {
   "cell_type": "code",
   "execution_count": 91,
   "id": "065992b2",
   "metadata": {},
   "outputs": [],
   "source": [
    "df_mouse_all = make_mouse_df(mouse_stats, dataset_types=['ori32','natimg32','ori32_spont','natimg32_spont'])\n",
    "df_mouse  = df_mouse_all[df_mouse_all['Mouse Name']!='MP027']#remove mouse 27 since it doesnt have a grey screen period\n",
    "df_mouse_visual =  df_mouse[(df_mouse['SNR']>2)&(df_mouse['Split-half r']>0.8)] \n",
    "df_mouse_nonvisual =  df_mouse[(df_mouse['SNR']<2)&(df_mouse['Split-half r']<0.8)]"
   ]
  },
  {
   "cell_type": "code",
   "execution_count": 92,
   "id": "16af6edb",
   "metadata": {},
   "outputs": [
    {
     "data": {
      "image/png": "[encoded data removed]",
      "text/plain": [
       "<Figure size 130x180 with 1 Axes>"
      ]
     },
     "metadata": {},
     "output_type": "display_data"
    }
   ],
   "source": [
    "import matplotlib.pyplot as plt\n",
    "\n",
    "neuron_property='EV'\n",
    "variable1='Direction'\n",
    "variable2='Activity Type'\n",
    "\n",
    "fontsize=7\n",
    "fig, ax = plt.subplots(figsize=(1.3,1.8))\n",
    "\n",
    "fig5_violinplot(df_mouse_visual, x=variable1, y=neuron_property, \n",
    "                hue=variable2, ax=ax, y_label='EV fraction', linewidth=0,gap=-0.2, width=0.7,cut=0)\n",
    "ax.set_title('\"visual\"\\nneurons', fontsize=fontsize*1.1, x=0.42, y=0.8)\n",
    "plt.show()"
   ]
  },
  {
   "cell_type": "code",
   "execution_count": 93,
   "id": "7d96dda0",
   "metadata": {},
   "outputs": [
    {
     "data": {
      "image/png": "[encoded data removed]",
      "text/plain": [
       "<Figure size 130x180 with 1 Axes>"
      ]
     },
     "metadata": {},
     "output_type": "display_data"
    }
   ],
   "source": [
    "fig, ax = plt.subplots(figsize=(1.3,1.8))\n",
    "\n",
    "fig5_violinplot(df_mouse_nonvisual, x=variable1, y=neuron_property, \n",
    "                hue=variable2, ax=ax, y_label='EV fraction', linewidth=0,gap=-0.2, width=0.7,cut=0)\n",
    "ax.set_title('\"non-visual\"\\nneurons', fontsize=fontsize*1.1, x=0.42, y=0.8)\n",
    "plt.show()"
   ]
  },
  {
   "cell_type": "code",
   "execution_count": 94,
   "id": "1fbf8fd0",
   "metadata": {},
   "outputs": [],
   "source": [
    "df_mouse_corr=pd.merge(df_mouse[df_mouse['Activity Type']=='stimulus'],df_mouse[df_mouse['Activity Type']=='gray screen'], on=['Mouse', 'Mouse Name', 'Area',\n",
    "       'Direction', 'SNR', 'Split-half r','control_shuffle'])\n",
    "df_mouse_corr_visual =  df_mouse_corr[(df_mouse_corr['SNR']>2)&(df_mouse_corr['Split-half r']>0.8)&(df_mouse_corr['control_shuffle']==False)] \n",
    "df_mouse_corr_nonvisual =  df_mouse_corr[(df_mouse_corr['SNR']<2)&(df_mouse_corr['Split-half r']<0.8)&(df_mouse_corr['control_shuffle']==False)]"
   ]
  },
  {
   "cell_type": "code",
   "execution_count": 95,
   "id": "78ce72f9",
   "metadata": {},
   "outputs": [
    {
     "data": {
      "image/png": "[encoded data removed]",
      "text/plain": [
       "<Figure size 125x125 with 1 Axes>"
      ]
     },
     "metadata": {},
     "output_type": "display_data"
    }
   ],
   "source": [
    "figsize=(1.25,1.25)\n",
    "fig, ax = plt.subplots(figsize=figsize)\n",
    "area=\"L2/3\"\n",
    "plot_corrs_sns(df_mouse_corr_visual, x='EV_x', y='EV_y', area=area,\n",
    "               ax=ax, xy=(0.01,0.75), color='lightseagreen', alpha=0.3, s=5)\n",
    "ax.set_title(f'{area} \"visual\"\\nneurons', fontsize=8)\n",
    "plt.show()"
   ]
  },
  {
   "cell_type": "code",
   "execution_count": 96,
   "id": "ef81ccaa",
   "metadata": {},
   "outputs": [
    {
     "data": {
      "image/png": "[encoded data removed]",
      "text/plain": [
       "<Figure size 125x125 with 1 Axes>"
      ]
     },
     "metadata": {},
     "output_type": "display_data"
    }
   ],
   "source": [
    "figsize=(1.25,1.25)\n",
    "fig, ax = plt.subplots(figsize=figsize)\n",
    "area=\"L4\"\n",
    "plot_corrs_sns(df_mouse_corr_visual, x='EV_x', y='EV_y', area=area,\n",
    "               ax=ax, xy=(0.01,0.75), color='lightseagreen', alpha=0.3, s=5)\n",
    "ax.set_title(f'{area} \"visual\"\\nneurons', fontsize=8)\n",
    "plt.show()"
   ]
  },
  {
   "cell_type": "code",
   "execution_count": 97,
   "id": "fc3e3a51",
   "metadata": {},
   "outputs": [
    {
     "data": {
      "image/png": "[encoded data removed]",
      "text/plain": [
       "<Figure size 125x125 with 1 Axes>"
      ]
     },
     "metadata": {},
     "output_type": "display_data"
    }
   ],
   "source": [
    "fig, ax = plt.subplots(figsize=figsize)\n",
    "area=\"L2/3\"\n",
    "plot_corrs_sns(df_mouse_corr_nonvisual, x='EV_x', y='EV_y', area=area,\n",
    "               ax=ax, xy=(0.01,0.75), color='lightseagreen', alpha=0.3, s=5)\n",
    "ax.set_title(f'{area} \"non-visual\"\\nneurons', fontsize=8)\n",
    "plt.show()"
   ]
  },
  {
   "cell_type": "code",
   "execution_count": 98,
   "id": "8509c17e",
   "metadata": {},
   "outputs": [
    {
     "data": {
      "image/png": "[encoded data removed]",
      "text/plain": [
       "<Figure size 125x125 with 1 Axes>"
      ]
     },
     "metadata": {},
     "output_type": "display_data"
    }
   ],
   "source": [
    "fig, ax = plt.subplots(figsize=figsize)\n",
    "area=\"L4\"\n",
    "plot_corrs_sns(df_mouse_corr_nonvisual, x='EV_x', y='EV_y', area=area,\n",
    "               ax=ax, xy=(0.01,0.75), color='lightseagreen', alpha=0.3, s=5)\n",
    "ax.set_title(f'{area} \"non-visual\"\\nneurons', fontsize=8)\n",
    "plt.show()"
   ]
  },
  {
   "cell_type": "markdown",
   "id": "e3283edf",
   "metadata": {},
   "source": [
    "### supplemental "
   ]
  },
  {
   "cell_type": "code",
   "execution_count": 238,
   "id": "475bab7a",
   "metadata": {},
   "outputs": [
    {
     "data": {
      "image/png": "[encoded data removed]",
      "text/plain": [
       "<Figure size 200x200 with 1 Axes>"
      ]
     },
     "metadata": {},
     "output_type": "display_data"
    }
   ],
   "source": [
    "area='L2/3'\n",
    "x='Mouse Name'\n",
    "y='EV'\n",
    "hue='Activity Type'\n",
    "y_label='EV fraction'\n",
    "fontsize=7\n",
    "\n",
    "\n",
    "fig, ax = plt.subplots(figsize=(2,2))\n",
    "fig5_supp_violinplot(df_mouse_visual,area, x, y, hue, ax, y_label, linewidth=0,cut=0,\n",
    "                    fontsize=fontsize,plot_control_ev=True, show_legend=False,leg_loc=(1,0.3))\n",
    "ax.set_title(f'\"visual\" {area} neurons', fontsize=fontsize*1.1, x=0.5, y=0.9)\n",
    "plt.show()"
   ]
  },
  {
   "cell_type": "code",
   "execution_count": 239,
   "id": "34037e7e",
   "metadata": {},
   "outputs": [
    {
     "data": {
      "image/png": "[encoded data removed]",
      "text/plain": [
       "<Figure size 200x200 with 1 Axes>"
      ]
     },
     "metadata": {},
     "output_type": "display_data"
    }
   ],
   "source": [
    "area='L4'\n",
    "\n",
    "fig, ax = plt.subplots(figsize=(2,2))\n",
    "fig5_supp_violinplot(df_mouse_visual,area, x, y, hue, ax, y_label, linewidth=0,cut=0,\n",
    "                    fontsize=fontsize,plot_control_ev=True, show_legend=False,leg_loc=(1,0.3))\n",
    "ax.set_title(f'\"visual\" {area} neurons', fontsize=fontsize*1.1, x=0.5, y=0.9)\n",
    "plt.show()"
   ]
  },
  {
   "cell_type": "code",
   "execution_count": 240,
   "id": "97c4a31e",
   "metadata": {},
   "outputs": [
    {
     "data": {
      "image/png": "[encoded data removed]",
      "text/plain": [
       "<Figure size 200x200 with 1 Axes>"
      ]
     },
     "metadata": {},
     "output_type": "display_data"
    }
   ],
   "source": [
    "area='L2/3'\n",
    "\n",
    "fig, ax = plt.subplots(figsize=(2,2))\n",
    "fig5_supp_violinplot(df_mouse_nonvisual,area, x, y, hue, ax, y_label, linewidth=0,cut=0,\n",
    "                    fontsize=fontsize,plot_control_ev=True, show_legend=False,leg_loc=(1,0.3))\n",
    "ax.set_title(f'\"non-visual\" {area} neurons', fontsize=fontsize*1.1, x=0.5, y=0.9)\n",
    "plt.show()"
   ]
  },
  {
   "cell_type": "code",
   "execution_count": 241,
   "id": "c4240ddc",
   "metadata": {},
   "outputs": [
    {
     "data": {
      "image/png": "[encoded data removed]",
      "text/plain": [
       "<Figure size 200x200 with 1 Axes>"
      ]
     },
     "metadata": {},
     "output_type": "display_data"
    }
   ],
   "source": [
    "area='L4'\n",
    "\n",
    "fig, ax = plt.subplots(figsize=(2,2))\n",
    "fig5_supp_violinplot(df_mouse_nonvisual,area, x, y, hue, ax, y_label, linewidth=0,cut=0,\n",
    "                    fontsize=fontsize,plot_control_ev=True, show_legend=False,leg_loc=(1,0.3))\n",
    "ax.set_title(f'\"non-visual\" {area} neurons', fontsize=fontsize*1.1, x=0.5, y=0.9)\n",
    "plt.show()"
   ]
  },
  {
   "cell_type": "markdown",
   "id": "08e31e18",
   "metadata": {},
   "source": [
    "## Monkey stimulus vs. gray screen vs. lights off comparisons"
   ]
  },
  {
   "cell_type": "code",
   "execution_count": null,
   "id": "60164122",
   "metadata": {},
   "outputs": [],
   "source": [
    "from neuron_properties_functions import create_empty_monkey_stats_dict, get_SNR_monkey_all_dates, get_split_half_r_monkey_all_dates, get_max_corr_vals_monkey_all_dates, get_evar_monkey_all_dates\n",
    "\n",
    "monkey_stats= create_empty_monkey_stats_dict()\n",
    "get_SNR_monkey_all_dates(monkey_stats)\n",
    "get_split_half_r_monkey_all_dates(monkey_stats)\n",
    "get_max_corr_vals_monkey_all_dates(monkey_stats)\n",
    "get_evar_monkey_all_dates(monkey_stats)\n"
   ]
  },
  {
   "cell_type": "code",
   "execution_count": 11,
   "id": "8e8900f9",
   "metadata": {},
   "outputs": [
    {
     "name": "stdout",
     "output_type": "stream",
     "text": [
      "SNR [1120, 1216, 1072]\n",
      "SNR_spont [840, 912, 804]\n",
      "min lengths {'090817': 840, '100817': 912, '250717': 804}\n",
      "Took 0.1821 minutes to complete\n"
     ]
    }
   ],
   "source": [
    "import time\n",
    "\n",
    "start_time = time.time()\n",
    "from macaque_data_functions import get_resps, get_get_condition_type\n",
    "dates = ['090817', '100817', '250717']\n",
    "areas=['V1','V4']\n",
    "w_size=25\n",
    "condition_type1 = 'SNR'\n",
    "condition_type2 = 'SNR_spont'\n",
    "SNR_lengths = []\n",
    "SNR_spont_lengths = []\n",
    "min_lengths = {}\n",
    "for d, date in enumerate(dates):\n",
    "    # print(area)\n",
    "    resp_V4, resp_V1 =get_resps(condition_type=get_get_condition_type(condition_type1), date=date, w_size=w_size)\n",
    "    SNR_lengths.append(resp_V4.shape[0])\n",
    "    resp_V4, resp_V1 =get_resps(condition_type=get_get_condition_type(condition_type2), date=date, w_size=w_size)\n",
    "    SNR_spont_lengths.append(resp_V4.shape[0])\n",
    "    min_lengths[date]=min(SNR_lengths[-1],SNR_spont_lengths[-1])\n",
    "print('SNR', SNR_lengths)\n",
    "print('SNR_spont', SNR_spont_lengths)\n",
    "print('min lengths',min_lengths)\n",
    "\n",
    "end_time = time.time()\n",
    "elapsed_time = (end_time - start_time)/60\n",
    "\n",
    "print(f'Took {elapsed_time:.4f} minutes to complete')  "
   ]
  },
  {
   "cell_type": "code",
   "execution_count": 17,
   "id": "f03116e5",
   "metadata": {},
   "outputs": [
    {
     "name": "stdout",
     "output_type": "stream",
     "text": [
      "SNR done\n",
      "RS done\n",
      "RS_open done\n",
      "RS_closed done\n",
      "Yay! work is completed. Took 7.0330 minutes to complete\n"
     ]
    }
   ],
   "source": [
    "import time\n",
    "start_time = time.time()\n",
    "initial_seed = 17\n",
    "rng = np.random.default_rng(initial_seed)\n",
    "# Generate 10 random seed values\n",
    "num_seeds = 10\n",
    "seeds = rng.integers(low=0, high=np.iinfo(np.int32).max, size=num_seeds)\n",
    "\n",
    "from joblib import Parallel, delayed\n",
    "dates = ['090817', '100817', '250717']\n",
    "condition_types = ['SNR','RS', 'RS_open', 'RS_closed']\n",
    "area='V4'\n",
    "area2='V1'\n",
    "alphas = [1e2,5e2,1e3,5e3,1e4,5e4,1e5,5e5,1e6]\n",
    "seed=17\n",
    "\n",
    "for condition_type in condition_types:\n",
    "    for date in monkey_stats[condition_type]:\n",
    "        resp_V4, resp_V1, =get_resps(condition_type=get_get_condition_type(condition_type), date=date, w_size=w_size)\n",
    "        results = Parallel(n_jobs=-1)(delayed(process_evar_subsample_seeds)(resp_V1, resp_V4, date, min_lengths, seed, alphas, condition_type) for seed in seeds)\n",
    "        all_v4_evars = np.array([a for a,_ in results])\n",
    "        all_v1_evars = np.array([a for _,a in results])\n",
    "        monkey_stats[condition_type][date][area]['spont_comparison_evars']=all_v4_evars\n",
    "        monkey_stats[condition_type][date][area2]['spont_comparison_evars']=all_v1_evars\n",
    "    print(f'{condition_type} done')\n",
    "\n",
    "end_time = time.time()\n",
    "elapsed_time = (end_time - start_time)/60\n",
    "print(f'Yay! work is completed. Took {elapsed_time:.4f} minutes to complete')   "
   ]
  },
  {
   "cell_type": "code",
   "execution_count": 18,
   "id": "592e09e3",
   "metadata": {},
   "outputs": [
    {
     "name": "stdout",
     "output_type": "stream",
     "text": [
      "SNR done\n",
      "RS done\n",
      "RS_open done\n",
      "RS_closed done\n",
      "Yay! work is completed. Took 6.8871 minutes to complete\n"
     ]
    }
   ],
   "source": [
    "### shuffle control\n",
    "start_time = time.time()\n",
    "for condition_type in condition_types:\n",
    "    for date in monkey_stats[condition_type]:\n",
    "        resp_V4, resp_V1, =get_resps(condition_type=get_get_condition_type(condition_type), date=date, w_size=w_size)\n",
    "        results = Parallel(n_jobs=-1)(delayed(process_evar_subsample_seeds)(resp_V1, resp_V4, date, min_lengths, seed, alphas, condition_type) for seed in seeds)\n",
    "        all_v4_evars = np.array([a for a,_ in results])\n",
    "        all_v1_evars = np.array([a for _,a in results])\n",
    "        monkey_stats[condition_type][date][area]['spont_comparison_evars_null']=all_v4_evars\n",
    "        monkey_stats[condition_type][date][area2]['spont_comparison_evars_null']=all_v1_evars\n",
    "    print(f'{condition_type} done')\n",
    "end_time = time.time()\n",
    "elapsed_time = (end_time - start_time)/60\n",
    "print(f'Yay! work is completed. Took {elapsed_time:.4f} minutes to complete') "
   ]
  },
  {
   "cell_type": "markdown",
   "id": "e717ab5f",
   "metadata": {},
   "source": [
    "### plotting"
   ]
  },
  {
   "cell_type": "code",
   "execution_count": 136,
   "id": "2cb3535f",
   "metadata": {},
   "outputs": [],
   "source": [
    "df_monkey = make_monkey_df(monkey_stats, dataset_types=['SNR','SNR_spont','RS','RS_open','RS_closed'], spont_comparisons=True)\n",
    "df_monkey_visual =  df_monkey[(df_monkey['SNR']>2)&(df_monkey['Split-half r']>0.8)] \n"
   ]
  },
  {
   "cell_type": "code",
   "execution_count": 194,
   "id": "92f2fe5a",
   "metadata": {},
   "outputs": [
    {
     "data": {
      "image/png": "[encoded data removed]",
      "text/plain": [
       "<Figure size 470x180 with 1 Axes>"
      ]
     },
     "metadata": {},
     "output_type": "display_data"
    }
   ],
   "source": [
    "import matplotlib.pyplot as plt\n",
    "\n",
    "neuron_property='EV'\n",
    "variable1='Direction'\n",
    "variable2='Activity Type'\n",
    "\n",
    "fontsize=7\n",
    "figsize=(4.7,1.8)\n",
    "fig, ax = plt.subplots(figsize=figsize)\n",
    "fig5_violinplot(df_monkey_visual, x=variable1, y=neuron_property, \n",
    "                hue=variable2, ax=ax, y_label='EV fraction', palette=['#9b9b9b','lightgray','#5b5b5b','#5b5b5b','#5b5b5b'],\n",
    "                linewidth=0,gap=-0.2, width=0.7,cut=0, animal='monkey', show_legend=True, leg_loc=(1,0.1))\n",
    "plt.show()"
   ]
  },
  {
   "cell_type": "code",
   "execution_count": 203,
   "id": "1ec20a58",
   "metadata": {},
   "outputs": [],
   "source": [
    "df_monkey_corr_ = df_monkey_visual[df_monkey_visual['Activity Type']=='stimulus']\n",
    "for act_type in df_monkey['Activity Type'].unique()[1:]:\n",
    "    df_copy = df_monkey_visual[df_monkey_visual['Activity Type']==act_type].copy()\n",
    "    df_copy.rename(columns={'EV': f'EV {act_type}', 'Activity Type':f'Activity Type {act_type}', 'max corr. val': f'max corr. val{act_type}','Dataset Type':f'Dataset Type {act_type}'}, inplace=True)\n",
    "    df_monkey_corr_= pd.merge(df_monkey_corr_ ,df_copy, on=['Date', 'Area',\n",
    "    'Direction', 'SNR', 'Split-half r','control_shuffle'])\n",
    "df_monkey_corr = df_monkey_corr_[df_monkey_corr_['control_shuffle']==False]"
   ]
  },
  {
   "cell_type": "code",
   "execution_count": 209,
   "id": "b06edeee",
   "metadata": {},
   "outputs": [
    {
     "data": {
      "image/png": "[encoded data removed]",
      "text/plain": [
       "<Figure size 125x125 with 1 Axes>"
      ]
     },
     "metadata": {},
     "output_type": "display_data"
    }
   ],
   "source": [
    "figsize=(1.25,1.25)\n",
    "fig, ax = plt.subplots(figsize=figsize)\n",
    "area=\"V4\"\n",
    "plot_corrs_sns(df_monkey_corr, x='EV', y='EV gray screen', area=area,\n",
    "               ax=ax, xy=(0.01,0.75), alpha=0.3, s=5)\n",
    "ax.set_title(f'{area} \"visual\"\\nneurons', fontsize=8)\n",
    "plt.show()\n",
    "\n"
   ]
  },
  {
   "cell_type": "code",
   "execution_count": 210,
   "id": "017e7354",
   "metadata": {},
   "outputs": [
    {
     "data": {
      "image/png": "[encoded data removed]",
      "text/plain": [
       "<Figure size 125x125 with 1 Axes>"
      ]
     },
     "metadata": {},
     "output_type": "display_data"
    }
   ],
   "source": [
    "figsize=(1.25,1.25)\n",
    "fig, ax = plt.subplots(figsize=figsize)\n",
    "area=\"V1\"\n",
    "plot_corrs_sns(df_monkey_corr, x='EV', y='EV gray screen', area=area,\n",
    "            ax=ax, xy=(0.01,0.75), alpha=0.3, s=5)\n",
    "ax.set_title(f'{area} \"visual\"\\nneurons', fontsize=8)\n",
    "plt.show()"
   ]
  },
  {
   "cell_type": "markdown",
   "id": "1f01b61e",
   "metadata": {},
   "source": [
    "### supplemental"
   ]
  },
  {
   "cell_type": "code",
   "execution_count": 273,
   "id": "4398e3b6",
   "metadata": {},
   "outputs": [],
   "source": [
    "\n",
    "data = []\n",
    "for condition_type in df_monkey_visual['Activity Type'].unique():\n",
    "    for date in df_monkey_visual.Date.unique():\n",
    "        for pred_type in df_monkey_visual.Direction.unique():\n",
    "            data.append({\n",
    "                'Activity Type':condition_type,\n",
    "                'Date': date,\n",
    "                'Direction': pred_type,\n",
    "                'EV_corr_w_SNR':df_monkey_visual[(df_monkey_visual['Activity Type'] =='stimulus')&(df_monkey_visual.Direction==pred_type)&(df_monkey_visual.Date==date)&(df_monkey_visual.control_shuffle==False)].reset_index()['EV'].corr(df_monkey_visual[(df_monkey_visual['Activity Type'] ==condition_type)&(df_monkey_visual.Direction==pred_type)&(df_monkey_visual.Date==date)&(df_monkey_visual.control_shuffle==False)].reset_index()['EV'])\n",
    "            })\n",
    "df_SNR_EV_corr = pd.DataFrame(data) "
   ]
  },
  {
   "cell_type": "code",
   "execution_count": 274,
   "id": "a858d5e7",
   "metadata": {},
   "outputs": [
    {
     "data": {
      "image/png": "[encoded data removed]",
      "text/plain": [
       "<Figure size 180x140 with 1 Axes>"
      ]
     },
     "metadata": {},
     "output_type": "display_data"
    }
   ],
   "source": [
    "from matplotlib import patches\n",
    "\n",
    "directions = ['V1→V4', 'V4→V1']\n",
    "fig, ax=plt.subplots(figsize=(1.8,1.4))\n",
    "sns.barplot(df_SNR_EV_corr[df_SNR_EV_corr['Activity Type'].isin(df_SNR_EV_corr['Activity Type'].unique()[1:])], \n",
    "            x=variable1, order = directions, y='EV_corr_w_SNR', palette=['lightgray','#5b5b5b','#5b5b5b','#5b5b5b'],\n",
    "            hue='Activity Type',\n",
    "            width=0.8, ax=ax,\n",
    "            err_kws={'linewidth': 1}\n",
    "            )\n",
    "\n",
    "custom_colors = ['#B6E3DF','#F1C0C0',\n",
    "                '#136a66','#a85959',\n",
    "                '#136a66','#a85959',\n",
    "                '#136a66','#a85959',]\n",
    "bars  = [s for s in ax.get_children() if isinstance(s, patches.Rectangle)]\n",
    "lines = ax.get_lines()\n",
    "offset_val=0.03\n",
    "hatch_size=3\n",
    "for b, (bar, line, color)in enumerate(zip(bars, lines, custom_colors)):\n",
    "    bar.set_facecolor(color)\n",
    "    if b==4 or b==5:\n",
    "        bar.set_hatch('/'*hatch_size)\n",
    "    if b==6 or b==7:\n",
    "        bar.set_hatch('.'*hatch_size)\n",
    "    if b>1:\n",
    "        line.set_xdata(line.get_xdata()+offset_val)\n",
    "        bar.set_x(bar.get_x()+offset_val)\n",
    "\n",
    "hatches = [None,None,'/','.',None]\n",
    "new_handles = []\n",
    "for handle, hatch in zip(ax.get_legend_handles_labels()[0], hatches):\n",
    "    if hatch is not None:\n",
    "        handle.set_hatch(hatch*hatch_size)\n",
    "    new_handles.append(handle)\n",
    "ax.legend(loc=(1.05,0.1), handles = new_handles, fontsize=6)\n",
    "\n",
    "ax.tick_params(axis='both', labelsize=7,  width=0.5, length=2, pad=2)\n",
    "ax.set_xticks(ticks=ax.get_xticks(), labels=['V1→V4', 'V4→V1'])\n",
    "ax.set_ylabel('EV correlation\\nw/EV checkerboard', fontsize=7, labelpad=1)\n",
    "ax.set_xlabel(None)\n",
    "ax.spines[:].set_linewidth(0.3)\n",
    "ax.set_ylim(0,1.3)\n",
    "\n",
    "\n",
    "add_anova_stars_2_sets_5_conditions(df_SNR_EV_corr[df_SNR_EV_corr[\"Activity Type\"].isin(df_SNR_EV_corr['Activity Type'].unique()[1:])],\n",
    "                                    neuron_property='EV_corr_w_SNR', x=variable1,\n",
    "                                    x_order=directions,hue='Activity Type',hue_order=df_SNR_EV_corr['Activity Type'].unique()[1:], \n",
    "                                    ax=ax, fontsize=5.5)\n",
    "\n",
    "sns.despine()\n",
    "plt.show()"
   ]
  },
  {
   "cell_type": "code",
   "execution_count": 263,
   "id": "bb355b24",
   "metadata": {},
   "outputs": [
    {
     "name": "stdout",
     "output_type": "stream",
     "text": [
      "min lengths {'260617': 8592, '280617': 11124}\n",
      "Took 0.8144 minutes to complete\n"
     ]
    }
   ],
   "source": [
    "import time\n",
    "\n",
    "start_time = time.time()\n",
    "from macaque_data_functions import get_resps, get_get_condition_type\n",
    "dates = ['260617', '280617']\n",
    "areas=['V1','V4']\n",
    "w_size=25\n",
    "get_condition_type = 'RF_spont'\n",
    "min_lengths = {}\n",
    "for d, date in enumerate(dates):\n",
    "    # print(area)\n",
    "    resp_V4, resp_V1 =get_resps(condition_type=get_condition_type, date=date, w_size=w_size)\n",
    "    min_lengths[date]=resp_V4.shape[0]\n",
    "print('min lengths',min_lengths)\n",
    "end_time = time.time()\n",
    "elapsed_time = (end_time - start_time)/60\n",
    "print(f'Took {elapsed_time:.4f} minutes to complete')  "
   ]
  },
  {
   "cell_type": "code",
   "execution_count": 264,
   "id": "8c8256da",
   "metadata": {},
   "outputs": [
    {
     "name": "stdout",
     "output_type": "stream",
     "text": [
      "RF_large done\n",
      "RF_thin done\n",
      "Yay! work is completed. Took 2.4983 minutes to complete\n"
     ]
    }
   ],
   "source": [
    "import time\n",
    "start_time = time.time()\n",
    "initial_seed = 17\n",
    "rng = np.random.default_rng(initial_seed)\n",
    "# Generate 10 random seed values\n",
    "num_seeds = 10\n",
    "seeds = rng.integers(low=0, high=np.iinfo(np.int32).max, size=num_seeds)\n",
    "\n",
    "from joblib import Parallel, delayed\n",
    "dates = ['260617', '280617']\n",
    "condition_types = ['RF_large','RF_thin']\n",
    "area='V4'\n",
    "area2='V1'\n",
    "alphas = [1e2,5e2,1e3,5e3,1e4,5e4,1e5,5e5,1e6]\n",
    "seed=17\n",
    "\n",
    "for condition_type in condition_types:\n",
    "    for date in monkey_stats[condition_type]:\n",
    "        resp_V4, resp_V1, =get_resps(condition_type=get_get_condition_type(condition_type), date=date, w_size=w_size)\n",
    "        results = Parallel(n_jobs=-1)(delayed(process_evar_subsample_seeds)(resp_V1, resp_V4, date, min_lengths, seed, alphas, condition_type) for seed in seeds)\n",
    "        all_v4_evars = np.array([a for a,_ in results])\n",
    "        all_v1_evars = np.array([a for _,a in results])\n",
    "        monkey_stats[condition_type][date][area]['spont_comparison_evars']=all_v4_evars\n",
    "        monkey_stats[condition_type][date][area2]['spont_comparison_evars']=all_v1_evars\n",
    "    print(f'{condition_type} done')\n",
    "\n",
    "end_time = time.time()\n",
    "elapsed_time = (end_time - start_time)/60\n",
    "print(f'Yay! work is completed. Took {elapsed_time:.4f} minutes to complete')   "
   ]
  },
  {
   "cell_type": "code",
   "execution_count": 265,
   "id": "5dfab0a6",
   "metadata": {},
   "outputs": [
    {
     "name": "stdout",
     "output_type": "stream",
     "text": [
      "RF_large done\n",
      "RF_thin done\n",
      "Yay! work is completed. Took 2.4463 minutes to complete\n"
     ]
    }
   ],
   "source": [
    "### shuffle control\n",
    "start_time = time.time()\n",
    "for condition_type in condition_types:\n",
    "    for date in monkey_stats[condition_type]:\n",
    "        resp_V4, resp_V1, =get_resps(condition_type=get_get_condition_type(condition_type), date=date, w_size=w_size)\n",
    "        results = Parallel(n_jobs=-1)(delayed(process_evar_subsample_seeds)(resp_V1, resp_V4, date, min_lengths, seed, alphas, condition_type) for seed in seeds)\n",
    "        all_v4_evars = np.array([a for a,_ in results])\n",
    "        all_v1_evars = np.array([a for _,a in results])\n",
    "        monkey_stats[condition_type][date][area]['spont_comparison_evars_null']=all_v4_evars\n",
    "        monkey_stats[condition_type][date][area2]['spont_comparison_evars_null']=all_v1_evars\n",
    "    print(f'{condition_type} done')\n",
    "end_time = time.time()\n",
    "elapsed_time = (end_time - start_time)/60\n",
    "print(f'Yay! work is completed. Took {elapsed_time:.4f} minutes to complete') "
   ]
  },
  {
   "cell_type": "code",
   "execution_count": 266,
   "id": "8d0475e1",
   "metadata": {},
   "outputs": [],
   "source": [
    "df_monkey_RF = make_monkey_df(monkey_stats, dataset_types=['RF_large','RF_large_spont','RF_thin','RF_thin_spont'], spont_comparisons=True)\n",
    "df_monkey_RF_visual =  df_monkey[(df_monkey['SNR']>2)&(df_monkey['Split-half r']>0.8)]"
   ]
  },
  {
   "cell_type": "code",
   "execution_count": 272,
   "id": "caf3f54a",
   "metadata": {},
   "outputs": [
    {
     "data": {
      "image/png": "[encoded data removed]",
      "text/plain": [
       "<Figure size 300x300 with 1 Axes>"
      ]
     },
     "metadata": {},
     "output_type": "display_data"
    }
   ],
   "source": [
    "figsize=(3,3)\n",
    "fontsize=7\n",
    "label_order=['V1→V4', 'V4→V1']\n",
    "hue_order=['stimulus', 'gray screen']\n",
    "x='Direction'\n",
    "y='EV'\n",
    "hue='Activity Type'\n",
    "fig, ax = plt.subplots(figsize=figsize)\n",
    "\n",
    "sns.violinplot(x=x, y=y, hue=hue, \n",
    "                data=df_monkey_RF_visual[df_monkey_RF_visual['control_shuffle']==False],ax=ax,order=label_order, hue_order=hue_order,\n",
    "                inner='box',linewidth=0,saturation=1, gap=-.1, width=0.8,\n",
    "                inner_kws={'box_width':2, 'whis_width':0.5,\n",
    "                            'marker':'_', 'markersize':3,\n",
    "                            'markeredgewidth':0.8,\n",
    "                            },palette=['#9b9b9b','lightgray'],cut=0,\n",
    "                            )\n",
    "\n",
    "ax.legend_.remove()\n",
    "custom_colors = ['#72BEB7','#B6E3DF',\n",
    "                '#EDAEAE', '#f6d6d6',]\n",
    "violins  = [s for s in ax.get_children() if isinstance(s, collections.PolyCollection)]\n",
    "for violin, color in zip(violins, custom_colors):\n",
    "    violin.set_facecolor(color)\n",
    "\n",
    "ax.tick_params(axis='both', labelsize=fontsize, width=0.5, length=3, pad=2)\n",
    "ax.set_ylabel('EV fraction', fontsize=fontsize, labelpad=1)\n",
    "ax.set_xlabel(None)\n",
    "ax.set_ylim(bottom=-0.05,top=0.9)\n",
    "sns.despine()\n",
    "add_stars_2_sets(df_monkey_RF_visual[df_monkey_RF_visual['control_shuffle']==False], neuron_property, variable1, \n",
    "                    x_order=directions,hue=variable2, \n",
    "                    ax=ax, fontsize=5.5, mouse_or_date='Date', \n",
    "                    height1=0.8, height2=0.8,\n",
    "                    perm_type='paired')\n",
    "ax.spines[:].set_linewidth(0.3)\n",
    "ax.set_title('moving bars', fontsize=fontsize*1.1, x=0.5, y=0.9)\n",
    "data = df_monkey_RF_visual[df_monkey_RF_visual['control_shuffle']==True][neuron_property]\n",
    "per_25 = np.percentile(data.dropna().values, 25)\n",
    "per_75 = np.percentile(data.dropna().values, 75)\n",
    "ax.axhspan(per_25, per_75, alpha=0.1, color='blue', label='shuffle\\ncontrol IQR',\n",
    "        linewidth=0,\n",
    "           )\n",
    "plt.show()\n",
    "\n"
   ]
  }
 ],
 "metadata": {
  "kernelspec": {
   "display_name": "base",
   "language": "python",
   "name": "python3"
  },
  "language_info": {
   "codemirror_mode": {
    "name": "ipython",
    "version": 3
   },
   "file_extension": ".py",
   "mimetype": "text/x-python",
   "name": "python",
   "nbconvert_exporter": "python",
   "pygments_lexer": "ipython3",
   "version": "3.11.4"
  }
 },
 "nbformat": 4,
 "nbformat_minor": 5
}
