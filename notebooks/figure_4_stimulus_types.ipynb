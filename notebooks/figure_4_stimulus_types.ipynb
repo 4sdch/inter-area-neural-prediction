{
 "cells": [
  {
   "cell_type": "code",
   "execution_count": 1,
   "id": "4ed59641-7107-42f2-9416-f2c4f3aeeaab",
   "metadata": {},
   "outputs": [],
   "source": [
    "main_dir = 'project_folder/'\n",
    "func_dir = main_dir + 'utils/'\n",
    "\n",
    "import sys\n",
    "sys.path.insert(0,func_dir)"
   ]
  },
  {
   "cell_type": "markdown",
   "id": "ec1ab73f",
   "metadata": {},
   "source": [
    "## functions"
   ]
  },
  {
   "cell_type": "markdown",
   "id": "2b03d163",
   "metadata": {},
   "source": [
    "### analysis functions"
   ]
  },
  {
   "cell_type": "code",
   "execution_count": 3,
   "id": "8fec70cd",
   "metadata": {},
   "outputs": [],
   "source": [
    "all_frames_reduced = {'SNR': 5, 'SNR_spont': 5, 'RS': 20, \n",
    "                      'RS_open':20, 'RS_closed': 20, \n",
    "                      'RF_thin':25, 'RF_large':25, 'RF_thin_spont':25, 'RF_large_spont':25}\n",
    "all_ini_stim_offs = {'SNR': 400, 'SNR_spont': 200, 'RS': None,\n",
    "                      'RS_open':None, 'RS_closed': None, \n",
    "                      'RF_thin':1000, 'RF_large':1000, 'RF_thin_spont':200, 'RF_large_spont':200}"
   ]
  },
  {
   "cell_type": "code",
   "execution_count": 2,
   "id": "babcb31f",
   "metadata": {},
   "outputs": [],
   "source": [
    "import numpy as np\n",
    "from ridge_regression_functions import get_best_alpha_evars\n",
    "\n",
    "## control prediction performance by duraction of activity recording and number of predictor neurons \n",
    "    \n",
    "def get_control_evars_seed(input_resp, pred_resp, input_control_lengths, pred_control_lengths, seed=17, \n",
    "                           shuffle_frames=False, condition_type_='SNR', n_splits=10, alphas = [1e4,5e5,1e5,5e5,1e6,5e6,1e7]):\n",
    "    \"\"\"\n",
    "    Calculate prediction performance while controlling for the number of predictor neurons and trial lengths.\n",
    "\n",
    "    Parameters:\n",
    "        input_resp (ndarray): Input responses data.\n",
    "        pred_resp (ndarray): Predicted responses data.\n",
    "        input_control_lengths (int): Number of predictor neurons to be used for input responses.\n",
    "        pred_control_lengths (int): Number of predictor neurons to be used for predicted responses.\n",
    "        seed (int, optional): Seed for random number generator. Default is 17.\n",
    "        shuffle_frames (bool, optional): Whether to shuffle frames. Default is False.\n",
    "        condition_type_ (str, optional): Type of condition. Default is 'SNR'.\n",
    "        n_splits (int, optional): Number of splits for cross-validation. Default is 10.\n",
    "        alphas (list, optional): List of alpha values for ridge regression. Default is [1e4,5e5,1e5,5e5,1e6,5e6,1e7].\n",
    "\n",
    "    Returns:\n",
    "        tuple: Tuple containing prediction performance for input and predicted responses.\n",
    "    \"\"\"\n",
    "    # Randomly select neurons based on control lengths\n",
    "    if pred_resp.shape[1]>pred_control_lengths:\n",
    "        np.random.seed(seed)\n",
    "        pred_chosen_neurons = np.random.choice(np.arange(pred_resp.shape[1]), pred_control_lengths, replace=False)\n",
    "        pred_resp_used = pred_resp[:,pred_chosen_neurons]\n",
    "    else:\n",
    "        pred_resp_used = pred_resp\n",
    "    \n",
    "    if input_resp.shape[1]> input_control_lengths:\n",
    "        np.random.seed(seed)\n",
    "        input_chosen_neurons = np.random.choice(np.arange(input_resp.shape[1]), input_control_lengths, replace=False)\n",
    "        input_resp_used = input_resp[:,input_chosen_neurons]\n",
    "    else:\n",
    "        input_resp_used=input_resp\n",
    "    # Calculate prediction performance for input and predicted responses\n",
    "    _, evars = get_best_alpha_evars(input_resp_used, \n",
    "                                            pred_resp_used, n_splits=n_splits, alphas=alphas, \n",
    "                                            frames_reduced=all_frames_reduced[condition_type_], control_shuffle=shuffle_frames)\n",
    "\n",
    "    _, evars2 = get_best_alpha_evars(pred_resp_used, \n",
    "                                            input_resp_used, n_splits=n_splits, alphas=alphas, \n",
    "                                            frames_reduced=all_frames_reduced[condition_type_],control_shuffle=shuffle_frames)\n",
    "\n",
    "    return evars, evars2\n",
    "\n",
    "\n",
    "from macaque_data_functions import get_resps, get_get_condition_type\n",
    "import mouse_data_functions as cs\n",
    "from joblib import Parallel, delayed\n",
    "\n",
    "def get_control_evars(animal_stats,input_control_lengths, pred_control_lengths, control_trial_length,  animal='mouse', area='L23',area2='L4',\n",
    "                             dataset_types = ['SNR', 'RF_thin', 'RF_large'],num_seeds=2, w_size=25, shuffle_frames=False, seed=17, n_splits=10, alphas=[1e4,5e5,1e5,5e5,1e6,5e6,1e7]):\n",
    "    \"\"\"\n",
    "    Calculate prediction performance while controlling for trial length, number of predictor neurons, and number of trials.\n",
    "\n",
    "    Parameters:\n",
    "        animal_stats (dict): Dictionary containing animal statistics.\n",
    "        input_control_lengths (int): Number of predictor neurons for input responses.\n",
    "        pred_control_lengths (int): Number of predictor neurons for predicted responses.\n",
    "        control_trial_length (int): Length of control trials.\n",
    "        animal (str, optional): Type of animal. Default is 'mouse'.\n",
    "        area (str, optional): Area for input responses. Default is 'L23'.\n",
    "        area2 (str, optional): Area for predicted responses. Default is 'L4'.\n",
    "        dataset_types (list, optional): Types of dataset. Default is ['SNR', 'RF_thin', 'RF_large'].\n",
    "        num_seeds (int, optional): Number of seeds. Default is 2.\n",
    "        w_size (int, optional): Window size. Default is 25.\n",
    "        shuffle_frames (bool, optional): Whether to shuffle frames. Default is False.\n",
    "        seed (int, optional): Seed for random number generator. Default is 17.\n",
    "        n_splits (int, optional): Number of splits for cross-validation. Default is 10.\n",
    "        alphas (list, optional): List of alpha values for ridge regression. Default is [1e4,5e5,1e5,5e5,1e6,5e6,1e7].\n",
    "\n",
    "    Returns:\n",
    "        None\n",
    "    \"\"\"\n",
    "    # Iterate through dataset types\n",
    "    for condition_type in dataset_types:\n",
    "        if animal=='mouse':\n",
    "            mt = cs.mt_retriever(main_dir, dataset_type=condition_type)\n",
    "        for mouse_or_date in animal_stats[condition_type]:\n",
    "            all_evars, all_evars2 = [],[]\n",
    "            if animal=='mouse':\n",
    "                resp_L1, pred_resp, resp_L2, resp_L3, input_resp = mt.retrieve_layer_activity('resp', mouse_or_date)\n",
    "                if len(resp_L1)<1000:\n",
    "                    continue\n",
    "            else:\n",
    "                get_condition_type = get_get_condition_type(condition_type)\n",
    "                pred_resp, input_resp= get_resps(condition_type=get_condition_type, date=mouse_or_date, w_size=w_size, stim_on=0, stim_off=all_ini_stim_offs[condition_type])\n",
    "            if pred_resp.shape[0]> control_trial_length:\n",
    "                # get random frame index to subsample from. have to chose a number that is less than n_frames-control trial length\n",
    "                # in case it's towards the end.\n",
    "                control_first_indices = [np.random.choice(np.arange(pred_resp.shape[0]-control_trial_length)) for _ in range(num_seeds)]\n",
    "                results = Parallel(n_jobs=-1)(delayed(get_control_evars_seed)(input_resp=input_resp[i:i+control_trial_length,:], \n",
    "                                                                            pred_resp=pred_resp[i:i+control_trial_length,:], \n",
    "                                                                            input_control_lengths = input_control_lengths,\n",
    "                                                                            pred_control_lengths=pred_control_lengths,\n",
    "                                                                            shuffle_frames=shuffle_frames, seed=seed,\n",
    "                                                                            condition_type_=condition_type, n_splits=n_splits) for i in control_first_indices)\n",
    "                for evar, evar2 in results:\n",
    "                    all_evars.append(evar)\n",
    "                    all_evars2.append(evar2)\n",
    "                evars = np.mean(np.array(all_evars), axis=0)\n",
    "                evars2=np.mean(np.array(all_evars2), axis=0)\n",
    "            else:\n",
    "                evars, evars2 = get_control_evars_seed(input_resp=input_resp, pred_resp=pred_resp,\n",
    "                                                       input_control_lengths = input_control_lengths,\n",
    "                                                        pred_control_lengths=pred_control_lengths,\n",
    "                                                        shuffle_frames=shuffle_frames, seed=seed,\n",
    "                                                            condition_type_=condition_type)\n",
    "\n",
    "            if shuffle_frames is True:\n",
    "                animal_stats[condition_type][mouse_or_date][area]['stimulus_type_evars_null']=evars\n",
    "                animal_stats[condition_type][mouse_or_date][area2]['stimulus_type_evars_null']=evars2\n",
    "            else:\n",
    "                animal_stats[condition_type][mouse_or_date][area]['stimulus_type_evars']=evars\n",
    "                animal_stats[condition_type][mouse_or_date][area2]['stimulus_type_evars']=evars2\n",
    "        print(f'{condition_type} done')"
   ]
  },
  {
   "cell_type": "markdown",
   "id": "25196e8d",
   "metadata": {},
   "source": [
    "### plotting functions"
   ]
  },
  {
   "cell_type": "code",
   "execution_count": 8,
   "id": "29313b0e",
   "metadata": {},
   "outputs": [],
   "source": [
    "import pandas as pd\n",
    "def extract_mouse_name(input_string):\n",
    "    index_of_MP = input_string.find('MP')\n",
    "    return input_string[index_of_MP:index_of_MP + 5] if index_of_MP != -1 and index_of_MP + 5 <= len(input_string) else None\n",
    "def get_property_dataset_type(input_string):\n",
    "    if 'spont' in input_string:\n",
    "        return input_string.replace('_spont','')\n",
    "    else:\n",
    "        return input_string \n",
    "def make_mouse_df_stimulus_comparisons(mouse_stats_, dataset_types=['ori32','natimg32']):\n",
    "    data = []\n",
    "    for dataset_type in dataset_types:\n",
    "        if 'spont' in dataset_type:\n",
    "            act_type = 'gray screen'\n",
    "        else:\n",
    "            act_type = 'stimulus'\n",
    "        for mouse, areas_data in mouse_stats_[dataset_type].items():\n",
    "            mouse_name = extract_mouse_name(mouse)\n",
    "            for area, values in areas_data.items():\n",
    "                if area=='L23':\n",
    "                    direction = 'L4→L2/3'\n",
    "                    area_ = 'L2/3'\n",
    "                else:\n",
    "                    direction = 'L2/3→L4'\n",
    "                    area_=area\n",
    "                split_half_rs = mouse_stats[get_property_dataset_type(dataset_type)][mouse][area]['split_half_r']\n",
    "                SNRs = mouse_stats[get_property_dataset_type(dataset_type)][mouse][area]['SNR_meanspont']\n",
    "                for split_half_r, snr,max_corr_val, evar, null_evar in zip(split_half_rs, SNRs,values['max_corr_val'],values['stimulus_type_evars'],values['stimulus_type_evars_null']):\n",
    "                    data.append({\n",
    "                        'Dataset Type': dataset_type,\n",
    "                        'Activity Type': act_type,\n",
    "                        'Mouse': mouse,\n",
    "                        'Mouse_Name':mouse_name,\n",
    "                        'Area': area_,\n",
    "                        'Direction':direction,\n",
    "                        'EV': evar,\n",
    "                        'SNR': snr,\n",
    "                        'Split-half r': split_half_r,\n",
    "                        'max corr. val':max_corr_val,\n",
    "                        'control_shuffle':False, \n",
    "                    })\n",
    "                    data.append({\n",
    "                        'Dataset Type': dataset_type,\n",
    "                        'Activity Type': act_type,\n",
    "                        'Mouse': mouse,\n",
    "                        'Mouse_Name':mouse_name,\n",
    "                        'Area': area_,\n",
    "                        'Direction':direction,\n",
    "                        'EV': null_evar,\n",
    "                        'SNR': snr,\n",
    "                        'Split-half r': split_half_r,\n",
    "                        'max corr. val':max_corr_val,\n",
    "                        'control_shuffle':True, \n",
    "                    })\n",
    "    # Create a DataFrame from the flattened data\n",
    "    df_mouse_all = pd.DataFrame(data)\n",
    "    return df_mouse_all\n",
    "\n",
    "def get_property_dataset_type_monkey(input_string):\n",
    "    if 'spont' in input_string:\n",
    "        return input_string.replace('_spont','')\n",
    "    elif 'RS' in input_string:\n",
    "        return 'SNR'\n",
    "    else:\n",
    "        return input_string \n",
    "\n",
    "def make_monkey_df_stimulus_comparisons(monkey_stats_, dataset_types=['SNR', 'RF_thin', 'RF_large']):\n",
    "    data = []\n",
    "    for dataset_type in dataset_types:\n",
    "        if 'spont' in dataset_type:\n",
    "            act_type = 'gray screen'\n",
    "        elif 'RS' in dataset_type:\n",
    "            act_type = 'lights off'\n",
    "        else:\n",
    "            act_type = 'stimulus'\n",
    "        for date, areas_data in monkey_stats_[dataset_type].items():\n",
    "            for area, values in areas_data.items():\n",
    "                if area=='V4':\n",
    "                    direction = 'V1→V4'\n",
    "                else:\n",
    "                    direction = 'V4→V1'\n",
    "                split_half_rs = monkey_stats_[get_property_dataset_type_monkey(dataset_type)][date][area]['split_half_r']\n",
    "                SNRs = monkey_stats_[get_property_dataset_type_monkey(dataset_type)][date][area]['SNR_meanspont']\n",
    "                for split_half_r, snr,max_corr_val, evar, null_evar in zip(split_half_rs, SNRs,values['max_corr_val'],values['stimulus_type_evars'],values['stimulus_type_evars_null']):\n",
    "                    data.append({\n",
    "                        'Dataset Type': dataset_type,\n",
    "                        'Activity Type': act_type,\n",
    "                        'Date':date,\n",
    "                        'Area': area,\n",
    "                        'Direction':direction,\n",
    "                        'EV': evar,\n",
    "                        'SNR': snr,\n",
    "                        'max corr. val':max_corr_val,\n",
    "                        'Split-half r': split_half_r,\n",
    "                        'control_shuffle':False, \n",
    "                    })\n",
    "                    data.append({\n",
    "                        'Dataset Type': dataset_type,\n",
    "                        'Activity Type': act_type,\n",
    "                        'Date': date,\n",
    "                        'Area': area,\n",
    "                        'Direction':direction,\n",
    "                        'EV': null_evar,\n",
    "                        'SNR': snr,\n",
    "                        'max corr. val':max_corr_val,\n",
    "                        'Split-half r': split_half_r,\n",
    "                        'control_shuffle':True, \n",
    "                    })\n",
    "    # Create a DataFrame from the flattened data\n",
    "    df_monkey_all = pd.DataFrame(data)\n",
    "    return df_monkey_all"
   ]
  },
  {
   "cell_type": "code",
   "execution_count": 9,
   "id": "e45c684e",
   "metadata": {},
   "outputs": [],
   "source": [
    "\n",
    "def plot_comparisons(x, y, data, ax, palette=None, hue=None, order=None, hue_order=None, bar_plot=False):\n",
    "    if bar_plot is True:\n",
    "        sns.barplot(x=str(x), y=y,data=data, hue=hue, \n",
    "                ax=ax,\n",
    "                errorbar='se', hue_order=hue_order, order=order,\n",
    "                palette=palette, errcolor = \"black\")\n",
    "    else:\n",
    "        sns.boxplot(data=data, x=str(x), y=y, hue=hue, ax=ax, showfliers=False,\n",
    "                    palette=palette, hue_order=hue_order, order=order,\n",
    "                    )\n",
    "    sns.despine()\n",
    "    ax.set(xlabel=None,\n",
    "        ylabel=None,\n",
    "        xticklabels='',\n",
    "        )\n",
    "    ax.set_xticks([])\n",
    "    # Set the fontsize of y-axis tick labels\n",
    "    ax.yaxis.set_tick_params(labelsize=17)\n",
    "    ax.legend(loc=(1.1,0.5))"
   ]
  },
  {
   "cell_type": "code",
   "execution_count": 10,
   "id": "13577cab",
   "metadata": {},
   "outputs": [],
   "source": [
    "import matplotlib.pyplot as plt\n",
    "import seaborn as sns\n",
    "\n",
    "\n",
    "def fig4_violinplot(df, x, y, hue, ax,label_order, hue_order, **args):\n",
    "    sns.violinplot(x=x, y=y, hue=hue, \n",
    "                data=df,ax=ax,order=label_order, hue_order=hue_order,\n",
    "                inner='box',\n",
    "                inner_kws={'box_width':2, 'whis_width':0.5,\n",
    "                            'marker':'_', 'markersize':3,\n",
    "                            'markeredgewidth':0.8,\n",
    "                            },\n",
    "                            **args\n",
    "                            )\n",
    "    ax.set(xlabel=None\n",
    "        )\n",
    "\n",
    "from matplotlib import collections\n",
    "def add_violin_custom_colors(ax):\n",
    "    \n",
    "    custom_colors = ['#72BEB7','#B6E3DF','#EDAEAE','#f6d6d6']\n",
    "    #custom_colors = ['lightseagreen','#B6E3DF','lightcoral', '#F1C0C0']\n",
    "    violins  = [s for s in ax.get_children() if isinstance(s, collections.PolyCollection)]\n",
    "    for violin, color in zip(violins, custom_colors):\n",
    "        violin.set_facecolor(color)\n",
    "\n",
    "\n",
    "from stats_functions import get_t_test_stars\n",
    "def add_stars_2_sets(df_, neuron_property, x, x_order, hue, ax, fontsize=7, height1=0.97, height2=0.97, perm_t=True, perm_type='ind', hierarchical=False, mouse_or_date='Mouse_Name'):\n",
    "    stars1 = get_t_test_stars(df_[df_[x]==x_order[0]], hue, neuron_property, perm_t=perm_t, perm_type=perm_type, hierarchical=hierarchical, mouse_or_date=mouse_or_date)\n",
    "    stars2 = get_t_test_stars(df_[df_[x]==x_order[1]], hue, neuron_property, perm_t=perm_t, perm_type=perm_type,hierarchical=hierarchical, mouse_or_date=mouse_or_date)\n",
    "    if stars1 == 'n.s.':\n",
    "        height1 = height1 + 0.02\n",
    "        fontsize1 = fontsize*0.9\n",
    "        color1='#C0C0C0'\n",
    "    else:\n",
    "        fontsize1 = fontsize\n",
    "        color1='black'\n",
    "        \n",
    "    if stars2 == 'n.s.':\n",
    "        height2 = height2 + 0.02\n",
    "        fontsize2 = fontsize*0.9\n",
    "        color2='#C0C0C0'\n",
    "    else:\n",
    "        fontsize2 = fontsize\n",
    "        color2='black'\n",
    "    \n",
    "    ax.text(0.25, height1, stars1, ha='center', va='center', fontsize=fontsize1, transform=ax.transAxes, color=color1)\n",
    "    ax.text(0.75, height2, stars2, ha='center', va='center', fontsize=fontsize2, transform=ax.transAxes, color=color2)\n",
    "\n",
    "def plot_null_line(df_, neuron_property, ax, linestyle='--', color='blue', label='95% CI\\ncontrol'):\n",
    "    \n",
    "    confidence_interval = stats.t.interval(0.95, len(df_[neuron_property]) - 1, loc=df_[neuron_property].mean(), scale=stats.sem(df_[neuron_property]))\n",
    "    ax.axhspan(confidence_interval[0], confidence_interval[1], alpha=0.1, color=color, label=label,\n",
    "        linestyle=linestyle,\n",
    "        )\n",
    "    \n",
    "from matplotlib import collections\n",
    "def add_violin_custom_colors_3(ax):\n",
    "    custom_colors = ['#136a66','#72BEB7','#B6E3DF','#a85959','#EDAEAE', '#f6d6d6']\n",
    "    violins  = [s for s in ax.get_children() if isinstance(s, collections.PolyCollection)]\n",
    "    for violin, color in zip(violins, custom_colors):\n",
    "        violin.set_facecolor(color)\n",
    "\n",
    "from stats_functions import get_oneway_anova_stars\n",
    "def add_anova_stars_2_sets(df_, neuron_property, x, x_order, hue, hue_order, ax, fontsize=7, height1=0.95, height2=1.02,height3=0.95, \n",
    "stars1_positions=None, stars2_positions=None, bar_height=0.02, perm_t=True, perm_type='ind'):\n",
    "    \n",
    "    star1_labels,all_stars1 = get_oneway_anova_stars(df_[df_[x]==x_order[0]], hue, hue_order, neuron_property, perm_t=perm_t, perm_type=perm_type)\n",
    "    star2_labels, all_stars2 = get_oneway_anova_stars(df_[df_[x]==x_order[1]], hue, hue_order, neuron_property, perm_t=perm_t, perm_type=perm_type)\n",
    "    height_positions = [height1,height2, height3]\n",
    "    if stars1_positions is None:\n",
    "        stars1_positions= [0.17,0.25,0.33]\n",
    "    if stars2_positions is None:\n",
    "        stars2_positions= [0.67,0.76,0.86]\n",
    "    bar_halflength = 0.12\n",
    "\n",
    "    \n",
    "    for s, (star1, star2) in enumerate(zip(all_stars1, all_stars2)):\n",
    "        if star1 =='n.s.':\n",
    "            height1 = height_positions[s] + 0.018\n",
    "            fontsize1 = fontsize*0.9\n",
    "            color1='#C0C0C0'\n",
    "        else:\n",
    "            height1 = height_positions[s]\n",
    "            fontsize1=fontsize\n",
    "            color1='black'\n",
    "        if star2 =='n.s.':\n",
    "            height2 = height_positions[s] + 0.018\n",
    "            fontsize2 = fontsize*0.9\n",
    "            color2='#C0C0C0'\n",
    "        else:\n",
    "            height2 = height_positions[s]\n",
    "            fontsize2 = fontsize\n",
    "            color2='black'\n",
    "\n",
    "        ax.text(stars1_positions[s], height1, star1, ha='center', va='center', fontsize=fontsize1, transform=ax.transAxes, color=color1)\n",
    "        ax.text(stars2_positions[s], height2, star2, ha='center', va='center', fontsize=fontsize2, transform=ax.transAxes, color=color2)\n",
    "        if s==1:\n",
    "            if star1 is not None:\n",
    "                ax.hlines(height_positions[s]- bar_height, stars1_positions[s] - bar_halflength, stars1_positions[s] + bar_halflength, \n",
    "                        color=color1,transform=ax.transAxes, linewidth=0.5)\n",
    "            if star2 is not None:\n",
    "                ax.hlines(height_positions[s]- bar_height, stars2_positions[s] - bar_halflength, stars2_positions[s] + bar_halflength, \n",
    "                        color=color2,transform=ax.transAxes, linewidth=0.5)"
   ]
  },
  {
   "cell_type": "markdown",
   "id": "510925b7",
   "metadata": {},
   "source": [
    "### supplemental plotting functions"
   ]
  },
  {
   "cell_type": "code",
   "execution_count": 11,
   "id": "efccba67",
   "metadata": {},
   "outputs": [],
   "source": [
    "import seaborn as sns\n",
    "def plot_neuronal_properties_comparison(df_, variable1, neuron_property, variable2, \n",
    "                                        ax, fontsize=7, label_order=None, hue_order=None, \n",
    "                                        yticks=None, ylabel=None,animal='mouse', stats_args=None, \n",
    "                                        mouse_height1=0.97,mouse_height2=0.97,\n",
    "                                        **plot_args):\n",
    "    \n",
    "    if animal == 'mouse':\n",
    "        palette = ['#72BEB7','#B6E3DF']\n",
    "    else:\n",
    "        palette = ['#72BEB7','#B6E3DF','lightgray']\n",
    "    fig4_violinplot(df_, x=variable1, y=neuron_property, \n",
    "                hue=variable2, ax=ax, label_order=label_order,\n",
    "                hue_order=hue_order, saturation=1,\n",
    "                gap=-0.5,width=0.75, linewidth=0, \n",
    "                alpha=0.7,palette=palette,cut=0,\n",
    "                **plot_args)\n",
    "    ax.legend_.remove()\n",
    "    sns.despine()\n",
    "    \n",
    "    if animal == 'mouse':\n",
    "        add_violin_custom_colors(ax)\n",
    "        add_stars_2_sets(df_, neuron_property, x=variable1, x_order=label_order,\n",
    "                         hue=variable2, ax=ax, hierarchical=True, **stats_args)\n",
    "    else:\n",
    "        add_violin_custom_colors_3(ax)\n",
    "        add_anova_stars_2_sets(df_, neuron_property, x=variable1, x_order=label_order, hue=variable2, \n",
    "                               hue_order=hue_order, ax=ax, **stats_args)\n",
    "    ax.tick_params(axis='both', labelsize=fontsize, width=0.3, length=2, pad=1)\n",
    "    ax.spines[:].set_linewidth(0.3)\n",
    "    if yticks is not None:\n",
    "        ax.set_yticks(ticks=yticks)\n",
    "    if ylabel is not None:\n",
    "        ax.set_ylabel(ylabel, fontsize=fontsize, labelpad=1)\n",
    "    else:\n",
    "        ax.set_ylabel(neuron_property, fontsize=fontsize, labelpad=1)\n"
   ]
  },
  {
   "cell_type": "markdown",
   "id": "1a85935b",
   "metadata": {},
   "source": [
    "## Mouse dataset type comparisons"
   ]
  },
  {
   "cell_type": "code",
   "execution_count": 17,
   "id": "7687ac55",
   "metadata": {},
   "outputs": [],
   "source": [
    "## store the lengths of the neurons and frames\n",
    "from neuron_properties_functions import create_empty_mouse_stats_dict, get_split_half_r_all_mice, get_SNR_all_mice, get_max_corr_vals_all_mice\n",
    "mouse_stats= create_empty_mouse_stats_dict(main_dir)\n",
    "get_SNR_all_mice(main_dir, mouse_stats)\n",
    "get_split_half_r_all_mice(main_dir, mouse_stats)\n",
    "get_max_corr_vals_all_mice(main_dir, mouse_stats)\n",
    "\n",
    "import mouse_data_functions as cs\n",
    "seed = 17\n",
    "dataset_types = ['ori32','natimg32']\n",
    "area='L23'\n",
    "area2='L4'\n",
    "activity_type = 'resp'\n",
    "L23_lengths = []\n",
    "L4_lengths = []\n",
    "trial_lengths = []\n",
    "for dataset_type in dataset_types:\n",
    "    mt = cs.mt_retriever(main_dir, dataset_type=dataset_type)\n",
    "    mousenames= sorted(mt.filenames)\n",
    "    for mouse in mousenames:\n",
    "        resp_L1, resp_L23, resp_L2, resp_L3, resp_L4 = mt.retrieve_layer_activity(activity_type, mouse)\n",
    "        L23_lengths.append(len(mouse_stats[dataset_type][mouse]['L23']['SNR_meanspont']))\n",
    "        L4_lengths.append(len(mouse_stats[dataset_type][mouse]['L4']['SNR_meanspont']))\n",
    "        trial_lengths.append(resp_L23.shape[0])\n",
    "\n",
    "L23_control_lengths = L23_lengths[np.argsort(np.array(L23_lengths))[1]]\n",
    "L4_control_lengths = L4_lengths[np.argsort(np.array(L4_lengths))[1]]\n",
    "control_trial_length = np.min(trial_lengths)"
   ]
  },
  {
   "cell_type": "code",
   "execution_count": null,
   "id": "d56f7a60",
   "metadata": {},
   "outputs": [],
   "source": [
    "import time\n",
    "start_time = time.time()\n",
    "get_control_evars(mouse_stats,input_control_lengths=L4_control_lengths,pred_control_lengths= L23_control_lengths,\n",
    "                  control_trial_length=control_trial_length,animal='mouse', area=area,area2=area2,dataset_types=dataset_types,\n",
    "                  num_seeds=10, shuffle_frames=False, seed=20)\n",
    "end_time = time.time()\n",
    "elapsed_time = (end_time - start_time)/60\n",
    "print(f'Yay! all done. Took {elapsed_time:.4f} minutes to complete') "
   ]
  },
  {
   "cell_type": "code",
   "execution_count": null,
   "id": "2885e184",
   "metadata": {},
   "outputs": [],
   "source": [
    "## shuffle control\n",
    "import time\n",
    "start_time = time.time()\n",
    "get_control_evars(mouse_stats,input_control_lengths=L4_control_lengths,pred_control_lengths= L23_control_lengths,\n",
    "                  control_trial_length=control_trial_length,animal='mouse', area=area,area2=area2,dataset_types=dataset_types,\n",
    "                  num_seeds=10, shuffle_frames=True, seed=20)\n",
    "end_time = time.time()\n",
    "elapsed_time = (end_time - start_time)/60\n",
    "print(f'Yay! all done. Took {elapsed_time:.4f} minutes to complete') "
   ]
  },
  {
   "cell_type": "markdown",
   "id": "d9135dea",
   "metadata": {},
   "source": [
    "### plotting"
   ]
  },
  {
   "cell_type": "code",
   "execution_count": 12,
   "id": "60179c7e",
   "metadata": {},
   "outputs": [],
   "source": [
    "df_mouse_all = make_mouse_df_stimulus_comparisons(mouse_stats)\n",
    "dfmouse = df_mouse_all[df_mouse_all.control_shuffle==False].reset_index()\n",
    "\n",
    "variable1='Direction'\n",
    "variable2='Dataset Type'\n",
    "filt_df_mouse = dfmouse[(dfmouse.SNR>2)&(dfmouse['Split-half r']>0.8)]\n",
    "filt_df_mouse = filt_df_mouse[filt_df_mouse['Mouse_Name'].isin(['MP031','MP032','MP033'])].reset_index()\n",
    "filt_df_mouse_null = df_mouse_all[(df_mouse_all.SNR>2)&(df_mouse_all['Split-half r']>0.8)&(df_mouse_all.control_shuffle==True)]\n",
    "filt_df_mouse_null = filt_df_mouse_null[filt_df_mouse_null['Mouse_Name'].isin(['MP031','MP032','MP033'])].reset_index()\n",
    "dataset_types = ['ori32', 'natimg32']\n",
    "directions= ['L4→L2/3', 'L2/3→L4']\n",
    "palette= ['#D3D3D3','#404040']"
   ]
  },
  {
   "cell_type": "code",
   "execution_count": 13,
   "id": "4525edea",
   "metadata": {},
   "outputs": [
    {
     "data": {
      "image/png": "[encoded data removed]",
      "text/plain": [
       "<Figure size 285x180 with 1 Axes>"
      ]
     },
     "metadata": {},
     "output_type": "display_data"
    }
   ],
   "source": [
    "neuron_property='EV'\n",
    "fig, ax = plt.subplots(figsize=((2.85,1.8)))\n",
    "fontsize=7\n",
    "fig4_violinplot(filt_df_mouse, x=variable1, y=neuron_property, \n",
    "                hue=variable2, ax=ax,\n",
    "                label_order=directions, hue_order=dataset_types,\n",
    "                gap=-0.1,width=0.65,cut=0,\n",
    "                linewidth=0, saturation=1, palette=['#72BEB7','#EDAEAE']\n",
    "                )\n",
    "\n",
    "ax.legend_.remove()\n",
    "ax.tick_params(axis='both', labelsize=fontsize, width=0.3, length=2, pad=1)\n",
    "add_violin_custom_colors(ax)\n",
    "sns.despine()\n",
    "ax.spines[:].set_linewidth(0.3)\n",
    "ax.set_ylabel('EV Fraction', fontsize=fontsize, labelpad=0)\n",
    "\n",
    "add_stars_2_sets(filt_df_mouse, neuron_property, x=variable1, x_order=directions,\n",
    "                 hue=variable2, ax=ax, height1=0.85, height2=0.85, perm_type='ind', hierarchical=True)\n",
    "\n",
    "data = filt_df_mouse_null['EV']\n",
    "per_25 = np.percentile(data.dropna().values, 25)\n",
    "per_75 = np.percentile(data.dropna().values, 75)\n",
    "ax.axhspan(per_25, per_75, alpha=0.1, color='blue', label='shuffle\\ncontrol IQR',\n",
    "        linewidth=0,\n",
    "           )\n",
    "plt.show()"
   ]
  },
  {
   "cell_type": "markdown",
   "id": "8f0d025f",
   "metadata": {},
   "source": [
    "### supplemental"
   ]
  },
  {
   "cell_type": "code",
   "execution_count": 14,
   "id": "13f64aec",
   "metadata": {},
   "outputs": [
    {
     "data": {
      "image/png": "[encoded data removed]",
      "text/plain": [
       "<Figure size 200x130 with 1 Axes>"
      ]
     },
     "metadata": {},
     "output_type": "display_data"
    }
   ],
   "source": [
    "import matplotlib.pyplot as plt\n",
    "variable1='Area'\n",
    "variable2='Dataset Type'\n",
    "dataset_types = ['ori32', 'natimg32']\n",
    "directions= ['L2/3','L4']\n",
    "figsize=(2,1.3)\n",
    "\n",
    "mouse_args = {'height1':1.05, 'height2':1.05}\n",
    "\n",
    "neuron_property='Split-half r'\n",
    "fig, ax = plt.subplots(figsize=figsize)\n",
    "plot_neuronal_properties_comparison(filt_df_mouse, variable1, neuron_property, variable2, \n",
    "                                        ax, fontsize=7, label_order=directions, hue_order=dataset_types, \n",
    "                                        yticks=[0.8,0.9,1], ylabel='split-half r', animal='mouse', stats_args=mouse_args)\n",
    "# Get the y-axis ticks\n",
    "y_ticks = plt.gca().get_yticks()\n",
    "# Check if 1 is among the ticks\n",
    "if 1 in y_ticks:\n",
    "    ax.set_ylim(top=1)\n",
    "    \n",
    "plt.show()"
   ]
  },
  {
   "cell_type": "code",
   "execution_count": 39,
   "id": "790d4b6a",
   "metadata": {},
   "outputs": [
    {
     "data": {
      "image/png": "[encoded data removed]",
      "text/plain": [
       "<Figure size 200x130 with 1 Axes>"
      ]
     },
     "metadata": {},
     "output_type": "display_data"
    }
   ],
   "source": [
    "neuron_property='SNR'\n",
    "fig, ax = plt.subplots(figsize=figsize)\n",
    "plot_neuronal_properties_comparison(filt_df_mouse, variable1, neuron_property, variable2, \n",
    "                                        ax, fontsize=7, label_order=directions, hue_order=dataset_types,\n",
    "                                        ylabel=None, log_scale=True, stats_args={'height1':0.8, 'height2':0.8})\n",
    "ax.set_ylim(top=100)\n",
    "plt.show()"
   ]
  },
  {
   "cell_type": "code",
   "execution_count": 40,
   "id": "20a0ed8c",
   "metadata": {},
   "outputs": [
    {
     "data": {
      "image/png": "[encoded data removed]",
      "text/plain": [
       "<Figure size 200x130 with 1 Axes>"
      ]
     },
     "metadata": {},
     "output_type": "display_data"
    }
   ],
   "source": [
    "neuron_property='max corr. val'\n",
    "fig, ax = plt.subplots(figsize=figsize)\n",
    "plot_neuronal_properties_comparison(filt_df_mouse, variable1, neuron_property, variable2, \n",
    "                                        ax, fontsize=7, label_order=directions, hue_order=dataset_types, \n",
    "                                        yticks=None, ylabel='max corr. val.', animal='mouse',stats_args={'height1':0.9, 'height2':0.9})\n",
    "plt.show()"
   ]
  },
  {
   "cell_type": "markdown",
   "id": "1c082103",
   "metadata": {},
   "source": [
    "## Monkey dataset type comparisons"
   ]
  },
  {
   "cell_type": "code",
   "execution_count": 30,
   "id": "e4ca10ed",
   "metadata": {},
   "outputs": [],
   "source": [
    "from neuron_properties_functions import create_empty_monkey_stats_dict, get_SNR_monkey_all_dates, get_split_half_r_monkey_all_dates, get_max_corr_vals_monkey_all_dates\n",
    "\n",
    "monkey_stats= create_empty_monkey_stats_dict()\n",
    "get_SNR_monkey_all_dates(monkey_stats)\n",
    "get_split_half_r_monkey_all_dates(monkey_stats)\n",
    "get_max_corr_vals_monkey_all_dates(monkey_stats)\n",
    "\n",
    "V4_lengths = []\n",
    "V1_lengths = []\n",
    "area='V4'\n",
    "area2='V1'\n",
    "dataset_types = ['SNR', 'RF_thin', 'RF_large']\n",
    "w_size=25\n",
    "for dataset_type in dataset_types:\n",
    "    for date in monkey_stats[dataset_type]:\n",
    "        V4_lengths.append(len(monkey_stats[dataset_type][date][area]['evars']))\n",
    "        V1_lengths.append(len(monkey_stats[dataset_type][date][area2]['evars']))\n",
    "        resp_V4, resp_V1= get_resps(condition_type=get_get_condition_type(dataset_type), date=date, w_size=w_size, stim_on=0, stim_off=stim_offs[dataset_type])\n",
    "        trial_lengths.append(resp_V4.shape[0])\n",
    "\n",
    "alphas = [1e4,1e5,5e5,1e6,5e6,1e7]\n",
    "V4_control_lengths = V4_lengths[np.argsort(np.array(V4_lengths))[1]] #control for number of neurons?\n",
    "V1_control_lengths = V1_lengths[np.argsort(np.array(V1_lengths))[1]]\n",
    "control_trial_length = np.min(trial_lengths)"
   ]
  },
  {
   "cell_type": "code",
   "execution_count": null,
   "id": "63e21588",
   "metadata": {},
   "outputs": [],
   "source": [
    "import time\n",
    "start_time = time.time()\n",
    "get_control_evars(monkey_stats,input_control_lengths=V1_control_lengths,pred_control_lengths= V4_control_lengths,\n",
    "                  control_trial_length=control_trial_length,animal='monkey', area=area,area2=area2,dataset_types=dataset_types,\n",
    "                  num_seeds=10, shuffle_frames=False, seed=20)\n",
    "end_time = time.time()\n",
    "elapsed_time = (end_time - start_time)/60\n",
    "print(f'Yay! all done. Took {elapsed_time:.4f} minutes to complete') "
   ]
  },
  {
   "cell_type": "code",
   "execution_count": null,
   "id": "7401f350",
   "metadata": {},
   "outputs": [],
   "source": [
    "### shuffle control\n",
    "import time\n",
    "start_time = time.time()\n",
    "get_control_evars(monkey_stats,input_control_lengths=V1_control_lengths,pred_control_lengths= V4_control_lengths,\n",
    "                  control_trial_length=control_trial_length,animal='monkey', area=area,area2=area2,dataset_types=dataset_types,\n",
    "                  num_seeds=10, shuffle_frames=True, seed=20)\n",
    "end_time = time.time()\n",
    "elapsed_time = (end_time - start_time)/60\n",
    "print(f'Yay! all done. Took {elapsed_time:.4f} minutes to complete')"
   ]
  },
  {
   "cell_type": "markdown",
   "id": "9a9b0f4b",
   "metadata": {},
   "source": [
    "### plotting"
   ]
  },
  {
   "cell_type": "code",
   "execution_count": 15,
   "id": "441893c3",
   "metadata": {},
   "outputs": [],
   "source": [
    "df_monkey_all = make_monkey_df_stimulus_comparisons(monkey_stats)\n",
    "filt_df_monkey = df_monkey_all[(df_monkey_all.control_shuffle==False)&(df_monkey_all['Split-half r']>0.8)&(df_monkey_all.SNR>=2)].reset_index()\n",
    "filt_df_monkey_null= df_monkey_all[(df_monkey_all.control_shuffle==True)&(df_monkey_all['Split-half r']>0.8)&(df_monkey_all.SNR>=2)].reset_index()\n",
    "dataset_types=['RF_thin', 'RF_large', 'SNR']\n",
    "variable1='Direction'\n",
    "variable2='Dataset Type'\n",
    "directions = ['V1→V4','V4→V1']\n",
    "figsize=(3,2)\n"
   ]
  },
  {
   "cell_type": "code",
   "execution_count": 16,
   "id": "b386abde",
   "metadata": {},
   "outputs": [
    {
     "data": {
      "image/png": "[encoded data removed]",
      "text/plain": [
       "<Figure size 285x180 with 1 Axes>"
      ]
     },
     "metadata": {},
     "output_type": "display_data"
    }
   ],
   "source": [
    "neuron_property='EV'\n",
    "fig, ax = plt.subplots(figsize=((2.85,1.8)))\n",
    "fontsize=7\n",
    "fig4_violinplot(filt_df_monkey, x=variable1, y=neuron_property, \n",
    "                hue=variable2, ax=ax, label_order=directions, \n",
    "                hue_order=dataset_types, gap=-0.1,width=0.7,cut=0,\n",
    "                linewidth=0, saturation=1, palette=['lightseagreen','lightcoral','#72BEB7']\n",
    "                )\n",
    "ax.legend_.remove()\n",
    "sns.despine()\n",
    "ax.set_ylabel('EV Fraction', fontsize=fontsize, labelpad=0)\n",
    "ax.tick_params(axis='both', labelsize=fontsize, width=0.3, length=2, pad=1)\n",
    "sns.despine()\n",
    "ax.spines[:].set_linewidth(0.3)\n",
    "add_violin_custom_colors_3(ax)\n",
    "add_anova_stars_2_sets(filt_df_monkey, neuron_property, x=variable1, x_order=directions,\n",
    "                       hue=variable2, hue_order=dataset_types, ax=ax, fontsize=fontsize,height1=0.85, height2=0.95, height3=0.85,\n",
    "                       stars1_positions=[0.16,0.23,0.30],\n",
    "                       stars2_positions=[0.69,0.77,0.83],\n",
    "                       )\n",
    "data = filt_df_monkey_null['EV']\n",
    "per_25 = np.percentile(data.dropna().values, 25)\n",
    "per_75 = np.percentile(data.dropna().values, 75)\n",
    "ax.axhspan(per_25, per_75, alpha=0.1, color='blue', label='shuffle\\ncontrol IQR',\n",
    "        linewidth=0,\n",
    "           )\n",
    "# Get the y-axis ticks\n",
    "y_ticks = plt.gca().get_yticks()\n",
    "# Check if 1 is among the ticks\n",
    "if 1 in y_ticks:\n",
    "    ax.set_ylim(top=1)\n",
    "plt.show()\n",
    "\n"
   ]
  },
  {
   "cell_type": "markdown",
   "id": "aecfe130",
   "metadata": {},
   "source": [
    "### supplemental"
   ]
  },
  {
   "cell_type": "code",
   "execution_count": 17,
   "id": "6fc3535b",
   "metadata": {},
   "outputs": [],
   "source": [
    "variable1='Area'\n",
    "variable2='Dataset Type'\n",
    "dataset_types = ['RF_thin', 'RF_large', 'SNR']\n",
    "directions= ['V4','V1']\n",
    "figsize=(2,1.3)\n"
   ]
  },
  {
   "cell_type": "code",
   "execution_count": 18,
   "id": "7c0a48cb",
   "metadata": {},
   "outputs": [
    {
     "data": {
      "image/png": "[encoded data removed]",
      "text/plain": [
       "<Figure size 200x130 with 1 Axes>"
      ]
     },
     "metadata": {},
     "output_type": "display_data"
    }
   ],
   "source": [
    "stats_args = {'fontsize': fontsize*0.8, 'height1':1.02, 'height2': 1.12, 'height3': 1.02, 'stars1_positions': [0.18,0.26,0.34],'stars2_positions':[0.68,0.75,0.83],'bar_height':0.02 }\n",
    "neuron_property='Split-half r'\n",
    "\n",
    "fig, ax = plt.subplots(figsize=figsize)\n",
    "plot_neuronal_properties_comparison(filt_df_monkey, variable1, neuron_property, variable2, \n",
    "                                        ax, fontsize=7, label_order=directions, hue_order=dataset_types, \n",
    "                                        yticks=[0.8,0.9,1], ylabel='split-half r', animal='monkey', stats_args=stats_args)\n",
    "# Get the y-axis ticks\n",
    "y_ticks = plt.gca().get_yticks()\n",
    "# Check if 1 is among the ticks\n",
    "if 1 in y_ticks:\n",
    "        ax.set_ylim(top=1)\n",
    "ax.plot([-0.2,0.2], # -0.095, units are width of the axes\n",
    "        [1.101, 1.101], # 0 to 500, units are same as the y-axis\n",
    "        clip_on=False,\n",
    "        transform=ax.get_xaxis_transform(),\n",
    "        color='black', linewidth=0.7)\n",
    "ax.plot([0.804,1.2], # -0.095, units are width of the axes\n",
    "        [1.101, 1.101], # 0 to 500, units are same as the y-axis\n",
    "        clip_on=False,\n",
    "        transform=ax.get_xaxis_transform(),\n",
    "        color='black', linewidth=0.7)\n",
    "plt.show()"
   ]
  },
  {
   "cell_type": "code",
   "execution_count": 19,
   "id": "427a4918",
   "metadata": {},
   "outputs": [
    {
     "data": {
      "image/png": "[encoded data removed]",
      "text/plain": [
       "<Figure size 200x130 with 1 Axes>"
      ]
     },
     "metadata": {},
     "output_type": "display_data"
    }
   ],
   "source": [
    "stats_args = {'fontsize': fontsize*0.8, 'height1':0.92, 'height2': 1.02, 'height3': 0.92, \n",
    "              'stars1_positions': [0.18,0.26,0.34],'stars2_positions':[0.68,0.75,0.83],'bar_height':0.02 }\n",
    "neuron_property='SNR'\n",
    "fig, ax = plt.subplots(figsize=figsize)\n",
    "plot_neuronal_properties_comparison(filt_df_monkey, variable1, neuron_property, variable2, \n",
    "                                        ax, fontsize=7, label_order=directions, hue_order=dataset_types, \n",
    "                                        yticks=None, ylabel=None, animal='monkey', stats_args=stats_args,\n",
    "                                        log_scale=True)\n",
    "ax.set_ylim(top=100)\n",
    "plt.show()"
   ]
  },
  {
   "cell_type": "code",
   "execution_count": 69,
   "id": "1ccda6fd",
   "metadata": {},
   "outputs": [
    {
     "data": {
      "image/png": "[encoded data removed]",
      "text/plain": [
       "<Figure size 200x130 with 1 Axes>"
      ]
     },
     "metadata": {},
     "output_type": "display_data"
    }
   ],
   "source": [
    "stats_args = {'fontsize': fontsize*0.8, 'height1':0.92, 'height2': 1.02, 'height3': 0.92,'stars1_positions': [0.18,0.26,0.34],'stars2_positions':[0.68,0.75,0.83],'bar_height':0.02 }\n",
    "neuron_property='max corr. val'\n",
    "\n",
    "fig, ax = plt.subplots(figsize=figsize)\n",
    "plot_neuronal_properties_comparison(filt_df_monkey, variable1, neuron_property, variable2, \n",
    "                                        ax, fontsize=7, label_order=directions, hue_order=dataset_types, \n",
    "                                        yticks=None, ylabel='max corr. val.', animal='monkey', stats_args=stats_args)\n",
    "# Get the y-axis ticks\n",
    "y_ticks = plt.gca().get_yticks()\n",
    "# Check if 1 is among the ticks\n",
    "if 1 in y_ticks:\n",
    "    ax.set_ylim(top=1)\n",
    "plt.show()"
   ]
  },
  {
   "cell_type": "code",
   "execution_count": 3,
   "id": "e349dbf4",
   "metadata": {},
   "outputs": [],
   "source": [
    "main_dir = '/Users/diannahidalgo/Documents/thesis_shenanigans/aim2_project/inter_areal_predictability_github/'\n",
    "func_dir = main_dir + 'utils/'\n",
    "\n",
    "import sys\n",
    "sys.path.insert(0,func_dir)"
   ]
  },
  {
   "cell_type": "code",
   "execution_count": 5,
   "id": "fd14ce3a",
   "metadata": {},
   "outputs": [],
   "source": [
    "\n",
    "\n",
    "main_dir = '/Users/diannahidalgo/Documents/thesis_shenanigans/aim2_project/'\n",
    "\n",
    "import pickle\n",
    "# File path where you want to save the dictionary\n",
    "file_path = main_dir + f'results/animal_stats/'\n",
    "\n",
    "with open(file_path + 'mouse_stats_2_26_24', 'rb') as file:\n",
    "    old_mouse_stats = pickle.load(file)\n",
    "\n",
    "with open(file_path + 'monkey_stats_2_25_24', 'rb') as file:\n",
    "    old_monkey_stats = pickle.load(file)\n"
   ]
  },
  {
   "cell_type": "code",
   "execution_count": 6,
   "id": "94056162",
   "metadata": {},
   "outputs": [],
   "source": [
    "import copy\n",
    "from neuron_properties_functions import create_empty_mouse_stats_dict\n",
    "\n",
    "mouse_stats= create_empty_mouse_stats_dict(main_dir)\n",
    "\n",
    "for dataset_type in ['ori32', 'natimg32']:\n",
    "    for mouse, area_data in mouse_stats[dataset_type].items():\n",
    "        for area, values in area_data.items():\n",
    "            mouse_stats[dataset_type][mouse][area]['stimulus_type_evars']=copy.deepcopy(old_mouse_stats[dataset_type][mouse][area]['control_evars'])\n",
    "            mouse_stats[dataset_type][mouse][area]['stimulus_type_evars_null']=copy.deepcopy(old_mouse_stats[dataset_type][mouse][area]['control_evars_null'])\n",
    "            mouse_stats[dataset_type][mouse][area]['SNR_meanspont']=copy.deepcopy(old_mouse_stats[dataset_type][mouse][area]['SNR_meanspont'])\n",
    "            mouse_stats[dataset_type][mouse][area]['max_corr_val']=copy.deepcopy(old_mouse_stats[dataset_type][mouse][area]['max_corr_vals'])\n",
    "            mouse_stats[dataset_type][mouse][area]['split_half_r']=copy.deepcopy(old_mouse_stats[dataset_type][mouse][area]['traditional_reli'])\n"
   ]
  },
  {
   "cell_type": "code",
   "execution_count": 7,
   "id": "76e9a9cc",
   "metadata": {},
   "outputs": [],
   "source": [
    "import copy\n",
    "import numpy as np\n",
    "from neuron_properties_functions import create_empty_monkey_stats_dict\n",
    "\n",
    "monkey_stats= create_empty_monkey_stats_dict()\n",
    "\n",
    "for dataset_type in ['SNR', 'RF_thin','RF_large']:\n",
    "    for date, area_data in monkey_stats[dataset_type].items():\n",
    "        for area, values in area_data.items():\n",
    "            if len(old_monkey_stats[dataset_type][date][area]['control_evars'].shape) > 1:\n",
    "                monkey_stats[dataset_type][date][area]['stimulus_type_evars']=np.nanmean(old_monkey_stats[dataset_type][date][area]['control_evars'], axis=0)\n",
    "                monkey_stats[dataset_type][date][area]['stimulus_type_evars_null']=np.nanmean(old_monkey_stats[dataset_type][date][area]['control_evars_null'], axis=0)\n",
    "\n",
    "            else:\n",
    "                monkey_stats[dataset_type][date][area]['stimulus_type_evars']=copy.deepcopy(old_monkey_stats[dataset_type][date][area]['control_evars'])\n",
    "                monkey_stats[dataset_type][date][area]['stimulus_type_evars_null']=copy.deepcopy(old_monkey_stats[dataset_type][date][area]['control_evars_null'])\n",
    "\n",
    "            monkey_stats[dataset_type][date][area]['SNR_meanspont']=copy.deepcopy(old_monkey_stats[dataset_type][date][area]['SNR_meanspont'])\n",
    "            monkey_stats[dataset_type][date][area]['max_corr_val']=copy.deepcopy(old_monkey_stats[dataset_type][date][area]['max_corr_vals'])\n",
    "            monkey_stats[dataset_type][date][area]['split_half_r']=copy.deepcopy(old_monkey_stats[dataset_type][date][area]['traditional_reli'])\n"
   ]
  },
  {
   "cell_type": "code",
   "execution_count": null,
   "id": "85815929",
   "metadata": {},
   "outputs": [],
   "source": []
  }
 ],
 "metadata": {
  "kernelspec": {
   "display_name": "Python 3 (ipykernel)",
   "language": "python",
   "name": "python3"
  },
  "language_info": {
   "codemirror_mode": {
    "name": "ipython",
    "version": 3
   },
   "file_extension": ".py",
   "mimetype": "text/x-python",
   "name": "python",
   "nbconvert_exporter": "python",
   "pygments_lexer": "ipython3",
   "version": "3.11.4"
  }
 },
 "nbformat": 4,
 "nbformat_minor": 5
}
