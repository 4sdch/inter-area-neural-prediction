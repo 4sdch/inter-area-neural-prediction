{
 "cells": [
  {
   "cell_type": "code",
   "execution_count": 1,
   "id": "4ed59641-7107-42f2-9416-f2c4f3aeeaab",
   "metadata": {},
   "outputs": [],
   "source": [
    "import numpy as np\n",
    "import matplotlib.pyplot as plt\n",
    "import pandas as pd\n",
    "import seaborn as sns\n",
    "import pickle\n",
    "from itertools import combinations\n",
    "from statsmodels.stats.multitest import multipletests\n",
    "import sys\n",
    "\n",
    "main_dir = ''\n",
    "func_dir = main_dir + 'utils/'\n",
    "fig_dir = main_dir + 'results/paper_figures/'\n",
    "\n",
    "sys.path.insert(0,func_dir)\n",
    "\n",
    "import mouse_data_functions as cs\n",
    "from fig_4_functions import make_mouse_df_stimulus_comparisons, fig4_violinplot,add_stars_2_sets,add_violin_custom_colors,plot_neuronal_properties_comparison,make_monkey_df_stimulus_comparisons\n",
    "from fig_4_functions import add_violin_custom_colors_3, add_anova_stars_2_sets, store_control_alphas_mouse, get_control_evars\n",
    "from neuron_properties_functions import create_empty_monkey_stats_dict, get_SNR_monkey_all_dates, get_split_half_r_monkey_all_dates, get_max_corr_vals_monkey_all_dates\n",
    "from neuron_properties_functions import create_empty_mouse_stats_dict, get_split_half_r_all_mice, get_SNR_all_mice, get_max_corr_vals_all_mice\n",
    "from macaque_data_functions import get_resps, get_get_condition_type\n",
    "\n",
    "\n"
   ]
  },
  {
   "cell_type": "markdown",
   "id": "1a85935b",
   "metadata": {},
   "source": [
    "## Mouse dataset type comparisons"
   ]
  },
  {
   "cell_type": "code",
   "execution_count": 4,
   "id": "7687ac55",
   "metadata": {},
   "outputs": [],
   "source": [
    "## store the lengths of the neurons and frames\n",
    "\n",
    "mouse_stats= create_empty_mouse_stats_dict(main_dir)\n",
    "get_SNR_all_mice(main_dir, mouse_stats)\n",
    "get_split_half_r_all_mice(main_dir, mouse_stats)\n",
    "get_max_corr_vals_all_mice(main_dir, mouse_stats)\n",
    "\n",
    "seed = 17\n",
    "dataset_types = ['ori32','natimg32']\n",
    "area='L23'\n",
    "area2='L4'\n",
    "activity_type = 'resp'\n",
    "L23_lengths = []\n",
    "L4_lengths = []\n",
    "trial_lengths = []\n",
    "for dataset_type in dataset_types:\n",
    "    mt = cs.mt_retriever(main_dir, dataset_type=dataset_type)\n",
    "    mousenames= sorted(mt.filenames)\n",
    "    for mouse in mousenames:\n",
    "        resp_L1, resp_L23, resp_L2, resp_L3, resp_L4 = mt.retrieve_layer_activity(activity_type, mouse)\n",
    "        L23_lengths.append(len(mouse_stats[dataset_type][mouse]['L23']['SNR_meanspont']))\n",
    "        L4_lengths.append(len(mouse_stats[dataset_type][mouse]['L4']['SNR_meanspont']))\n",
    "        trial_lengths.append(resp_L23.shape[0])\n",
    "\n",
    "L23_control_lengths = L23_lengths[np.argsort(np.array(L23_lengths))[1]]\n",
    "L4_control_lengths = L4_lengths[np.argsort(np.array(L4_lengths))[1]]\n",
    "control_trial_length = np.min(trial_lengths)"
   ]
  },
  {
   "cell_type": "code",
   "execution_count": null,
   "id": "7e8ee7fa",
   "metadata": {},
   "outputs": [],
   "source": [
    "store_control_alphas_mouse(mouse_stats, 'ori32', 'MP031', input_control_lengths=L4_control_lengths,pred_control_lengths=L23_control_lengths,\n",
    "                        sample_size=500, frames_to_reduce=5, n_splits=10)"
   ]
  },
  {
   "cell_type": "code",
   "execution_count": null,
   "id": "d56f7a60",
   "metadata": {},
   "outputs": [],
   "source": [
    "get_control_evars(mouse_stats,input_control_lengths=L4_control_lengths,pred_control_lengths= L23_control_lengths,\n",
    "                  control_trial_length=control_trial_length,animal='mouse', area=area,area2=area2,dataset_types=dataset_types,\n",
    "                  num_seeds=10, shuffle_frames=False, seed=20)\n",
    "\n",
    "get_control_evars(mouse_stats,input_control_lengths=L4_control_lengths,pred_control_lengths= L23_control_lengths,\n",
    "                  control_trial_length=control_trial_length,animal='mouse', area=area,area2=area2,dataset_types=dataset_types,\n",
    "                  num_seeds=10, shuffle_frames=True, seed=20)"
   ]
  },
  {
   "cell_type": "markdown",
   "id": "d9135dea",
   "metadata": {},
   "source": [
    "### plotting"
   ]
  },
  {
   "cell_type": "code",
   "execution_count": 71,
   "id": "60179c7e",
   "metadata": {},
   "outputs": [],
   "source": [
    "df_mouse_all = make_mouse_df_stimulus_comparisons(mouse_stats)\n",
    "dfmouse = df_mouse_all[df_mouse_all.control_shuffle==False].reset_index()\n",
    "\n",
    "variable1='Direction'\n",
    "variable2='Dataset Type'\n",
    "filt_df_mouse = dfmouse[(dfmouse.SNR>2)&(dfmouse['Split-half r']>0.8)]\n",
    "filt_df_mouse = filt_df_mouse[filt_df_mouse['Mouse_Name'].isin(['MP031','MP032','MP033'])].reset_index()\n",
    "filt_df_mouse_null = df_mouse_all[(df_mouse_all.SNR>2)&(df_mouse_all['Split-half r']>0.8)&(df_mouse_all.control_shuffle==True)]\n",
    "filt_df_mouse_null = filt_df_mouse_null[filt_df_mouse_null['Mouse_Name'].isin(['MP031','MP032','MP033'])].reset_index()\n",
    "dataset_types = ['ori32', 'natimg32']\n",
    "directions= ['L4→L2/3', 'L2/3→L4']\n",
    "palette= ['#D3D3D3','#404040']"
   ]
  },
  {
   "cell_type": "code",
   "execution_count": 72,
   "id": "4525edea",
   "metadata": {},
   "outputs": [
    {
     "data": {
      "image/png": "[encoded data removed]",
      "text/plain": [
       "<Figure size 285x180 with 1 Axes>"
      ]
     },
     "metadata": {},
     "output_type": "display_data"
    }
   ],
   "source": [
    "neuron_property='EV'\n",
    "fig, ax = plt.subplots(figsize=((2.85,1.8)))\n",
    "fontsize=7\n",
    "fig4_violinplot(filt_df_mouse, x=variable1, y=neuron_property, \n",
    "                hue=variable2, ax=ax,\n",
    "                label_order=directions, hue_order=dataset_types,\n",
    "                gap=-0.1,width=0.65,cut=0,\n",
    "                linewidth=0, saturation=1, palette=['#72BEB7','#EDAEAE']\n",
    "                )\n",
    "\n",
    "ax.legend_.remove()\n",
    "ax.tick_params(axis='both', labelsize=fontsize, width=0.3, length=2, pad=1)\n",
    "add_violin_custom_colors(ax)\n",
    "sns.despine()\n",
    "ax.spines[:].set_linewidth(0.3)\n",
    "ax.set_ylabel('EV Fraction', fontsize=fontsize, labelpad=0)\n",
    "\n",
    "add_stars_2_sets(filt_df_mouse, neuron_property, x=variable1, x_order=directions,\n",
    "                 hue=variable2, ax=ax, height1=0.85, height2=0.85, perm_type='ind', hierarchical=True)\n",
    "\n",
    "data = filt_df_mouse_null['EV']\n",
    "per_25 = np.percentile(data.dropna().values, 25)\n",
    "per_75 = np.percentile(data.dropna().values, 75)\n",
    "ax.axhspan(per_25, per_75, alpha=0.1, color='blue', label='shuffle\\ncontrol IQR',\n",
    "        linewidth=0,\n",
    "           )\n",
    "plt.show()"
   ]
  },
  {
   "cell_type": "markdown",
   "id": "8f0d025f",
   "metadata": {},
   "source": [
    "### supplemental"
   ]
  },
  {
   "cell_type": "code",
   "execution_count": 14,
   "id": "13f64aec",
   "metadata": {},
   "outputs": [
    {
     "data": {
      "image/png": "[encoded data removed]",
      "text/plain": [
       "<Figure size 200x130 with 1 Axes>"
      ]
     },
     "metadata": {},
     "output_type": "display_data"
    }
   ],
   "source": [
    "import matplotlib.pyplot as plt\n",
    "variable1='Area'\n",
    "variable2='Dataset Type'\n",
    "dataset_types = ['ori32', 'natimg32']\n",
    "directions= ['L2/3','L4']\n",
    "figsize=(2,1.3)\n",
    "\n",
    "mouse_args = {'height1':1.05, 'height2':1.05}\n",
    "\n",
    "neuron_property='Split-half r'\n",
    "fig, ax = plt.subplots(figsize=figsize)\n",
    "plot_neuronal_properties_comparison(filt_df_mouse, variable1, neuron_property, variable2, \n",
    "                                        ax, fontsize=7, label_order=directions, hue_order=dataset_types, \n",
    "                                        yticks=[0.8,0.9,1], ylabel='split-half r', animal='mouse', stats_args=mouse_args)\n",
    "# Get the y-axis ticks\n",
    "y_ticks = plt.gca().get_yticks()\n",
    "# Check if 1 is among the ticks\n",
    "if 1 in y_ticks:\n",
    "    ax.set_ylim(top=1)\n",
    "    \n",
    "plt.show()"
   ]
  },
  {
   "cell_type": "code",
   "execution_count": 39,
   "id": "790d4b6a",
   "metadata": {},
   "outputs": [
    {
     "data": {
      "image/png": "[encoded data removed]",
      "text/plain": [
       "<Figure size 200x130 with 1 Axes>"
      ]
     },
     "metadata": {},
     "output_type": "display_data"
    }
   ],
   "source": [
    "neuron_property='SNR'\n",
    "fig, ax = plt.subplots(figsize=figsize)\n",
    "plot_neuronal_properties_comparison(filt_df_mouse, variable1, neuron_property, variable2, \n",
    "                                        ax, fontsize=7, label_order=directions, hue_order=dataset_types,\n",
    "                                        ylabel=None, log_scale=True, stats_args={'height1':0.8, 'height2':0.8})\n",
    "ax.set_ylim(top=100)\n",
    "plt.show()"
   ]
  },
  {
   "cell_type": "code",
   "execution_count": 40,
   "id": "20a0ed8c",
   "metadata": {},
   "outputs": [
    {
     "data": {
      "image/png": "[encoded data removed]",
      "text/plain": [
       "<Figure size 200x130 with 1 Axes>"
      ]
     },
     "metadata": {},
     "output_type": "display_data"
    }
   ],
   "source": [
    "neuron_property='max corr. val'\n",
    "fig, ax = plt.subplots(figsize=figsize)\n",
    "plot_neuronal_properties_comparison(filt_df_mouse, variable1, neuron_property, variable2, \n",
    "                                        ax, fontsize=7, label_order=directions, hue_order=dataset_types, \n",
    "                                        yticks=None, ylabel='max corr. val.', animal='mouse',stats_args={'height1':0.9, 'height2':0.9})\n",
    "plt.show()"
   ]
  },
  {
   "cell_type": "markdown",
   "id": "1c082103",
   "metadata": {},
   "source": [
    "## Monkey dataset type comparisons"
   ]
  },
  {
   "cell_type": "markdown",
   "id": "e6465cbf",
   "metadata": {},
   "source": [
    "### coding"
   ]
  },
  {
   "cell_type": "code",
   "execution_count": 73,
   "id": "e4ca10ed",
   "metadata": {},
   "outputs": [],
   "source": [
    "all_ini_stim_offs = {'SNR': 400, 'SNR_spont': 200, 'RS': None,\n",
    "                    'RS_open':None, 'RS_closed': None, \n",
    "                    'RF_thin':1000, 'RF_large':1000, 'RF_thin_spont':200, 'RF_large_spont':200}\n",
    "\n",
    "monkey_stats= create_empty_monkey_stats_dict()\n",
    "get_SNR_monkey_all_dates(monkey_stats)\n",
    "get_split_half_r_monkey_all_dates(monkey_stats)\n",
    "get_max_corr_vals_monkey_all_dates(monkey_stats)\n",
    "\n",
    "\n",
    "V4_lengths = []\n",
    "V1_lengths = []\n",
    "area='V4'\n",
    "area2='V1'\n",
    "dataset_types = ['SNR', 'RF_thin', 'RF_large']\n",
    "w_size=25\n",
    "for dataset_type in dataset_types:\n",
    "    for date in monkey_stats[dataset_type]:\n",
    "        V4_lengths.append(len(monkey_stats[dataset_type][date][area]['SNR_meanspont']))\n",
    "        V1_lengths.append(len(monkey_stats[dataset_type][date][area2]['SNR_meanspont']))\n",
    "        resp_V4, resp_V1= get_resps(condition_type=get_get_condition_type(dataset_type), date=date, w_size=w_size, stim_on=0, stim_off=all_ini_stim_offs[dataset_type])\n",
    "        trial_lengths.append(resp_V4.shape[0])\n",
    "\n",
    "V4_control_lengths = V4_lengths[np.argsort(np.array(V4_lengths))[1]] #control for number of neurons?\n",
    "V1_control_lengths = V1_lengths[np.argsort(np.array(V1_lengths))[1]]\n",
    "control_trial_length = np.min(trial_lengths)"
   ]
  },
  {
   "cell_type": "code",
   "execution_count": 74,
   "id": "63e21588",
   "metadata": {},
   "outputs": [
    {
     "name": "stdout",
     "output_type": "stream",
     "text": [
      "yay! it took 1.36 minutes to finish all dataset types!\n"
     ]
    }
   ],
   "source": [
    "get_control_evars(monkey_stats,input_control_lengths=V1_control_lengths,pred_control_lengths= V4_control_lengths,\n",
    "                control_trial_length=control_trial_length,animal='monkey', area=area,area2=area2,dataset_types=dataset_types,\n",
    "                num_seeds=10, shuffle_frames=False, seed=20)"
   ]
  },
  {
   "cell_type": "code",
   "execution_count": 75,
   "id": "7401f350",
   "metadata": {},
   "outputs": [
    {
     "name": "stdout",
     "output_type": "stream",
     "text": [
      "yay! it took 1.35 minutes to finish all dataset types!\n"
     ]
    }
   ],
   "source": [
    "\n",
    "get_control_evars(monkey_stats,input_control_lengths=V1_control_lengths,pred_control_lengths= V4_control_lengths,\n",
    "                control_trial_length=control_trial_length,animal='monkey', area=area,area2=area2,dataset_types=dataset_types,\n",
    "                num_seeds=10, shuffle_frames=True, seed=20)\n"
   ]
  },
  {
   "cell_type": "markdown",
   "id": "9a9b0f4b",
   "metadata": {},
   "source": [
    "### plotting"
   ]
  },
  {
   "cell_type": "code",
   "execution_count": 3,
   "id": "441893c3",
   "metadata": {},
   "outputs": [],
   "source": [
    "df_monkey_all = make_monkey_df_stimulus_comparisons(monkey_stats)\n",
    "filt_df_monkey = df_monkey_all[(df_monkey_all.control_shuffle==False)&(df_monkey_all['Split-half r']>0.8)&(df_monkey_all.SNR>=2)].reset_index(drop=True)\n",
    "filt_df_monkey_null= df_monkey_all[(df_monkey_all.control_shuffle==True)&(df_monkey_all['Split-half r']>0.8)&(df_monkey_all.SNR>=2)].reset_index(drop=True)\n",
    "dataset_types=['RF_thin', 'RF_large', 'SNR']\n",
    "variable1='Direction'\n",
    "variable2='Dataset Type'\n",
    "directions = ['V1→V4','V4→V1']\n",
    "figsize=(3,2)\n"
   ]
  },
  {
   "cell_type": "code",
   "execution_count": 4,
   "id": "41fc5be9",
   "metadata": {},
   "outputs": [
    {
     "data": {
      "image/png": "[encoded data removed]",
      "text/plain": [
       "<Figure size 285x180 with 1 Axes>"
      ]
     },
     "metadata": {},
     "output_type": "display_data"
    }
   ],
   "source": [
    "neuron_property='EV'\n",
    "fig, ax = plt.subplots(figsize=((2.85,1.8)))\n",
    "fontsize=7\n",
    "fig4_violinplot(filt_df_monkey, x=variable1, y=neuron_property, \n",
    "                hue=variable2, ax=ax, label_order=directions, \n",
    "                hue_order=dataset_types, gap=-0.1,width=0.7,cut=0,\n",
    "                linewidth=0, saturation=1, palette=['lightseagreen','lightcoral','#72BEB7']\n",
    "                )\n",
    "ax.legend_.remove()\n",
    "sns.despine()\n",
    "ax.set_ylabel('EV Fraction', fontsize=fontsize, labelpad=0)\n",
    "ax.tick_params(axis='both', labelsize=fontsize, width=0.3, length=2, pad=1)\n",
    "sns.despine()\n",
    "ax.spines[:].set_linewidth(0.3)\n",
    "add_violin_custom_colors_3(ax)\n",
    "add_anova_stars_2_sets(filt_df_monkey, neuron_property, x=variable1, x_order=directions,\n",
    "                       hue=variable2, hue_order=dataset_types, ax=ax, fontsize=fontsize,height1=0.85, height2=0.95, height3=0.85,\n",
    "                       stars1_positions=[0.16,0.23,0.30],\n",
    "                       stars2_positions=[0.69,0.77,0.83])\n",
    "data = filt_df_monkey_null['EV']\n",
    "per_25 = np.percentile(data.dropna().values, 25)\n",
    "per_75 = np.percentile(data.dropna().values, 75)\n",
    "ax.axhspan(per_25, per_75, alpha=0.1, color='blue', label='shuffle\\ncontrol IQR',\n",
    "        linewidth=0,\n",
    "           )\n",
    "# Get the y-axis ticks\n",
    "y_ticks = plt.gca().get_yticks()\n",
    "# Check if 1 is among the ticks\n",
    "if 1 in y_ticks:\n",
    "    ax.set_ylim(top=1)\n",
    "# plt.show()\n",
    "\n"
   ]
  },
  {
   "cell_type": "markdown",
   "id": "aecfe130",
   "metadata": {},
   "source": [
    "### supplemental"
   ]
  },
  {
   "cell_type": "code",
   "execution_count": 5,
   "id": "6fc3535b",
   "metadata": {},
   "outputs": [],
   "source": [
    "variable1='Area'\n",
    "variable2='Dataset Type'\n",
    "dataset_types = ['RF_thin', 'RF_large', 'SNR']\n",
    "directions= ['V4','V1']\n",
    "figsize=(2,1.3)\n"
   ]
  },
  {
   "cell_type": "code",
   "execution_count": 6,
   "id": "7c0a48cb",
   "metadata": {},
   "outputs": [
    {
     "data": {
      "image/png": "[encoded data removed]",
      "text/plain": [
       "<Figure size 200x130 with 1 Axes>"
      ]
     },
     "metadata": {},
     "output_type": "display_data"
    }
   ],
   "source": [
    "stats_args = {'fontsize': fontsize*0.8, 'height1':1.02, 'height2': 1.12, 'height3': 1.02, 'stars1_positions': [0.18,0.26,0.34],'stars2_positions':[0.68,0.75,0.83],'bar_height':0.02 }\n",
    "neuron_property='Split-half r'\n",
    "\n",
    "fig, ax = plt.subplots(figsize=figsize)\n",
    "plot_neuronal_properties_comparison(filt_df_monkey, variable1, neuron_property, variable2, \n",
    "                                        ax, fontsize=7, label_order=directions, hue_order=dataset_types, \n",
    "                                        yticks=[0.8,0.9,1], ylabel='split-half r', animal='monkey', stats_args=stats_args)\n",
    "# Get the y-axis ticks\n",
    "y_ticks = plt.gca().get_yticks()\n",
    "# Check if 1 is among the ticks\n",
    "if 1 in y_ticks:\n",
    "        ax.set_ylim(top=1)\n",
    "ax.plot([-0.2,0.2], # -0.095, units are width of the axes\n",
    "        [1.101, 1.101], # 0 to 500, units are same as the y-axis\n",
    "        clip_on=False,\n",
    "        transform=ax.get_xaxis_transform(),\n",
    "        color='black', linewidth=0.7)\n",
    "ax.plot([0.804,1.2], # -0.095, units are width of the axes\n",
    "        [1.101, 1.101], # 0 to 500, units are same as the y-axis\n",
    "        clip_on=False,\n",
    "        transform=ax.get_xaxis_transform(),\n",
    "        color='black', linewidth=0.7)\n",
    "plt.show()"
   ]
  },
  {
   "cell_type": "code",
   "execution_count": 9,
   "id": "427a4918",
   "metadata": {},
   "outputs": [
    {
     "data": {
      "image/png": "[encoded data removed]",
      "text/plain": [
       "<Figure size 200x130 with 1 Axes>"
      ]
     },
     "metadata": {},
     "output_type": "display_data"
    }
   ],
   "source": [
    "stats_args = {'fontsize': fontsize*0.8, 'height1':0.92, 'height2': 1.02, 'height3': 0.92, \n",
    "              'stars1_positions': [0.18,0.26,0.34],'stars2_positions':[0.68,0.75,0.83],'bar_height':0.02 }\n",
    "neuron_property='SNR'\n",
    "fig, ax = plt.subplots(figsize=figsize)\n",
    "plot_neuronal_properties_comparison(filt_df_monkey, variable1, neuron_property, variable2, \n",
    "                                        ax, fontsize=7, label_order=directions, hue_order=dataset_types, \n",
    "                                        yticks=None, ylabel=None, animal='monkey', stats_args=stats_args,\n",
    "                                        log_scale=True)\n",
    "# ax.set_ylim(top=100)\n",
    "plt.show()"
   ]
  },
  {
   "cell_type": "code",
   "execution_count": 8,
   "id": "1ccda6fd",
   "metadata": {},
   "outputs": [
    {
     "data": {
      "image/png": "[encoded data removed]",
      "text/plain": [
       "<Figure size 200x130 with 1 Axes>"
      ]
     },
     "metadata": {},
     "output_type": "display_data"
    }
   ],
   "source": [
    "stats_args = {'fontsize': fontsize*0.8, 'height1':0.92, 'height2': 1.02, 'height3': 0.92,'stars1_positions': [0.18,0.26,0.34],'stars2_positions':[0.68,0.75,0.83],'bar_height':0.02 }\n",
    "neuron_property='max corr. val'\n",
    "\n",
    "fig, ax = plt.subplots(figsize=figsize)\n",
    "plot_neuronal_properties_comparison(filt_df_monkey, variable1, neuron_property, variable2, \n",
    "                                        ax, fontsize=7, label_order=directions, hue_order=dataset_types, \n",
    "                                        yticks=None, ylabel='max corr. val.', animal='monkey', stats_args=stats_args)\n",
    "# Get the y-axis ticks\n",
    "y_ticks = plt.gca().get_yticks()\n",
    "# Check if 1 is among the ticks\n",
    "if 1 in y_ticks:\n",
    "    ax.set_ylim(top=1)\n",
    "plt.show()"
   ]
  }
 ],
 "metadata": {
  "kernelspec": {
   "display_name": "Python 3 (ipykernel)",
   "language": "python",
   "name": "python3"
  },
  "language_info": {
   "codemirror_mode": {
    "name": "ipython",
    "version": 3
   },
   "file_extension": ".py",
   "mimetype": "text/x-python",
   "name": "python",
   "nbconvert_exporter": "python",
   "pygments_lexer": "ipython3",
   "version": "3.11.4"
  }
 },
 "nbformat": 4,
 "nbformat_minor": 5
}
