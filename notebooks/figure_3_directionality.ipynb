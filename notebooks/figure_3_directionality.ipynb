{
 "cells": [
  {
   "cell_type": "code",
   "execution_count": 1,
   "id": "b805236b",
   "metadata": {},
   "outputs": [],
   "source": [
    "import numpy as np\n",
    "\n",
    "main_dir = 'project_folder/'\n",
    "func_dir = main_dir + 'utils/'\n",
    "\n",
    "import sys\n",
    "sys.path.insert(0,func_dir)\n"
   ]
  },
  {
   "cell_type": "markdown",
   "id": "c5056dc7",
   "metadata": {},
   "source": [
    "## functions"
   ]
  },
  {
   "cell_type": "markdown",
   "id": "73588d86",
   "metadata": {},
   "source": [
    "### analysis functions"
   ]
  },
  {
   "cell_type": "code",
   "execution_count": null,
   "id": "1533d634",
   "metadata": {},
   "outputs": [],
   "source": [
    "## get seeds for permutations\n",
    "import random\n",
    "num_seeds = 10\n",
    "random.seed(17)\n",
    "seeds = [random.randint(1, 10000) for _ in range(num_seeds)]\n",
    "print(seeds)"
   ]
  },
  {
   "cell_type": "code",
   "execution_count": 5,
   "id": "36c2f95f",
   "metadata": {},
   "outputs": [],
   "source": [
    "\n",
    "def get_simil_reli_indices(reli1, reli1_indices, reli2, reli2_indices, seed, verbose=False):\n",
    "    \"\"\"This function subsamples the indices of the first group (`reli1_indices`) \n",
    "    based on the reliability values of two groups (`reli1` and `reli2`) to ensure \n",
    "    similar reliability distributions between the two groups. The subsampling is \n",
    "    performed by selecting indices from `reli1_indices` that correspond to reliability \n",
    "    values in `reli1` that are close to the reliability values in `reli2`.\n",
    "\n",
    "    Args:\n",
    "        reli1 (numpy.ndarray): Array containing reliability values for the first group.\n",
    "        reli1_indices (numpy.ndarray): Indices corresponding to the first group.\n",
    "        reli2 (numpy.ndarray): Array containing reliability values for the second group.\n",
    "        reli2_indices (numpy.ndarray): Indices corresponding to the second group.\n",
    "        seed (int): Seed value for reproducible random sampling.\n",
    "\n",
    "    Returns:\n",
    "        numpy.ndarray: Subsampled indices from the first group.\n",
    "        numpy.ndarray: Indices from the second group (unchanged).\n",
    "\n",
    "    Raises:\n",
    "        None\n",
    "\n",
    "    \"\"\"\n",
    "    new_array1_indices = []\n",
    "    # Extract reliability values for the first and second groups\n",
    "    array1= reli1[reli1_indices]\n",
    "    array2=reli2[reli2_indices]\n",
    "    \n",
    "    # Iterate over each reliability value in the second group\n",
    "    for reli_val2 in array2:\n",
    "        array1_vals = []\n",
    "        # Define a tolerance for comparing reliability values\n",
    "        tolerance = 0.001\n",
    "        count=0\n",
    "        \n",
    "        # Iterate over each reliability value in the first group\n",
    "        for a1, reli_val1 in enumerate(array1):\n",
    "            # Check if the reliability value in the first group is close to the one in the second group\n",
    "            if np.isclose(reli_val2, reli_val1, atol=tolerance) and a1 not in new_array1_indices:\n",
    "                # Increment the count and add the index to the list if it meets the condition\n",
    "                count =+1\n",
    "                array1_vals.append(a1)  \n",
    "        # If no similar reliability values are found, increase the tolerance and try again\n",
    "        while count==0:\n",
    "            if verbose is True:\n",
    "                print(f'{tolerance} didnt work')\n",
    "            tolerance *= 2\n",
    "            for a1, reli_val1 in enumerate(array1):\n",
    "                if np.isclose(reli_val2, reli_val1, atol=tolerance) and a1 not in new_array1_indices:\n",
    "                    count =+1\n",
    "                    array1_vals.append(a1)\n",
    "        # Randomly select an index from the list of similar reliability values and add it to the new indices list\n",
    "        np.random.seed(seed)\n",
    "        new_array1_indices.append(np.random.choice(array1_vals))\n",
    "    return reli1_indices[new_array1_indices], reli2_indices"
   ]
  },
  {
   "cell_type": "code",
   "execution_count": 186,
   "id": "584b72d3",
   "metadata": {},
   "outputs": [],
   "source": [
    "def store_L23_indices(mouse_stats_, condition_types = ['ori32','natim32']):\n",
    "    \"\"\"Store indices for creating subpopulations in layer L23 based on reliability.\n",
    "\n",
    "    This function iterates over each condition type and mouse in the provided `mouse_stats_`.\n",
    "    For each mouse and condition type, it retrieves reliability and SNR values for layers L23 and L4.\n",
    "    Then, it filters the indices based on a reliability threshold of 0.8 and an SNR threshold of 2.\n",
    "    After filtering, it generates similar subpopulations in L23 and L4 using the `get_simil_reli_indices` function.\n",
    "    Finally, it stores the generated L23 indices in the `mouse_stats_` dictionary.\n",
    "\n",
    "    Args:\n",
    "        mouse_stats_ (dict): Dictionary containing mouse statistics data.\n",
    "        condition_types (list, optional): List of condition types to consider. Defaults to ['ori32', 'natim32'].\n",
    "    \"\"\"\n",
    "    area='L23'\n",
    "    area2='L4'\n",
    "    for condition_type in condition_types:\n",
    "        for mouse in mouse_stats_[condition_type]:\n",
    "            reli = mouse_stats_[condition_type][mouse][area]['split_half_r']\n",
    "            snr = mouse_stats_[condition_type][mouse][area]['SNR_meanspont']\n",
    "            reli2 = mouse_stats_[condition_type][mouse][area2]['split_half_r']\n",
    "            snr2 = mouse_stats_[condition_type][mouse][area]['SNR_meanspont']\n",
    "            \n",
    "            L23_filtered_indices = np.argwhere((reli > 0.8)&(snr>=2))[:,0]\n",
    "            L4_filtered_indices = np.argwhere((reli2 > 0.8)&(snr2>=2))[:,0]\n",
    "            n_neurons = len(L4_filtered_indices)\n",
    "            \n",
    "            L23_chosen_indices = np.empty((len(seeds), n_neurons), dtype=int)\n",
    "            for s, seed in enumerate(seeds):\n",
    "                L23_chosen_indices[s], _= get_simil_reli_indices(reli, L23_filtered_indices, reli2, L4_filtered_indices, seed)\n",
    "            mouse_stats_[condition_type][mouse][area]['L23_chosen_indices']=L23_chosen_indices"
   ]
  },
  {
   "cell_type": "code",
   "execution_count": 223,
   "id": "eef83fd1",
   "metadata": {},
   "outputs": [],
   "source": [
    "from ridge_regression_functions import get_best_alpha_evars\n",
    "import mouse_data_functions as cs\n",
    "from joblib import Parallel, delayed\n",
    "import time\n",
    "\n",
    "def get_directionality_evars_mice(main_dir, mouse_stats, activity_type='resp',n_splits=10, frames_to_reduce=5,\n",
    "                       control_shuffle=False):\n",
    "    \"\"\"Compute directionality-related metrics for mice neural activity.\n",
    "\n",
    "    This function calculates directionality-related metrics for mouse neural activity.\n",
    "    It iterates over each mouse and dataset type, retrieves neural activity from layers L23 and L4,\n",
    "    filters the indices based on reliability and SNR thresholds for layer L4, and computes metrics\n",
    "    using ridge regression for directionality estimation between layers L23 and L4.\n",
    "\n",
    "    Args:\n",
    "        main_dir (str): Directory containing data.\n",
    "        mouse_stats (dict): Dictionary containing mouse statistics data.\n",
    "        activity_type (str, optional): Type of neural activity to consider. Defaults to 'resp'.\n",
    "        n_splits (int, optional): Number of splits for cross-validation. Defaults to 10.\n",
    "        frames_to_reduce (int, optional): Number of frames to reduce during validation. Defaults to 5.\n",
    "        control_shuffle (bool, optional): Whether to control shuffle during computation. Defaults to False.\n",
    "\n",
    "    Returns:\n",
    "        None\n",
    "    \"\"\"\n",
    "    start_time = time.time()\n",
    "    alphas = [1e4,5e4,1e5,5e5,1e6,5e6,1e7]\n",
    "    area = 'L23'\n",
    "    area2='L4'\n",
    "    dataset_types=['ori32','natimg32']\n",
    "    control_con = ''\n",
    "    if control_shuffle is True:\n",
    "        control_con = '_null'\n",
    "    for dataset_type in dataset_types:\n",
    "        mt = cs.mt_retriever(main_dir, dataset_type=dataset_type) #retrieves neural activity stored in data\n",
    "        mouse_names = mt.filenames\n",
    "        for mouse in mouse_names:\n",
    "            reli2 = mouse_stats[dataset_type][mouse][area2]['split_half_r']\n",
    "            snr2 = mouse_stats[dataset_type][mouse][area2]['SNR_meanspont']\n",
    "            \n",
    "            L4_filtered_indices = np.argwhere((reli2 > 0.8)&(snr2>=2))[:,0]\n",
    "            all_perm_indices_L23 = mouse_stats[dataset_type][mouse][area]['L23_chosen_indices']\n",
    "            resp_L1, resp_L23, resp_L2, resp_L3, resp_L4 = mt.retrieve_layer_activity(activity_type, mouse)\n",
    "            if resp_L1.shape[0]<1000:\n",
    "                continue\n",
    "            \n",
    "            results = Parallel(n_jobs=-1)(delayed(get_best_alpha_evars)(resp_L4[:,L4_filtered_indices], resp_L23[:,all_perm_indices_L23[s]], \n",
    "                                                    n_splits=n_splits, frames_reduced = frames_to_reduce, alphas=alphas, control_shuffle=control_shuffle) for s in range(len(seeds)))\n",
    "        \n",
    "            results2 = Parallel(n_jobs=-1)(delayed(get_best_alpha_evars)(resp_L23[:,all_perm_indices_L23[s]], resp_L4[:,L4_filtered_indices], \n",
    "                                                        n_splits=n_splits, frames_reduced = frames_to_reduce, alphas=alphas, control_shuffle=control_shuffle) for s in range(len(seeds)))\n",
    "            \n",
    "            if 'spont' in activity_type:\n",
    "                mouse_stats[dataset_type + '_spont'][mouse][area]['directionality_evars' + control_con]=np.array([e for _,e in results])\n",
    "                mouse_stats[dataset_type + '_spont'][mouse][area2]['directionality_evars' + control_con]=np.array([e for _,e in results2])\n",
    "                mouse_stats[dataset_type + '_spont'][mouse][area]['directionality_alpha' + control_con]=np.array([a for a,_ in results])\n",
    "                mouse_stats[dataset_type + '_spont'][mouse][area2]['directionality_alpha' + control_con]=np.array([a for a,_ in results2])\n",
    "            \n",
    "            else:\n",
    "                mouse_stats[dataset_type][mouse][area]['directionality_evars' + control_con]=np.array([e for _,e in results])\n",
    "                mouse_stats[dataset_type][mouse][area2]['directionality_evars' + control_con]=np.array([e for _,e in results2])\n",
    "                mouse_stats[dataset_type][mouse][area]['directionality_alpha' + control_con]=np.array([a for a,_ in results])\n",
    "                mouse_stats[dataset_type][mouse][area2]['directionality_alpha' + control_con]=np.array([a for a,_ in results2])\n",
    "            print(mouse, 'done')\n",
    "        print(f'{dataset_type} done')\n",
    "    end_time = time.time()\n",
    "    elapsed_time = (end_time - start_time)/60\n",
    "    print(f'Took {elapsed_time:.4f} minutes to complete')  \n",
    "        "
   ]
  },
  {
   "cell_type": "code",
   "execution_count": 225,
   "id": "f43aab34",
   "metadata": {},
   "outputs": [],
   "source": [
    "from macaque_data_functions import get_resps, get_get_condition_type\n",
    "from joblib import Parallel, delayed\n",
    "import time\n",
    "\n",
    "\n",
    "all_frames_reduced = {'SNR': 5, 'SNR_spont': 5, 'RS': 20, \n",
    "                      'RS_open':20, 'RS_closed': 20, \n",
    "                      'RF_thin':25, 'RF_large':25, 'RF_thin_spont':25, 'RF_large_spont':25}\n",
    "all_ini_stim_offs = {'SNR': 400, 'SNR_spont': 200, 'RS': None,\n",
    "                      'RS_open':None, 'RS_closed': None, \n",
    "                      'RF_thin':1000, 'RF_large':1000, 'RF_thin_spont':200, 'RF_large_spont':200}\n",
    "\n",
    "\n",
    "def get_reli_condition(input_string):\n",
    "    if 'spont' in input_string:\n",
    "        return input_string.replace('_spont','')\n",
    "    elif 'RS' in input_string:\n",
    "        return 'SNR'\n",
    "    else:\n",
    "        return input_string\n",
    "\n",
    "def store_V1_indices(monkey_stats, condition_types = ['SNR','RF_thin','RF_large']):\n",
    "    \"\"\"Store V1 indices in monkey statistics.\n",
    "\n",
    "    This function computes and stores V1 indices in the monkey statistics data. It iterates over each condition type\n",
    "    and date, retrieves reliability values for both V4 and V1 areas, filters the indices based on reliability\n",
    "    thresholds for V4, and computes similar reliability indices for V1 using the `get_simil_reli_indices` function.\n",
    "    The resulting indices are stored in the monkey statistics data under the 'V1_chosen_indices' key.\n",
    "\n",
    "    Args:\n",
    "        monkey_stats (dict): Dictionary containing monkey statistics data.\n",
    "        condition_types (list, optional): List of condition types. Defaults to ['SNR', 'RF_thin', 'RF_large'].\n",
    "\n",
    "    Returns:\n",
    "        None\n",
    "    \"\"\"\n",
    "    area='V4'\n",
    "    area2='V1'\n",
    "    for condition_type in condition_types:\n",
    "        for date in monkey_stats[condition_type]:\n",
    "            reli = monkey_stats[condition_type][date][area]['split_half_r']\n",
    "            reli2 = monkey_stats[condition_type][date][area2]['split_half_r']\n",
    "            V4_filtered_indices = np.argwhere(reli > 0.8)[:,0]\n",
    "            V1_filtered_indices = np.argwhere(reli2 > 0.8)[:,0]\n",
    "            n_neurons = len(V4_filtered_indices)\n",
    "            V1_chosen_indices = np.empty((len(seeds), n_neurons), dtype=int)\n",
    "            for s, seed in enumerate(seeds):\n",
    "                V1_chosen_indices[s], _= get_simil_reli_indices(reli2, V1_filtered_indices, reli, V4_filtered_indices, seed)\n",
    "            monkey_stats[condition_type][date][area2]['V1_chosen_indices']=V1_chosen_indices\n",
    "def get_directionality_evars_monkey(monkey_stats, n_splits=10, w_size=25, control_shuffle=False):\n",
    "    \"\"\"Compute directionality-related metrics for monkey neural activity.\n",
    "\n",
    "    This function calculates directionality-related metrics for monkey neural activity.\n",
    "    It iterates over each condition type and date, retrieves neural activity from layers V1 and V4,\n",
    "    filters the indices based on reliability thresholds for layer V4, and computes metrics\n",
    "    using ridge regression for directionality estimation between layers V1 and V4.\n",
    "\n",
    "    Args:\n",
    "        monkey_stats (dict): Dictionary containing monkey statistics data.\n",
    "        n_splits (int, optional): Number of splits for cross-validation. Defaults to 10.\n",
    "        w_size (int, optional): Window size. Defaults to 25.\n",
    "        control_shuffle (bool, optional): Whether to control shuffle during computation. Defaults to False.\n",
    "\n",
    "    Returns:\n",
    "        None\n",
    "    \"\"\"\n",
    "    start_time = time.time()\n",
    "    area='V4'\n",
    "    area2='V1'\n",
    "    alphas_monkey =  [100, 500.0, 1000.0, 5000.0, 10000.0, 50000.0, 100000.0]\n",
    "    if control_shuffle is True:\n",
    "        control_con = '_null'\n",
    "    else:\n",
    "        control_con = ''\n",
    "    for condition_type in monkey_stats:\n",
    "        for date in monkey_stats[condition_type]:\n",
    "            reli = monkey_stats[get_reli_condition(condition_type)][date][area]['split_half_r']\n",
    "            V4_filtered_indices = np.argwhere(reli > 0.8)[:,0]\n",
    "            V1_chosen_indices = monkey_stats[get_reli_condition(condition_type)][date][area2]['V1_chosen_indices']\n",
    "            alphas, evars, alphas2, evars2 = [], [], [], []\n",
    "            resp_V4, resp_V1 = get_resps(get_get_condition_type(condition_type), date, w_size=w_size, stim_on=0, stim_off=all_ini_stim_offs[condition_type])\n",
    "            results = Parallel(n_jobs=-1)(delayed(get_best_alpha_evars)(resp_V1[:,V1_chosen_indices[s]], \n",
    "                                                                        resp_V4[:, V4_filtered_indices], \n",
    "                                                                        n_splits=n_splits,alphas=alphas_monkey,\n",
    "                                                                        frames_reduced=all_frames_reduced[condition_type],\n",
    "                                                                        control_shuffle=control_shuffle) for s in range(len(seeds)))\n",
    "            results2 = Parallel(n_jobs=-1)(delayed(get_best_alpha_evars)(resp_V4[:, V4_filtered_indices], \n",
    "                                                                        resp_V1[:,V1_chosen_indices[s]], \n",
    "                                                                        n_splits=n_splits,alphas=alphas_monkey,\n",
    "                                                                        frames_reduced=all_frames_reduced[condition_type],\n",
    "                                                                        control_shuffle=control_shuffle) for s in range(len(seeds)))\n",
    "            for alpha, evar in results:\n",
    "                alphas.append(alpha)\n",
    "                evars.append(evar)\n",
    "            for alpha2, evar2 in results2:\n",
    "                alphas2.append(alpha2)\n",
    "                evars2.append(evar2)\n",
    "            monkey_stats[condition_type][date][area]['directionality_evars' + control_con]=evars\n",
    "            monkey_stats[condition_type][date][area2]['directionality_evars' + control_con]=evars2\n",
    "            monkey_stats[condition_type][date][area]['directionality_alpha' + control_con]=alphas\n",
    "            monkey_stats[condition_type][date][area2]['directionality_alpha' + control_con]=alphas2\n",
    "            print(date, 'done')\n",
    "    end_time = time.time()\n",
    "    elapsed_time = (end_time - start_time)/60\n",
    "    print(f'Took {elapsed_time:.4f} minutes to complete')   "
   ]
  },
  {
   "cell_type": "markdown",
   "id": "601c6858",
   "metadata": {},
   "source": [
    "### plotting functions"
   ]
  },
  {
   "cell_type": "code",
   "execution_count": 11,
   "id": "4ecebb6c",
   "metadata": {},
   "outputs": [],
   "source": [
    "\n",
    "import pandas as pd\n",
    "def extract_mouse_name(input_string):\n",
    "    index_of_MP = input_string.find('MP')\n",
    "    return input_string[index_of_MP:index_of_MP + 5] if index_of_MP != -1 and index_of_MP + 5 <= len(input_string) else None\n",
    "def get_property_dataset_type(input_string):\n",
    "    if 'spont' in input_string:\n",
    "        return input_string.replace('_spont','')\n",
    "    else:\n",
    "        return input_string \n",
    "def make_mouse_df_directionality(mouse_stats_, dataset_types=['ori32','natimg32']):\n",
    "    \"\"\"Creates a DataFrame for mouse directionality data.\n",
    "\n",
    "    This function iterates over the provided mouse statistics data and constructs a DataFrame containing directionality\n",
    "    information for each mouse, area, and permutation. It extracts relevant information such as mouse name, area,\n",
    "    direction, reliability, SNR, and maximum correlation value.\n",
    "\n",
    "    Args:\n",
    "        mouse_stats_ (dict): Dictionary containing mouse statistics data.\n",
    "        dataset_types (list, optional): List of dataset types. Defaults to ['ori32', 'natimg32'].\n",
    "\n",
    "    Returns:\n",
    "        pandas.DataFrame: DataFrame containing directionality data.\n",
    "    \"\"\"\n",
    "    data = []\n",
    "    for dataset_type in dataset_types:\n",
    "        if 'spont' in dataset_type:\n",
    "            act_type = 'gray screen'\n",
    "        else:\n",
    "            act_type = 'stimulus'\n",
    "        for mouse, areas_data in mouse_stats_[dataset_type].items():\n",
    "            mouse_name = extract_mouse_name(mouse)\n",
    "            for area, values in areas_data.items():\n",
    "                \n",
    "                split_half_rs = mouse_stats[get_property_dataset_type(dataset_type)][mouse][area]['split_half_r']\n",
    "                SNRs = mouse_stats[get_property_dataset_type(dataset_type)][mouse][area]['SNR_meanspont']\n",
    "                max_corr_vals = mouse_stats[dataset_type][mouse][area]['max_corr_val']\n",
    "                \n",
    "                n_seeds = len(values['directionality_evars'])\n",
    "                for s in range(n_seeds):\n",
    "                    direction_evars = values['directionality_evars'][s]\n",
    "                    direction_evars_null = values['directionality_evars_null'][s]\n",
    "                    \n",
    "                    if area =='L23':\n",
    "                        direction = 'L4→L2/3'\n",
    "                        area_ ='L2/3'\n",
    "                        l23_indices = mouse_stats[get_property_dataset_type(dataset_type)][mouse][area]['L23_chosen_indices'][s]\n",
    "                        chosen_split_half_rs = split_half_rs[l23_indices]\n",
    "                        chosen_SNRs= SNRs[l23_indices]\n",
    "                        chosen_max_corr_vals = max_corr_vals[l23_indices]\n",
    "                    else:\n",
    "                        direction = 'L2/3→L4'\n",
    "                        area_=area\n",
    "                        l4_indices = np.argwhere((split_half_rs > 0.8)&(SNRs>=2))[:,0]\n",
    "                        chosen_split_half_rs = split_half_rs[l4_indices]\n",
    "                        chosen_SNRs = SNRs[l4_indices]\n",
    "                        chosen_max_corr_vals = max_corr_vals[l4_indices]\n",
    "                    for n, (split_half_r, snr, max_corr_val, direction_evar, direction_evar_null) in enumerate(zip(chosen_split_half_rs, \n",
    "                                                                                                                chosen_SNRs, chosen_max_corr_vals, \n",
    "                                                                                                                direction_evars, \n",
    "                                                                                                                direction_evars_null)):\n",
    "                        data.append({\n",
    "                            'Dataset Type': dataset_type,\n",
    "                            'Activity Type': act_type,\n",
    "                            'Mouse': mouse,\n",
    "                            'Mouse Name':mouse_name,\n",
    "                            'Area': area_,\n",
    "                            'Direction':direction,\n",
    "                            'EV': direction_evar,\n",
    "                            'SNR': snr,\n",
    "                            'Split-half r': split_half_r,\n",
    "                            'max corr. val': max_corr_val,\n",
    "                            'control_shuffle':False,\n",
    "                            'Permutation':s, \n",
    "                        })\n",
    "                        data.append({\n",
    "                            'Dataset Type': dataset_type,\n",
    "                            'Activity Type': act_type,\n",
    "                            'Mouse': mouse,\n",
    "                            'Mouse Name':mouse_name,\n",
    "                            'Area': area_,\n",
    "                            'Direction':direction,\n",
    "                            'EV': direction_evar_null,\n",
    "                            'SNR': snr,\n",
    "                            'Split-half r': split_half_r,\n",
    "                            'max corr. val': max_corr_val,\n",
    "                            'control_shuffle':True, \n",
    "                            'Permutation':s,\n",
    "                        })\n",
    "    # Create a DataFrame from the flattened data\n",
    "    df_mouse_all = pd.DataFrame(data)\n",
    "    return df_mouse_all"
   ]
  },
  {
   "cell_type": "code",
   "execution_count": 12,
   "id": "1a6ea3eb",
   "metadata": {},
   "outputs": [],
   "source": [
    "import pandas as pd\n",
    "def get_reli_condition(input_string):\n",
    "    if 'spont' in input_string:\n",
    "        return input_string.replace('_spont','')\n",
    "    elif 'RS' in input_string:\n",
    "        return 'SNR'\n",
    "    else:\n",
    "        return input_string\n",
    "def make_monkey_df_directionality(monkey_stats_, dataset_types=['SNR','RF_thin','RF_large']):\n",
    "    \"\"\"Creates a DataFrame for monkey directionality data.\n",
    "\n",
    "    This function iterates over the provided mouse statistics data and constructs a DataFrame containing directionality\n",
    "    information for each mouse, area, and permutation. It extracts relevant information such as date, area,\n",
    "    direction, reliability, SNR, and maximum correlation value.\n",
    "\n",
    "    Args:\n",
    "        mouse_stats_ (dict): Dictionary containing monkey statistics data.\n",
    "        dataset_types (list, optional): List of dataset types. Defaults to ['SNR','RF_thin','RF_large'].\n",
    "\n",
    "    Returns:\n",
    "        pandas.DataFrame: DataFrame containing directionality data.\n",
    "    \"\"\"\n",
    "    data = []\n",
    "    for dataset_type in dataset_types:\n",
    "        if 'spont' in dataset_type:\n",
    "            act_type = 'gray screen'\n",
    "        elif 'RS' in dataset_type:\n",
    "            act_type = 'lights off'\n",
    "        else:\n",
    "            act_type = 'stimulus'\n",
    "        for date, areas_data in monkey_stats_[dataset_type].items():\n",
    "            for area, values in areas_data.items():\n",
    "                split_half_rs = monkey_stats_[get_reli_condition(dataset_type)][date][area]['split_half_r']\n",
    "                SNRs = monkey_stats_[get_reli_condition(dataset_type)][date][area]['SNR_meanspont']\n",
    "                max_corr_vals = monkey_stats_[dataset_type][date][area]['max_corr_val']\n",
    "                \n",
    "                n_seeds = len(values['directionality_evars'])\n",
    "                for s in range(n_seeds):\n",
    "                    direction_evars = values['directionality_evars'][s]\n",
    "                    direction_evars_null = values['directionality_evars_null'][s]\n",
    "                    \n",
    "                    if area =='V1':\n",
    "                        direction = 'V4→V1'\n",
    "                        v1_indices = monkey_stats_[get_reli_condition(dataset_type)][date][area]['V1_chosen_indices'][s]\n",
    "                        chosen_split_half_rs = split_half_rs[v1_indices]\n",
    "                        chosen_SNRs= SNRs[v1_indices]\n",
    "                        chosen_max_corr_vals = max_corr_vals[v1_indices]\n",
    "                    else:\n",
    "                        direction = 'V1→V4'\n",
    "                        v4_indices = np.argwhere(split_half_rs > 0.8)[:,0]\n",
    "                        chosen_split_half_rs = split_half_rs[v4_indices]\n",
    "                        chosen_SNRs = SNRs[v4_indices]\n",
    "                        chosen_max_corr_vals = max_corr_vals[v4_indices]\n",
    "                    for n, (split_half_r, snr, max_corr_val, direction_evar, direction_evar_null) in enumerate(zip(chosen_split_half_rs, \n",
    "                                                                                                                chosen_SNRs, chosen_max_corr_vals, \n",
    "                                                                                                                direction_evars, \n",
    "                                                                                                                direction_evars_null)):\n",
    "                        data.append({\n",
    "                            'Dataset Type': dataset_type,\n",
    "                            'Activity Type': act_type,\n",
    "                            'Date': date,\n",
    "                            'Area': area,\n",
    "                            'Direction':direction,\n",
    "                            'EV': direction_evar,\n",
    "                            'SNR': snr,\n",
    "                            'Split-half r': split_half_r,\n",
    "                            'max corr. val': max_corr_val,\n",
    "                            'control_shuffle':False,\n",
    "                            'Permutation':s, \n",
    "                        })\n",
    "                        data.append({\n",
    "                            'Dataset Type': dataset_type,\n",
    "                            'Activity Type': act_type,\n",
    "                            'Date': date,\n",
    "                            'Area': area,\n",
    "                            'Direction':direction,\n",
    "                            'EV': direction_evar_null,\n",
    "                            'SNR': snr,\n",
    "                            'Split-half r': split_half_r,\n",
    "                            'max corr. val': max_corr_val,\n",
    "                            'control_shuffle':True, \n",
    "                            'Permutation':s,\n",
    "                        })\n",
    "    # Create a DataFrame from the flattened data\n",
    "    df_monkey_all = pd.DataFrame(data)\n",
    "    return df_monkey_all"
   ]
  },
  {
   "cell_type": "code",
   "execution_count": 13,
   "id": "dd163a5a",
   "metadata": {},
   "outputs": [],
   "source": [
    "import seaborn as sns\n",
    "import matplotlib.pyplot as plt\n",
    "from stats_functions import get_t_test_stars\n",
    "\n",
    "def plot_directionalities(animal_stats, x, neuron_property, neuron_property_label, fontsize=7, \n",
    "                        fig_size=(1.3,1.3), height=1.05,\n",
    "                        plot_control_line=True,linewidth=0,\n",
    "                        impose_y_lim = True,animal='mouse',\n",
    "                        **args):\n",
    "    \"\"\"\n",
    "    Plot directionalities using seaborn's violin plot.\n",
    "\n",
    "    Parameters:\n",
    "        animal_stats (DataFrame): DataFrame containing directionalities data.\n",
    "        x (str): Variable to plot on the x-axis.\n",
    "        neuron_property (str): Variable to plot on the y-axis.\n",
    "        neuron_property_label (str): Label for the y-axis.\n",
    "        fontsize (int, optional): Font size for labels and text. Default is 7.\n",
    "        fig_size (tuple, optional): Size of the figure (width, height). Default is (1.3, 1.3).\n",
    "        height (float, optional): Height of text above the plot. Default is 1.05.\n",
    "        plot_control_line (bool, optional): Whether to plot a line representing the control. Default is True.\n",
    "        linewidth (int, optional): Width of the line. Default is 0.\n",
    "        impose_y_lim (bool, optional): Whether to impose a limit on the y-axis. Default is True.\n",
    "        animal (str, optional): Type of animal. Default is 'mouse'.\n",
    "        **args: Additional keyword arguments to pass to seaborn's violinplot.\n",
    "\n",
    "    Returns:\n",
    "        None\n",
    "    \"\"\"\n",
    "    if animal != 'mouse':\n",
    "        hierarchical=False\n",
    "    else:\n",
    "        hierarchical=True\n",
    "    fig, ax = plt.subplots(figsize=fig_size)\n",
    "    if x == 'Direction':\n",
    "        if animal == 'mouse':\n",
    "            order=['L4→L2/3','L2/3→L4']\n",
    "        else:\n",
    "            order =['V1→V4','V4→V1']\n",
    "    else:\n",
    "        if animal == 'mouse':\n",
    "            order=['L2/3','L4']\n",
    "        else:\n",
    "            order = ['V4','V1']\n",
    "    sns.violinplot(x=x, y=neuron_property, \n",
    "                        data=animal_stats[animal_stats['control_shuffle']==False], hue=x,\n",
    "                        ax=ax,\n",
    "                        order=order,\n",
    "                        hue_order=order,\n",
    "                        palette=['#72BEB7','#EDAEAE'], saturation=1,\n",
    "                        inner_kws={'box_width':2, 'whis_width':0.5,\n",
    "                                'marker':'_', 'markersize':3,\n",
    "                                'markeredgewidth':0.8,\n",
    "                                },linewidth=linewidth,cut=0,**args,\n",
    "                                    )\n",
    "    sns.despine()\n",
    "    stars = get_t_test_stars(animal_stats[animal_stats['control_shuffle']==False], 'Direction', \n",
    "                            neuron_property, hierarchical=hierarchical)\n",
    "    if stars=='n.s.':\n",
    "        height_ = height +0.02\n",
    "        color='#C0C0C0'\n",
    "    else:\n",
    "        height_=height\n",
    "        color = 'black'\n",
    "    ax.text(0.5, height_, stars, ha='center', va='center', fontsize=fontsize, transform=ax.transAxes, color=color)\n",
    "\n",
    "    ax.tick_params(axis='y', labelsize=fontsize, width=0.5, length=2, pad=1)\n",
    "    ax.tick_params(axis='x', labelsize=fontsize, width=0.5, length=2, pad=1)\n",
    "    ax.spines[:].set_linewidth(0.3)\n",
    "    \n",
    "    ax.set(xlabel=None)\n",
    "    ax.set_ylabel(neuron_property_label, fontsize=fontsize, labelpad=1)\n",
    "\n",
    "    if plot_control_line is True:\n",
    "        data = animal_stats[animal_stats['control_shuffle']==True][neuron_property]\n",
    "        per_25 = np.percentile(data.values, 25)\n",
    "        per_75 = np.percentile(data.values, 75)\n",
    "        ax.axhspan(per_25, per_75, alpha=0.1, color='blue', label='shuffle\\ncontrol IQR',\n",
    "                linewidth=0,\n",
    "                )\n",
    "    if impose_y_lim is True:\n",
    "        # Get the y-axis ticks\n",
    "        y_ticks = plt.gca().get_yticks()\n",
    "        # Check if 1 is among the ticks\n",
    "        if 1 in y_ticks:\n",
    "            ax.set_ylim(top=1)"
   ]
  },
  {
   "cell_type": "markdown",
   "id": "b79c6abe",
   "metadata": {},
   "source": [
    "#### supplemental plotting functions"
   ]
  },
  {
   "cell_type": "code",
   "execution_count": 14,
   "id": "bd8cc210",
   "metadata": {},
   "outputs": [],
   "source": [
    "def extract_mouse_name(input_string):\n",
    "    index_of_MP = input_string.find('MP')\n",
    "    return input_string[index_of_MP:index_of_MP + 5] if index_of_MP != -1 and index_of_MP + 5 <= len(input_string) else None\n",
    "def get_property_dataset_type(input_string):\n",
    "    if 'spont' in input_string:\n",
    "        return input_string.replace('_spont','')\n",
    "    else:\n",
    "        return input_string \n",
    "def make_mouse_df(mouse_stats_, dataset_types=['ori32','natimg32']):\n",
    "    data = []\n",
    "    for dataset_type in dataset_types:\n",
    "        if 'spont' in dataset_type:\n",
    "            act_type = 'gray screen'\n",
    "        else:\n",
    "            act_type = 'stimulus'\n",
    "        for mouse, areas_data in mouse_stats_[dataset_type].items():\n",
    "            mouse_name = extract_mouse_name(mouse)\n",
    "            for area, values in areas_data.items():\n",
    "                if area=='L23':\n",
    "                    direction = 'L4→L2/3'\n",
    "                    area_ = 'L2/3'\n",
    "                else:\n",
    "                    direction = 'L2/3→L4'\n",
    "                    area_=area\n",
    "                split_half_rs = mouse_stats[get_property_dataset_type(dataset_type)][mouse][area]['split_half_r']\n",
    "                SNRs = mouse_stats[get_property_dataset_type(dataset_type)][mouse][area]['SNR_meanspont']\n",
    "                for split_half_r, snr,max_corr_val, evar, null_evar in zip(split_half_rs, SNRs,values['max_corr_val'],values['evars'],values['evars_null']):\n",
    "                    data.append({\n",
    "                        'Dataset Type': dataset_type,\n",
    "                        'Activity Type': act_type,\n",
    "                        'Mouse': mouse,\n",
    "                        'Mouse Name':mouse_name,\n",
    "                        'Area': area_,\n",
    "                        'Direction':direction,\n",
    "                        'EV': evar,\n",
    "                        'SNR': snr,\n",
    "                        'Split-half r': split_half_r,\n",
    "                        'max corr. val':max_corr_val,\n",
    "                        'control_shuffle':False, \n",
    "                    })\n",
    "                    data.append({\n",
    "                        'Dataset Type': dataset_type,\n",
    "                        'Activity Type': act_type,\n",
    "                        'Mouse': mouse,\n",
    "                        'Mouse Name':mouse_name,\n",
    "                        'Area': area_,\n",
    "                        'Direction':direction,\n",
    "                        'EV': null_evar,\n",
    "                        'SNR': snr,\n",
    "                        'Split-half r': split_half_r,\n",
    "                        'max corr. val':max_corr_val,\n",
    "                        'control_shuffle':True, \n",
    "                    })\n",
    "    # Create a DataFrame from the flattened data\n",
    "    df_mouse_all = pd.DataFrame(data)\n",
    "    return df_mouse_all\n",
    "\n",
    "def get_property_dataset_type_monkey(input_string):\n",
    "    if 'spont' in input_string:\n",
    "        return input_string.replace('_spont','')\n",
    "    elif 'RS' in input_string:\n",
    "        return 'SNR'\n",
    "    else:\n",
    "        return input_string \n",
    "\n",
    "def make_monkey_df(monkey_stats_, dataset_types=['SNR', 'RF_thin', 'RF_large']):\n",
    "    data = []\n",
    "    for dataset_type in dataset_types:\n",
    "        if 'spont' in dataset_type:\n",
    "            act_type = 'gray screen'\n",
    "        elif 'RS' in dataset_type:\n",
    "            act_type = 'lights off'\n",
    "        else:\n",
    "            act_type = 'stimulus'\n",
    "        for date, areas_data in monkey_stats_[dataset_type].items():\n",
    "            for area, values in areas_data.items():\n",
    "                if area=='V4':\n",
    "                    direction = 'V1→V4'\n",
    "                else:\n",
    "                    direction = 'V4→V1'\n",
    "                split_half_rs = monkey_stats_[get_property_dataset_type_monkey(dataset_type)][date][area]['split_half_r']\n",
    "                SNRs = monkey_stats_[get_property_dataset_type_monkey(dataset_type)][date][area]['SNR_meanspont']\n",
    "                for split_half_r, snr,max_corr_val, evar, null_evar in zip(split_half_rs, SNRs,values['max_corr_val'],values['evars'],values['evars_null']):\n",
    "                    data.append({\n",
    "                        'Dataset Type': dataset_type,\n",
    "                        'Activity Type': act_type,\n",
    "                        'Date':date,\n",
    "                        'Area': area,\n",
    "                        'Direction':direction,\n",
    "                        'EV': evar,\n",
    "                        'SNR': snr,\n",
    "                        'max corr. val':max_corr_val,\n",
    "                        'Split-half r': split_half_r,\n",
    "                        'control_shuffle':False, \n",
    "                    })\n",
    "                    data.append({\n",
    "                        'Dataset Type': dataset_type,\n",
    "                        'Activity Type': act_type,\n",
    "                        'Date': date,\n",
    "                        'Area': area,\n",
    "                        'Direction':direction,\n",
    "                        'EV': null_evar,\n",
    "                        'SNR': snr,\n",
    "                        'max corr. val':max_corr_val,\n",
    "                        'Split-half r': split_half_r,\n",
    "                        'control_shuffle':True, \n",
    "                    })\n",
    "    # Create a DataFrame from the flattened data\n",
    "    df_monkey_all = pd.DataFrame(data)\n",
    "    return df_monkey_all"
   ]
  },
  {
   "cell_type": "markdown",
   "id": "31d94c80",
   "metadata": {},
   "source": [
    "## Mouse Directionality"
   ]
  },
  {
   "cell_type": "code",
   "execution_count": null,
   "id": "daff9ed3",
   "metadata": {},
   "outputs": [],
   "source": [
    "from neuron_properties_functions import create_empty_mouse_stats_dict, get_split_half_r_all_mice, get_SNR_all_mice, get_max_corr_vals_all_mice\n",
    "mouse_stats= create_empty_mouse_stats_dict(main_dir)\n",
    "get_SNR_all_mice(main_dir, mouse_stats)\n",
    "get_split_half_r_all_mice(main_dir, mouse_stats)\n",
    "get_max_corr_vals_all_mice(main_dir, mouse_stats)"
   ]
  },
  {
   "cell_type": "code",
   "execution_count": null,
   "id": "91c3ef3f",
   "metadata": {},
   "outputs": [],
   "source": [
    "store_L23_indices(mouse_stats)\n",
    "get_directionality_evars_mice(main_dir, mouse_stats, activity_type='resp',control_shuffle=False)\n",
    "get_directionality_evars_mice(main_dir, mouse_stats, activity_type='spont',control_shuffle=False)\n",
    "get_directionality_evars_mice(main_dir, mouse_stats, activity_type='resp',control_shuffle=True)\n",
    "get_directionality_evars_mice(main_dir, mouse_stats, activity_type='spont',control_shuffle=True)"
   ]
  },
  {
   "cell_type": "markdown",
   "id": "7af52350",
   "metadata": {},
   "source": [
    "### plotting"
   ]
  },
  {
   "cell_type": "code",
   "execution_count": 15,
   "id": "26ac9f8c",
   "metadata": {},
   "outputs": [],
   "source": [
    "dir_mouse_df_stimulus = make_mouse_df_directionality(mouse_stats_=mouse_stats)\n"
   ]
  },
  {
   "cell_type": "code",
   "execution_count": 16,
   "id": "12e19552",
   "metadata": {},
   "outputs": [
    {
     "data": {
      "image/png": "[encoded data removed]",
      "text/plain": [
       "<Figure size 130x130 with 1 Axes>"
      ]
     },
     "metadata": {},
     "output_type": "display_data"
    }
   ],
   "source": [
    "plot_directionalities(dir_mouse_df_stimulus, x='Direction', neuron_property='EV', \n",
    "                      neuron_property_label='EV fraction', linewidth=0)"
   ]
  },
  {
   "cell_type": "code",
   "execution_count": 17,
   "id": "ccc28db3",
   "metadata": {},
   "outputs": [
    {
     "data": {
      "image/png": "[encoded data removed]",
      "text/plain": [
       "<Figure size 60x130 with 1 Axes>"
      ]
     },
     "metadata": {},
     "output_type": "display_data"
    }
   ],
   "source": [
    "plot_directionalities(dir_mouse_df_stimulus, x='Area', neuron_property='SNR', fig_size=(0.6,1.3),\n",
    "                      neuron_property_label='SNR', plot_control_line=False, fill=False, linewidth=0.5, \n",
    "                      log_scale=True, impose_y_lim=False)"
   ]
  },
  {
   "cell_type": "code",
   "execution_count": 18,
   "id": "350ad7c7",
   "metadata": {},
   "outputs": [
    {
     "data": {
      "image/png": "[encoded data removed]",
      "text/plain": [
       "<Figure size 60x130 with 1 Axes>"
      ]
     },
     "metadata": {},
     "output_type": "display_data"
    }
   ],
   "source": [
    "plot_directionalities(dir_mouse_df_stimulus, x='Area', neuron_property='Split-half r', fig_size=(0.6,1.3),\n",
    "                      neuron_property_label='split-half r', plot_control_line=False, fill=False, linewidth=0.5, \n",
    "                      log_scale=False, impose_y_lim=True)"
   ]
  },
  {
   "cell_type": "code",
   "execution_count": 19,
   "id": "e04cc0d6",
   "metadata": {},
   "outputs": [
    {
     "data": {
      "image/png": "[encoded data removed]",
      "text/plain": [
       "<Figure size 60x130 with 1 Axes>"
      ]
     },
     "metadata": {},
     "output_type": "display_data"
    }
   ],
   "source": [
    "plot_directionalities(dir_mouse_df_stimulus, x='Area', neuron_property='max corr. val', fig_size=(0.6,1.3),\n",
    "                      neuron_property_label='max corr. val', plot_control_line=False, fill=False, linewidth=0.5, \n",
    "                      log_scale=False, impose_y_lim=False, height=0.95)\n",
    "\n"
   ]
  },
  {
   "cell_type": "markdown",
   "id": "d16620f7",
   "metadata": {},
   "source": [
    "#### plot supplemental material"
   ]
  },
  {
   "cell_type": "code",
   "execution_count": 138,
   "id": "7c9c141c",
   "metadata": {},
   "outputs": [],
   "source": [
    "### get normal ridge regression evars (just like in figure 2)\n",
    "\n",
    "from neuron_properties_functions import get_evars_all_mice\n",
    "\n",
    "get_evars_all_mice(main_dir, mouse_stats, activity_type='resp')\n",
    "get_evars_all_mice(main_dir, mouse_stats, activity_type='spont')\n",
    "get_evars_all_mice(main_dir, mouse_stats, activity_type='resp', control_shuffle=True)\n",
    "get_evars_all_mice(main_dir, mouse_stats, activity_type='spont', control_shuffle=True)\n",
    "\n",
    "mouse_df_all = make_mouse_df(mouse_stats)\n",
    "mouse_df=mouse_df_all[(mouse_df_all['SNR']>2) & (mouse_df_all['Split-half r']>0.8)]\n"
   ]
  },
  {
   "cell_type": "code",
   "execution_count": 28,
   "id": "cfc951fb",
   "metadata": {},
   "outputs": [
    {
     "data": {
      "image/png": "[encoded data removed]",
      "text/plain": [
       "<Figure size 130x130 with 1 Axes>"
      ]
     },
     "metadata": {},
     "output_type": "display_data"
    }
   ],
   "source": [
    "plot_directionalities(mouse_df, x='Direction', neuron_property='EV', \n",
    "                      neuron_property_label='EV fraction\\nall predictors', linewidth=0.5, fill=False)"
   ]
  },
  {
   "cell_type": "code",
   "execution_count": null,
   "id": "3f193d26",
   "metadata": {},
   "outputs": [
    {
     "data": {
      "image/png": "[encoded data removed]",
      "text/plain": [
       "<Figure size 60x130 with 1 Axes>"
      ]
     },
     "metadata": {},
     "output_type": "display_data"
    }
   ],
   "source": [
    "plot_directionalities(mouse_df, x='Area', neuron_property='SNR', fig_size=(0.6,1.3),\n",
    "                      neuron_property_label='SNR', plot_control_line=False, fill=False, linewidth=0.5, \n",
    "                      log_scale=True, impose_y_lim=False)"
   ]
  },
  {
   "cell_type": "code",
   "execution_count": 142,
   "id": "9f8e804d",
   "metadata": {},
   "outputs": [
    {
     "data": {
      "image/png": "[encoded data removed]",
      "text/plain": [
       "<Figure size 60x130 with 1 Axes>"
      ]
     },
     "metadata": {},
     "output_type": "display_data"
    }
   ],
   "source": [
    "plot_directionalities(mouse_df, x='Area', neuron_property='Split-half r', fig_size=(0.6,1.3),\n",
    "                      neuron_property_label='split-half r', plot_control_line=False, fill=False, linewidth=0.5, \n",
    "                      log_scale=False, impose_y_lim=True)"
   ]
  },
  {
   "cell_type": "code",
   "execution_count": 143,
   "id": "ce033131",
   "metadata": {},
   "outputs": [
    {
     "data": {
      "image/png": "[encoded data removed]",
      "text/plain": [
       "<Figure size 60x130 with 1 Axes>"
      ]
     },
     "metadata": {},
     "output_type": "display_data"
    }
   ],
   "source": [
    "plot_directionalities(mouse_df, x='Area', neuron_property='max corr. val', fig_size=(0.6,1.3),\n",
    "                      neuron_property_label='max corr. val', plot_control_line=False, fill=False, linewidth=0.5, \n",
    "                      log_scale=False, impose_y_lim=False, height=0.95)\n",
    "\n"
   ]
  },
  {
   "cell_type": "code",
   "execution_count": 149,
   "id": "c741ae31",
   "metadata": {},
   "outputs": [
    {
     "data": {
      "image/png": "[encoded data removed]",
      "text/plain": [
       "<Figure size 130x130 with 1 Axes>"
      ]
     },
     "metadata": {},
     "output_type": "display_data"
    }
   ],
   "source": [
    "dir_mouse_df_gray_screen = make_mouse_df_directionality(mouse_stats_=mouse_stats, dataset_types=['ori32_spont','natimg32_spont'])\n",
    "\n",
    "plot_directionalities(dir_mouse_df_gray_screen, x='Direction', neuron_property='EV', \n",
    "                      neuron_property_label='EV fraction\\ngray screen', linewidth=0)\n"
   ]
  },
  {
   "cell_type": "markdown",
   "id": "87adc450",
   "metadata": {},
   "source": [
    "## Macaque Directionality"
   ]
  },
  {
   "cell_type": "code",
   "execution_count": 164,
   "id": "fd48a2b9",
   "metadata": {},
   "outputs": [],
   "source": [
    "from neuron_properties_functions import create_empty_monkey_stats_dict, get_SNR_monkey_all_dates, get_split_half_r_monkey_all_dates, get_max_corr_vals_monkey_all_dates\n",
    "\n",
    "monkey_stats= create_empty_monkey_stats_dict()\n",
    "get_SNR_monkey_all_dates(monkey_stats)\n",
    "get_split_half_r_monkey_all_dates(monkey_stats)\n",
    "get_max_corr_vals_monkey_all_dates(monkey_stats)"
   ]
  },
  {
   "cell_type": "code",
   "execution_count": null,
   "id": "b34d438d",
   "metadata": {},
   "outputs": [],
   "source": [
    "store_V1_indices(monkey_stats)\n",
    "get_directionality_evars_monkey(monkey_stats, control_shuffle=False)\n",
    "get_directionality_evars_monkey(monkey_stats, control_shuffle=True)"
   ]
  },
  {
   "cell_type": "markdown",
   "id": "f37542ba",
   "metadata": {},
   "source": [
    "### plotting"
   ]
  },
  {
   "cell_type": "code",
   "execution_count": 29,
   "id": "6ec86ffd",
   "metadata": {},
   "outputs": [],
   "source": [
    "dir_monkey_df_stimulus = make_monkey_df_directionality(monkey_stats)\n"
   ]
  },
  {
   "cell_type": "code",
   "execution_count": 30,
   "id": "c8fd5fb3",
   "metadata": {},
   "outputs": [
    {
     "data": {
      "image/png": "[encoded data removed]",
      "text/plain": [
       "<Figure size 130x130 with 1 Axes>"
      ]
     },
     "metadata": {},
     "output_type": "display_data"
    }
   ],
   "source": [
    "plot_directionalities(dir_monkey_df_stimulus, x='Direction', neuron_property='EV', \n",
    "                      neuron_property_label='EV fraction', linewidth=0, animal='monkey')"
   ]
  },
  {
   "cell_type": "code",
   "execution_count": 206,
   "id": "a8f9a265",
   "metadata": {},
   "outputs": [
    {
     "data": {
      "image/png": "[encoded data removed]",
      "text/plain": [
       "<Figure size 60x130 with 1 Axes>"
      ]
     },
     "metadata": {},
     "output_type": "display_data"
    }
   ],
   "source": [
    "plot_directionalities(dir_monkey_df_stimulus, x='Area', neuron_property='SNR', fig_size=(0.6,1.3),\n",
    "                      neuron_property_label='SNR', plot_control_line=False, fill=False, linewidth=0.5, \n",
    "                      log_scale=True, impose_y_lim=False,animal='monkey')"
   ]
  },
  {
   "cell_type": "code",
   "execution_count": 207,
   "id": "2f9f307b",
   "metadata": {},
   "outputs": [
    {
     "data": {
      "image/png": "[encoded data removed]",
      "text/plain": [
       "<Figure size 60x130 with 1 Axes>"
      ]
     },
     "metadata": {},
     "output_type": "display_data"
    }
   ],
   "source": [
    "plot_directionalities(dir_monkey_df_stimulus, x='Area', neuron_property='Split-half r', fig_size=(0.6,1.3),\n",
    "                      neuron_property_label='split-half r', plot_control_line=False, fill=False, linewidth=0.5, \n",
    "                      log_scale=False, impose_y_lim=True,animal='monkey')"
   ]
  },
  {
   "cell_type": "code",
   "execution_count": 208,
   "id": "15019593",
   "metadata": {},
   "outputs": [
    {
     "data": {
      "image/png": "[encoded data removed]",
      "text/plain": [
       "<Figure size 60x130 with 1 Axes>"
      ]
     },
     "metadata": {},
     "output_type": "display_data"
    }
   ],
   "source": [
    "plot_directionalities(dir_monkey_df_stimulus, x='Area', neuron_property='max corr. val', fig_size=(0.6,1.3),\n",
    "                      neuron_property_label='max corr. val', plot_control_line=False, fill=False, linewidth=0.5, \n",
    "                      log_scale=False, impose_y_lim=False, height=0.95,animal='monkey')"
   ]
  },
  {
   "cell_type": "markdown",
   "id": "75d53c87",
   "metadata": {},
   "source": [
    "#### supplemental"
   ]
  },
  {
   "cell_type": "code",
   "execution_count": null,
   "id": "e69048ec",
   "metadata": {},
   "outputs": [],
   "source": [
    "from neuron_properties_functions import get_evar_monkey_all_dates\n",
    "\n",
    "get_evar_monkey_all_dates(monkey_stats, control_shuffle=False)\n",
    "get_evar_monkey_all_dates(monkey_stats, control_shuffle=False)"
   ]
  },
  {
   "cell_type": "code",
   "execution_count": 31,
   "id": "c634a8d1",
   "metadata": {},
   "outputs": [],
   "source": [
    "df_monkey_all = make_monkey_df(monkey_stats, dataset_types=['SNR', 'RF_thin', 'RF_large'])\n",
    "df_monkey = df_monkey_all[df_monkey_all['Split-half r']>0.8]\n"
   ]
  },
  {
   "cell_type": "code",
   "execution_count": 32,
   "id": "f5fa2ea1",
   "metadata": {},
   "outputs": [
    {
     "data": {
      "image/png": "[encoded data removed]",
      "text/plain": [
       "<Figure size 130x130 with 1 Axes>"
      ]
     },
     "metadata": {},
     "output_type": "display_data"
    }
   ],
   "source": [
    "plot_directionalities(df_monkey, x='Direction', neuron_property='EV', \n",
    "                      neuron_property_label='EV fraction\\nall predictors', linewidth=0.5, fill=False,animal='monkey')"
   ]
  },
  {
   "cell_type": "code",
   "execution_count": 213,
   "id": "a02e813f",
   "metadata": {},
   "outputs": [
    {
     "data": {
      "image/png": "[encoded data removed]",
      "text/plain": [
       "<Figure size 60x130 with 1 Axes>"
      ]
     },
     "metadata": {},
     "output_type": "display_data"
    }
   ],
   "source": [
    "plot_directionalities(df_monkey, x='Area', neuron_property='SNR', fig_size=(0.6,1.3),\n",
    "                      neuron_property_label='SNR', plot_control_line=False, fill=False, linewidth=0.5, \n",
    "                      log_scale=True, impose_y_lim=False,animal='monkey')"
   ]
  },
  {
   "cell_type": "code",
   "execution_count": 214,
   "id": "777ffc54",
   "metadata": {},
   "outputs": [
    {
     "data": {
      "image/png": "[encoded data removed]",
      "text/plain": [
       "<Figure size 60x130 with 1 Axes>"
      ]
     },
     "metadata": {},
     "output_type": "display_data"
    }
   ],
   "source": [
    "plot_directionalities(df_monkey, x='Area', neuron_property='Split-half r', fig_size=(0.6,1.3),\n",
    "                      neuron_property_label='split-half r', plot_control_line=False, fill=False, linewidth=0.5, \n",
    "                      log_scale=False, impose_y_lim=True,animal='monkey')"
   ]
  },
  {
   "cell_type": "code",
   "execution_count": 215,
   "id": "876ac340",
   "metadata": {},
   "outputs": [
    {
     "data": {
      "image/png": "[encoded data removed]",
      "text/plain": [
       "<Figure size 60x130 with 1 Axes>"
      ]
     },
     "metadata": {},
     "output_type": "display_data"
    }
   ],
   "source": [
    "plot_directionalities(df_monkey, x='Area', neuron_property='max corr. val', fig_size=(0.6,1.3),\n",
    "                      neuron_property_label='max corr. val', plot_control_line=False, fill=False, linewidth=0.5, \n",
    "                      log_scale=False, impose_y_lim=False, height=0.95,animal='monkey')"
   ]
  },
  {
   "cell_type": "code",
   "execution_count": 33,
   "id": "7944b130",
   "metadata": {},
   "outputs": [
    {
     "data": {
      "image/png": "[encoded data removed]",
      "text/plain": [
       "<Figure size 130x130 with 1 Axes>"
      ]
     },
     "metadata": {},
     "output_type": "display_data"
    }
   ],
   "source": [
    "dir_monkey_df_gray_screen = make_monkey_df_directionality(monkey_stats, dataset_types=['SNR_spont','RF_thin_spont','RF_large_spont'])\n",
    "\n",
    "plot_directionalities(dir_monkey_df_gray_screen, x='Direction', neuron_property='EV', \n",
    "                      neuron_property_label='EV fraction\\ngray screen', linewidth=0,animal='monkey')"
   ]
  },
  {
   "cell_type": "code",
   "execution_count": 27,
   "id": "66d47409",
   "metadata": {},
   "outputs": [
    {
     "data": {
      "image/png": "[encoded data removed]",
      "text/plain": [
       "<Figure size 130x130 with 1 Axes>"
      ]
     },
     "metadata": {},
     "output_type": "display_data"
    }
   ],
   "source": [
    "dir_monkey_df_lights_off = make_monkey_df_directionality(monkey_stats, dataset_types=['RS'])\n",
    "plot_directionalities(dir_monkey_df_lights_off, x='Direction', neuron_property='EV', \n",
    "                      neuron_property_label='EV fraction\\nlights off', linewidth=0,animal='monkey')"
   ]
  }
 ],
 "metadata": {
  "kernelspec": {
   "display_name": "Python 3 (ipykernel)",
   "language": "python",
   "name": "python3"
  },
  "language_info": {
   "codemirror_mode": {
    "name": "ipython",
    "version": 3
   },
   "file_extension": ".py",
   "mimetype": "text/x-python",
   "name": "python",
   "nbconvert_exporter": "python",
   "pygments_lexer": "ipython3",
   "version": "3.11.4"
  }
 },
 "nbformat": 4,
 "nbformat_minor": 5
}
